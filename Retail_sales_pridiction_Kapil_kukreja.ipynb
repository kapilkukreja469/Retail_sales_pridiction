{
  "nbformat": 4,
  "nbformat_minor": 0,
  "metadata": {
    "colab": {
      "provenance": [],
      "collapsed_sections": [
        "vncDsAP0Gaoa",
        "FJNUwmbgGyua",
        "w6K7xa23Elo4",
        "yQaldy8SH6Dl",
        "mDgbUHAGgjLW",
        "HhfV-JJviCcP",
        "nA9Y7ga8ng1Z",
        "gCX9965dhzqZ"
      ],
      "include_colab_link": true
    },
    "kernelspec": {
      "name": "python3",
      "display_name": "Python 3"
    },
    "language_info": {
      "name": "python"
    }
  },
  "cells": [
    {
      "cell_type": "markdown",
      "metadata": {
        "id": "view-in-github",
        "colab_type": "text"
      },
      "source": [
        "<a href=\"https://colab.research.google.com/github/kapilkukreja469/Retail_sales_pridiction/blob/main/Retail_sales_pridiction_Kapil_kukreja.ipynb\" target=\"_parent\"><img src=\"https://colab.research.google.com/assets/colab-badge.svg\" alt=\"Open In Colab\"/></a>"
      ]
    },
    {
      "cell_type": "markdown",
      "source": [
        "\n",
        "\n",
        "\n",
        "# **Project Name**    - Retail Sales Pridiction\n",
        "\n"
      ],
      "metadata": {
        "id": "vncDsAP0Gaoa"
      }
    },
    {
      "cell_type": "markdown",
      "source": [
        "##### **Project Type**    - Regression\n",
        "##### **Contribution**    - Individual\n",
        "##### **Submitted By**    -Kapil Kukreja\n"
      ],
      "metadata": {
        "id": "beRrZCGUAJYm"
      }
    },
    {
      "cell_type": "markdown",
      "source": [
        "# **Project Summary -**"
      ],
      "metadata": {
        "id": "FJNUwmbgGyua"
      }
    },
    {
      "cell_type": "markdown",
      "source": [
        "\n",
        "\n",
        "...........................Rossman Sales Prediction data contain historical sales data for a retail store chain. The data includes information about the store, such as Competitor’s Detail, type, holiday’s, as well as number of the customers and sales transaction, such as the date, time, and amount of sale on each day....................\n",
        "\n",
        "In this project we have done the following:\n",
        "\n",
        "\n",
        "*   Analysing the data for Null and Duplicate values and tackling them using different techniques\n",
        "*   Merging dataframes\n",
        "*   Handling Outliers and correcting the data types\n",
        "* Exploratory Data Analysis (EDA)\n",
        "* Hypothesis Testing between Categorical and Numerical variables\n",
        "* Categorical Encoding\n",
        "* Feature Manipulation\n",
        "* Scaling the data using Standard Transform\n",
        "* Splitting the data\n",
        "* Training different models\n",
        "* Pickled the best performing model for future use\n",
        "\n",
        "At the end of this notebook, we have also presented our Conclusion"
      ],
      "metadata": {
        "id": "F6v_1wHtG2nS"
      }
    },
    {
      "cell_type": "markdown",
      "source": [
        "# **GitHub Link -**"
      ],
      "metadata": {
        "id": "w6K7xa23Elo4"
      }
    },
    {
      "cell_type": "markdown",
      "source": [],
      "metadata": {
        "id": "h1o69JH3Eqqn"
      }
    },
    {
      "cell_type": "markdown",
      "source": [
        "# **Problem Statement**\n"
      ],
      "metadata": {
        "id": "yQaldy8SH6Dl"
      }
    },
    {
      "cell_type": "markdown",
      "source": [
        "Rossmann operates over 3,000 drug stores in 7 European countries. Currently, Rossmann store managers are tasked with predicting their daily sales for up to six weeks in advance. Store sales are influenced by many factors, including promotions, competition, school and state holidays, seasonality, and locality. With thousands of individual managers predicting sales based on their unique circumstances, the accuracy of results can be quite varied.\n",
        "You are provided with historical sales data for 1,115 Rossmann stores. The task is to forecast the \"Sales\" column for the test set. Note that some stores in the dataset were temporarily closed for refurbishment."
      ],
      "metadata": {
        "id": "DpeJGUA3kjGy"
      }
    },
    {
      "cell_type": "markdown",
      "source": [
        "# **General Guidelines** : -"
      ],
      "metadata": {
        "id": "mDgbUHAGgjLW"
      }
    },
    {
      "cell_type": "markdown",
      "source": [
        "1.   Well-structured, formatted, and commented code is required.\n",
        "2.   Exception Handling, Production Grade Code & Deployment Ready Code will be a plus. Those students will be awarded some additional credits.\n",
        "\n",
        "     The additional credits will have advantages over other students during Star Student selection.\n",
        "\n",
        "             [ Note: - Deployment Ready Code is defined as, the whole .ipynb notebook should be executable in one go\n",
        "                       without a single error logged. ]\n",
        "\n",
        "3.   Each and every logic should have proper comments.\n",
        "4. You may add as many number of charts you want. Make Sure for each and every chart the following format should be answered.\n",
        "\n",
        "\n",
        "```\n",
        "# Chart visualization code\n",
        "```\n",
        "\n",
        "\n",
        "*   Why did you pick the specific chart?\n",
        "*   What is/are the insight(s) found from the chart?\n",
        "* Will the gained insights help creating a positive business impact?\n",
        "Are there any insights that lead to negative growth? Justify with specific reason.\n",
        "\n",
        "5. You have to create at least 15 logical & meaningful charts having important insights.\n",
        "\n",
        "\n",
        "[ Hints : - Do the Vizualization in  a structured way while following \"UBM\" Rule.\n",
        "\n",
        "U - Univariate Analysis,\n",
        "\n",
        "B - Bivariate Analysis (Numerical - Categorical, Numerical - Numerical, Categorical - Categorical)\n",
        "\n",
        "M - Multivariate Analysis\n",
        " ]\n",
        "\n",
        "\n",
        "\n",
        "\n",
        "\n",
        "6. You may add more ml algorithms for model creation. Make sure for each and every algorithm, the following format should be answered.\n",
        "\n",
        "\n",
        "*   Explain the ML Model used and it's performance using Evaluation metric Score Chart.\n",
        "\n",
        "\n",
        "*   Cross- Validation & Hyperparameter Tuning\n",
        "\n",
        "*   Have you seen any improvement? Note down the improvement with updates Evaluation metric Score Chart.\n",
        "\n",
        "*   Explain each evaluation metric's indication towards business and the business impact pf the ML model used.\n",
        "\n",
        "\n",
        "\n",
        "\n",
        "\n",
        "\n",
        "\n",
        "\n",
        "\n",
        "\n",
        "\n",
        "\n",
        "\n",
        "\n",
        "\n",
        "\n",
        "\n",
        "\n"
      ],
      "metadata": {
        "id": "ZrxVaUj-hHfC"
      }
    },
    {
      "cell_type": "markdown",
      "source": [
        "# ***Let's Begin !***"
      ],
      "metadata": {
        "id": "O_i_v8NEhb9l"
      }
    },
    {
      "cell_type": "markdown",
      "source": [
        "## ***1. Know Your Data***"
      ],
      "metadata": {
        "id": "HhfV-JJviCcP"
      }
    },
    {
      "cell_type": "markdown",
      "source": [
        "### Import Libraries"
      ],
      "metadata": {
        "id": "Y3lxredqlCYt"
      }
    },
    {
      "cell_type": "code",
      "source": [
        "# Import Libraries\n",
        "import numpy as np                  #importing numpy library for working with arrays\n",
        "import pandas as pd                 #importing pandas library for working with data sets\n",
        "import matplotlib.pyplot as plt     #importing matplotlib library for creating static, animated, and interactive visualizations\n",
        "import seaborn as sns               #importing seaborn library for creating statistical graphics in Python\n",
        "import missingno as msno            # importing missingo library which helps us to visualize the missing values"
      ],
      "metadata": {
        "id": "M8Vqi-pPk-HR"
      },
      "execution_count": 1,
      "outputs": []
    },
    {
      "cell_type": "markdown",
      "source": [
        "### Dataset Loading"
      ],
      "metadata": {
        "id": "3RnN4peoiCZX"
      }
    },
    {
      "cell_type": "code",
      "source": [
        "# Load Dataset\n",
        "from google.colab import drive       #Mounting google drive to load csv data files stored in google drive\n",
        "drive.mount('/content/drive')\n"
      ],
      "metadata": {
        "id": "4CkvbW_SlZ_R",
        "colab": {
          "base_uri": "https://localhost:8080/"
        },
        "outputId": "47f956a2-d4f9-4711-c2d4-93b381a9d3bc"
      },
      "execution_count": 2,
      "outputs": [
        {
          "output_type": "stream",
          "name": "stdout",
          "text": [
            "Mounted at /content/drive\n"
          ]
        }
      ]
    },
    {
      "cell_type": "code",
      "source": [
        "df_rossmann = pd.read_csv(\"/content/drive/MyDrive/Retail_sales_pridiction project/Rossmann Stores Data.csv\")    #Creating dataframe for storing csv file\n",
        "df_store = pd.read_csv(\"/content/drive/MyDrive/Retail_sales_pridiction project/store.csv\")"
      ],
      "metadata": {
        "id": "LWNFOSvLl09H",
        "colab": {
          "base_uri": "https://localhost:8080/"
        },
        "outputId": "4aae5118-693c-49c7-f86c-42d2e35868d9"
      },
      "execution_count": 3,
      "outputs": [
        {
          "output_type": "stream",
          "name": "stderr",
          "text": [
            "<ipython-input-3-2077fdfb4b68>:1: DtypeWarning: Columns (7) have mixed types. Specify dtype option on import or set low_memory=False.\n",
            "  df_rossmann = pd.read_csv(\"/content/drive/MyDrive/Retail_sales_pridiction project/Rossmann Stores Data.csv\")    #Creating dataframe for storing csv file\n"
          ]
        }
      ]
    },
    {
      "cell_type": "markdown",
      "source": [
        "### Dataset First View"
      ],
      "metadata": {
        "id": "x71ZqKXriCWQ"
      }
    },
    {
      "cell_type": "code",
      "source": [
        "# Dataset First Look\n",
        "df_rossmann.head(10)      #First 10 records of rossmann data frame"
      ],
      "metadata": {
        "colab": {
          "base_uri": "https://localhost:8080/",
          "height": 0
        },
        "id": "xNdlYRSqiZIK",
        "outputId": "f337d47d-d9a5-4f38-b345-bea5bb1ce503"
      },
      "execution_count": 4,
      "outputs": [
        {
          "output_type": "execute_result",
          "data": {
            "text/plain": [
              "   Store  DayOfWeek        Date  Sales  Customers  Open  Promo StateHoliday  \\\n",
              "0      1          5  2015-07-31   5263        555     1      1            0   \n",
              "1      2          5  2015-07-31   6064        625     1      1            0   \n",
              "2      3          5  2015-07-31   8314        821     1      1            0   \n",
              "3      4          5  2015-07-31  13995       1498     1      1            0   \n",
              "4      5          5  2015-07-31   4822        559     1      1            0   \n",
              "5      6          5  2015-07-31   5651        589     1      1            0   \n",
              "6      7          5  2015-07-31  15344       1414     1      1            0   \n",
              "7      8          5  2015-07-31   8492        833     1      1            0   \n",
              "8      9          5  2015-07-31   8565        687     1      1            0   \n",
              "9     10          5  2015-07-31   7185        681     1      1            0   \n",
              "\n",
              "   SchoolHoliday  \n",
              "0              1  \n",
              "1              1  \n",
              "2              1  \n",
              "3              1  \n",
              "4              1  \n",
              "5              1  \n",
              "6              1  \n",
              "7              1  \n",
              "8              1  \n",
              "9              1  "
            ],
            "text/html": [
              "\n",
              "  <div id=\"df-4ff34485-9e3c-43e9-92e5-e892db7f99fc\">\n",
              "    <div class=\"colab-df-container\">\n",
              "      <div>\n",
              "<style scoped>\n",
              "    .dataframe tbody tr th:only-of-type {\n",
              "        vertical-align: middle;\n",
              "    }\n",
              "\n",
              "    .dataframe tbody tr th {\n",
              "        vertical-align: top;\n",
              "    }\n",
              "\n",
              "    .dataframe thead th {\n",
              "        text-align: right;\n",
              "    }\n",
              "</style>\n",
              "<table border=\"1\" class=\"dataframe\">\n",
              "  <thead>\n",
              "    <tr style=\"text-align: right;\">\n",
              "      <th></th>\n",
              "      <th>Store</th>\n",
              "      <th>DayOfWeek</th>\n",
              "      <th>Date</th>\n",
              "      <th>Sales</th>\n",
              "      <th>Customers</th>\n",
              "      <th>Open</th>\n",
              "      <th>Promo</th>\n",
              "      <th>StateHoliday</th>\n",
              "      <th>SchoolHoliday</th>\n",
              "    </tr>\n",
              "  </thead>\n",
              "  <tbody>\n",
              "    <tr>\n",
              "      <th>0</th>\n",
              "      <td>1</td>\n",
              "      <td>5</td>\n",
              "      <td>2015-07-31</td>\n",
              "      <td>5263</td>\n",
              "      <td>555</td>\n",
              "      <td>1</td>\n",
              "      <td>1</td>\n",
              "      <td>0</td>\n",
              "      <td>1</td>\n",
              "    </tr>\n",
              "    <tr>\n",
              "      <th>1</th>\n",
              "      <td>2</td>\n",
              "      <td>5</td>\n",
              "      <td>2015-07-31</td>\n",
              "      <td>6064</td>\n",
              "      <td>625</td>\n",
              "      <td>1</td>\n",
              "      <td>1</td>\n",
              "      <td>0</td>\n",
              "      <td>1</td>\n",
              "    </tr>\n",
              "    <tr>\n",
              "      <th>2</th>\n",
              "      <td>3</td>\n",
              "      <td>5</td>\n",
              "      <td>2015-07-31</td>\n",
              "      <td>8314</td>\n",
              "      <td>821</td>\n",
              "      <td>1</td>\n",
              "      <td>1</td>\n",
              "      <td>0</td>\n",
              "      <td>1</td>\n",
              "    </tr>\n",
              "    <tr>\n",
              "      <th>3</th>\n",
              "      <td>4</td>\n",
              "      <td>5</td>\n",
              "      <td>2015-07-31</td>\n",
              "      <td>13995</td>\n",
              "      <td>1498</td>\n",
              "      <td>1</td>\n",
              "      <td>1</td>\n",
              "      <td>0</td>\n",
              "      <td>1</td>\n",
              "    </tr>\n",
              "    <tr>\n",
              "      <th>4</th>\n",
              "      <td>5</td>\n",
              "      <td>5</td>\n",
              "      <td>2015-07-31</td>\n",
              "      <td>4822</td>\n",
              "      <td>559</td>\n",
              "      <td>1</td>\n",
              "      <td>1</td>\n",
              "      <td>0</td>\n",
              "      <td>1</td>\n",
              "    </tr>\n",
              "    <tr>\n",
              "      <th>5</th>\n",
              "      <td>6</td>\n",
              "      <td>5</td>\n",
              "      <td>2015-07-31</td>\n",
              "      <td>5651</td>\n",
              "      <td>589</td>\n",
              "      <td>1</td>\n",
              "      <td>1</td>\n",
              "      <td>0</td>\n",
              "      <td>1</td>\n",
              "    </tr>\n",
              "    <tr>\n",
              "      <th>6</th>\n",
              "      <td>7</td>\n",
              "      <td>5</td>\n",
              "      <td>2015-07-31</td>\n",
              "      <td>15344</td>\n",
              "      <td>1414</td>\n",
              "      <td>1</td>\n",
              "      <td>1</td>\n",
              "      <td>0</td>\n",
              "      <td>1</td>\n",
              "    </tr>\n",
              "    <tr>\n",
              "      <th>7</th>\n",
              "      <td>8</td>\n",
              "      <td>5</td>\n",
              "      <td>2015-07-31</td>\n",
              "      <td>8492</td>\n",
              "      <td>833</td>\n",
              "      <td>1</td>\n",
              "      <td>1</td>\n",
              "      <td>0</td>\n",
              "      <td>1</td>\n",
              "    </tr>\n",
              "    <tr>\n",
              "      <th>8</th>\n",
              "      <td>9</td>\n",
              "      <td>5</td>\n",
              "      <td>2015-07-31</td>\n",
              "      <td>8565</td>\n",
              "      <td>687</td>\n",
              "      <td>1</td>\n",
              "      <td>1</td>\n",
              "      <td>0</td>\n",
              "      <td>1</td>\n",
              "    </tr>\n",
              "    <tr>\n",
              "      <th>9</th>\n",
              "      <td>10</td>\n",
              "      <td>5</td>\n",
              "      <td>2015-07-31</td>\n",
              "      <td>7185</td>\n",
              "      <td>681</td>\n",
              "      <td>1</td>\n",
              "      <td>1</td>\n",
              "      <td>0</td>\n",
              "      <td>1</td>\n",
              "    </tr>\n",
              "  </tbody>\n",
              "</table>\n",
              "</div>\n",
              "      <button class=\"colab-df-convert\" onclick=\"convertToInteractive('df-4ff34485-9e3c-43e9-92e5-e892db7f99fc')\"\n",
              "              title=\"Convert this dataframe to an interactive table.\"\n",
              "              style=\"display:none;\">\n",
              "        \n",
              "  <svg xmlns=\"http://www.w3.org/2000/svg\" height=\"24px\"viewBox=\"0 0 24 24\"\n",
              "       width=\"24px\">\n",
              "    <path d=\"M0 0h24v24H0V0z\" fill=\"none\"/>\n",
              "    <path d=\"M18.56 5.44l.94 2.06.94-2.06 2.06-.94-2.06-.94-.94-2.06-.94 2.06-2.06.94zm-11 1L8.5 8.5l.94-2.06 2.06-.94-2.06-.94L8.5 2.5l-.94 2.06-2.06.94zm10 10l.94 2.06.94-2.06 2.06-.94-2.06-.94-.94-2.06-.94 2.06-2.06.94z\"/><path d=\"M17.41 7.96l-1.37-1.37c-.4-.4-.92-.59-1.43-.59-.52 0-1.04.2-1.43.59L10.3 9.45l-7.72 7.72c-.78.78-.78 2.05 0 2.83L4 21.41c.39.39.9.59 1.41.59.51 0 1.02-.2 1.41-.59l7.78-7.78 2.81-2.81c.8-.78.8-2.07 0-2.86zM5.41 20L4 18.59l7.72-7.72 1.47 1.35L5.41 20z\"/>\n",
              "  </svg>\n",
              "      </button>\n",
              "      \n",
              "  <style>\n",
              "    .colab-df-container {\n",
              "      display:flex;\n",
              "      flex-wrap:wrap;\n",
              "      gap: 12px;\n",
              "    }\n",
              "\n",
              "    .colab-df-convert {\n",
              "      background-color: #E8F0FE;\n",
              "      border: none;\n",
              "      border-radius: 50%;\n",
              "      cursor: pointer;\n",
              "      display: none;\n",
              "      fill: #1967D2;\n",
              "      height: 32px;\n",
              "      padding: 0 0 0 0;\n",
              "      width: 32px;\n",
              "    }\n",
              "\n",
              "    .colab-df-convert:hover {\n",
              "      background-color: #E2EBFA;\n",
              "      box-shadow: 0px 1px 2px rgba(60, 64, 67, 0.3), 0px 1px 3px 1px rgba(60, 64, 67, 0.15);\n",
              "      fill: #174EA6;\n",
              "    }\n",
              "\n",
              "    [theme=dark] .colab-df-convert {\n",
              "      background-color: #3B4455;\n",
              "      fill: #D2E3FC;\n",
              "    }\n",
              "\n",
              "    [theme=dark] .colab-df-convert:hover {\n",
              "      background-color: #434B5C;\n",
              "      box-shadow: 0px 1px 3px 1px rgba(0, 0, 0, 0.15);\n",
              "      filter: drop-shadow(0px 1px 2px rgba(0, 0, 0, 0.3));\n",
              "      fill: #FFFFFF;\n",
              "    }\n",
              "  </style>\n",
              "\n",
              "      <script>\n",
              "        const buttonEl =\n",
              "          document.querySelector('#df-4ff34485-9e3c-43e9-92e5-e892db7f99fc button.colab-df-convert');\n",
              "        buttonEl.style.display =\n",
              "          google.colab.kernel.accessAllowed ? 'block' : 'none';\n",
              "\n",
              "        async function convertToInteractive(key) {\n",
              "          const element = document.querySelector('#df-4ff34485-9e3c-43e9-92e5-e892db7f99fc');\n",
              "          const dataTable =\n",
              "            await google.colab.kernel.invokeFunction('convertToInteractive',\n",
              "                                                     [key], {});\n",
              "          if (!dataTable) return;\n",
              "\n",
              "          const docLinkHtml = 'Like what you see? Visit the ' +\n",
              "            '<a target=\"_blank\" href=https://colab.research.google.com/notebooks/data_table.ipynb>data table notebook</a>'\n",
              "            + ' to learn more about interactive tables.';\n",
              "          element.innerHTML = '';\n",
              "          dataTable['output_type'] = 'display_data';\n",
              "          await google.colab.output.renderOutput(dataTable, element);\n",
              "          const docLink = document.createElement('div');\n",
              "          docLink.innerHTML = docLinkHtml;\n",
              "          element.appendChild(docLink);\n",
              "        }\n",
              "      </script>\n",
              "    </div>\n",
              "  </div>\n",
              "  "
            ]
          },
          "metadata": {},
          "execution_count": 4
        }
      ]
    },
    {
      "cell_type": "code",
      "source": [
        "df_rossmann.tail(10)      #Last 10 records of rossmann data frame"
      ],
      "metadata": {
        "colab": {
          "base_uri": "https://localhost:8080/",
          "height": 0
        },
        "id": "-Z91ivpBhhve",
        "outputId": "178c6762-c7e5-438e-e4ff-bb9873102dfa"
      },
      "execution_count": 5,
      "outputs": [
        {
          "output_type": "execute_result",
          "data": {
            "text/plain": [
              "         Store  DayOfWeek        Date  Sales  Customers  Open  Promo  \\\n",
              "1017199   1106          2  2013-01-01      0          0     0      0   \n",
              "1017200   1107          2  2013-01-01      0          0     0      0   \n",
              "1017201   1108          2  2013-01-01      0          0     0      0   \n",
              "1017202   1109          2  2013-01-01      0          0     0      0   \n",
              "1017203   1110          2  2013-01-01      0          0     0      0   \n",
              "1017204   1111          2  2013-01-01      0          0     0      0   \n",
              "1017205   1112          2  2013-01-01      0          0     0      0   \n",
              "1017206   1113          2  2013-01-01      0          0     0      0   \n",
              "1017207   1114          2  2013-01-01      0          0     0      0   \n",
              "1017208   1115          2  2013-01-01      0          0     0      0   \n",
              "\n",
              "        StateHoliday  SchoolHoliday  \n",
              "1017199            a              1  \n",
              "1017200            a              1  \n",
              "1017201            a              1  \n",
              "1017202            a              1  \n",
              "1017203            a              1  \n",
              "1017204            a              1  \n",
              "1017205            a              1  \n",
              "1017206            a              1  \n",
              "1017207            a              1  \n",
              "1017208            a              1  "
            ],
            "text/html": [
              "\n",
              "  <div id=\"df-9cf43a2b-ff18-4ee1-b216-0f79cfe8817d\">\n",
              "    <div class=\"colab-df-container\">\n",
              "      <div>\n",
              "<style scoped>\n",
              "    .dataframe tbody tr th:only-of-type {\n",
              "        vertical-align: middle;\n",
              "    }\n",
              "\n",
              "    .dataframe tbody tr th {\n",
              "        vertical-align: top;\n",
              "    }\n",
              "\n",
              "    .dataframe thead th {\n",
              "        text-align: right;\n",
              "    }\n",
              "</style>\n",
              "<table border=\"1\" class=\"dataframe\">\n",
              "  <thead>\n",
              "    <tr style=\"text-align: right;\">\n",
              "      <th></th>\n",
              "      <th>Store</th>\n",
              "      <th>DayOfWeek</th>\n",
              "      <th>Date</th>\n",
              "      <th>Sales</th>\n",
              "      <th>Customers</th>\n",
              "      <th>Open</th>\n",
              "      <th>Promo</th>\n",
              "      <th>StateHoliday</th>\n",
              "      <th>SchoolHoliday</th>\n",
              "    </tr>\n",
              "  </thead>\n",
              "  <tbody>\n",
              "    <tr>\n",
              "      <th>1017199</th>\n",
              "      <td>1106</td>\n",
              "      <td>2</td>\n",
              "      <td>2013-01-01</td>\n",
              "      <td>0</td>\n",
              "      <td>0</td>\n",
              "      <td>0</td>\n",
              "      <td>0</td>\n",
              "      <td>a</td>\n",
              "      <td>1</td>\n",
              "    </tr>\n",
              "    <tr>\n",
              "      <th>1017200</th>\n",
              "      <td>1107</td>\n",
              "      <td>2</td>\n",
              "      <td>2013-01-01</td>\n",
              "      <td>0</td>\n",
              "      <td>0</td>\n",
              "      <td>0</td>\n",
              "      <td>0</td>\n",
              "      <td>a</td>\n",
              "      <td>1</td>\n",
              "    </tr>\n",
              "    <tr>\n",
              "      <th>1017201</th>\n",
              "      <td>1108</td>\n",
              "      <td>2</td>\n",
              "      <td>2013-01-01</td>\n",
              "      <td>0</td>\n",
              "      <td>0</td>\n",
              "      <td>0</td>\n",
              "      <td>0</td>\n",
              "      <td>a</td>\n",
              "      <td>1</td>\n",
              "    </tr>\n",
              "    <tr>\n",
              "      <th>1017202</th>\n",
              "      <td>1109</td>\n",
              "      <td>2</td>\n",
              "      <td>2013-01-01</td>\n",
              "      <td>0</td>\n",
              "      <td>0</td>\n",
              "      <td>0</td>\n",
              "      <td>0</td>\n",
              "      <td>a</td>\n",
              "      <td>1</td>\n",
              "    </tr>\n",
              "    <tr>\n",
              "      <th>1017203</th>\n",
              "      <td>1110</td>\n",
              "      <td>2</td>\n",
              "      <td>2013-01-01</td>\n",
              "      <td>0</td>\n",
              "      <td>0</td>\n",
              "      <td>0</td>\n",
              "      <td>0</td>\n",
              "      <td>a</td>\n",
              "      <td>1</td>\n",
              "    </tr>\n",
              "    <tr>\n",
              "      <th>1017204</th>\n",
              "      <td>1111</td>\n",
              "      <td>2</td>\n",
              "      <td>2013-01-01</td>\n",
              "      <td>0</td>\n",
              "      <td>0</td>\n",
              "      <td>0</td>\n",
              "      <td>0</td>\n",
              "      <td>a</td>\n",
              "      <td>1</td>\n",
              "    </tr>\n",
              "    <tr>\n",
              "      <th>1017205</th>\n",
              "      <td>1112</td>\n",
              "      <td>2</td>\n",
              "      <td>2013-01-01</td>\n",
              "      <td>0</td>\n",
              "      <td>0</td>\n",
              "      <td>0</td>\n",
              "      <td>0</td>\n",
              "      <td>a</td>\n",
              "      <td>1</td>\n",
              "    </tr>\n",
              "    <tr>\n",
              "      <th>1017206</th>\n",
              "      <td>1113</td>\n",
              "      <td>2</td>\n",
              "      <td>2013-01-01</td>\n",
              "      <td>0</td>\n",
              "      <td>0</td>\n",
              "      <td>0</td>\n",
              "      <td>0</td>\n",
              "      <td>a</td>\n",
              "      <td>1</td>\n",
              "    </tr>\n",
              "    <tr>\n",
              "      <th>1017207</th>\n",
              "      <td>1114</td>\n",
              "      <td>2</td>\n",
              "      <td>2013-01-01</td>\n",
              "      <td>0</td>\n",
              "      <td>0</td>\n",
              "      <td>0</td>\n",
              "      <td>0</td>\n",
              "      <td>a</td>\n",
              "      <td>1</td>\n",
              "    </tr>\n",
              "    <tr>\n",
              "      <th>1017208</th>\n",
              "      <td>1115</td>\n",
              "      <td>2</td>\n",
              "      <td>2013-01-01</td>\n",
              "      <td>0</td>\n",
              "      <td>0</td>\n",
              "      <td>0</td>\n",
              "      <td>0</td>\n",
              "      <td>a</td>\n",
              "      <td>1</td>\n",
              "    </tr>\n",
              "  </tbody>\n",
              "</table>\n",
              "</div>\n",
              "      <button class=\"colab-df-convert\" onclick=\"convertToInteractive('df-9cf43a2b-ff18-4ee1-b216-0f79cfe8817d')\"\n",
              "              title=\"Convert this dataframe to an interactive table.\"\n",
              "              style=\"display:none;\">\n",
              "        \n",
              "  <svg xmlns=\"http://www.w3.org/2000/svg\" height=\"24px\"viewBox=\"0 0 24 24\"\n",
              "       width=\"24px\">\n",
              "    <path d=\"M0 0h24v24H0V0z\" fill=\"none\"/>\n",
              "    <path d=\"M18.56 5.44l.94 2.06.94-2.06 2.06-.94-2.06-.94-.94-2.06-.94 2.06-2.06.94zm-11 1L8.5 8.5l.94-2.06 2.06-.94-2.06-.94L8.5 2.5l-.94 2.06-2.06.94zm10 10l.94 2.06.94-2.06 2.06-.94-2.06-.94-.94-2.06-.94 2.06-2.06.94z\"/><path d=\"M17.41 7.96l-1.37-1.37c-.4-.4-.92-.59-1.43-.59-.52 0-1.04.2-1.43.59L10.3 9.45l-7.72 7.72c-.78.78-.78 2.05 0 2.83L4 21.41c.39.39.9.59 1.41.59.51 0 1.02-.2 1.41-.59l7.78-7.78 2.81-2.81c.8-.78.8-2.07 0-2.86zM5.41 20L4 18.59l7.72-7.72 1.47 1.35L5.41 20z\"/>\n",
              "  </svg>\n",
              "      </button>\n",
              "      \n",
              "  <style>\n",
              "    .colab-df-container {\n",
              "      display:flex;\n",
              "      flex-wrap:wrap;\n",
              "      gap: 12px;\n",
              "    }\n",
              "\n",
              "    .colab-df-convert {\n",
              "      background-color: #E8F0FE;\n",
              "      border: none;\n",
              "      border-radius: 50%;\n",
              "      cursor: pointer;\n",
              "      display: none;\n",
              "      fill: #1967D2;\n",
              "      height: 32px;\n",
              "      padding: 0 0 0 0;\n",
              "      width: 32px;\n",
              "    }\n",
              "\n",
              "    .colab-df-convert:hover {\n",
              "      background-color: #E2EBFA;\n",
              "      box-shadow: 0px 1px 2px rgba(60, 64, 67, 0.3), 0px 1px 3px 1px rgba(60, 64, 67, 0.15);\n",
              "      fill: #174EA6;\n",
              "    }\n",
              "\n",
              "    [theme=dark] .colab-df-convert {\n",
              "      background-color: #3B4455;\n",
              "      fill: #D2E3FC;\n",
              "    }\n",
              "\n",
              "    [theme=dark] .colab-df-convert:hover {\n",
              "      background-color: #434B5C;\n",
              "      box-shadow: 0px 1px 3px 1px rgba(0, 0, 0, 0.15);\n",
              "      filter: drop-shadow(0px 1px 2px rgba(0, 0, 0, 0.3));\n",
              "      fill: #FFFFFF;\n",
              "    }\n",
              "  </style>\n",
              "\n",
              "      <script>\n",
              "        const buttonEl =\n",
              "          document.querySelector('#df-9cf43a2b-ff18-4ee1-b216-0f79cfe8817d button.colab-df-convert');\n",
              "        buttonEl.style.display =\n",
              "          google.colab.kernel.accessAllowed ? 'block' : 'none';\n",
              "\n",
              "        async function convertToInteractive(key) {\n",
              "          const element = document.querySelector('#df-9cf43a2b-ff18-4ee1-b216-0f79cfe8817d');\n",
              "          const dataTable =\n",
              "            await google.colab.kernel.invokeFunction('convertToInteractive',\n",
              "                                                     [key], {});\n",
              "          if (!dataTable) return;\n",
              "\n",
              "          const docLinkHtml = 'Like what you see? Visit the ' +\n",
              "            '<a target=\"_blank\" href=https://colab.research.google.com/notebooks/data_table.ipynb>data table notebook</a>'\n",
              "            + ' to learn more about interactive tables.';\n",
              "          element.innerHTML = '';\n",
              "          dataTable['output_type'] = 'display_data';\n",
              "          await google.colab.output.renderOutput(dataTable, element);\n",
              "          const docLink = document.createElement('div');\n",
              "          docLink.innerHTML = docLinkHtml;\n",
              "          element.appendChild(docLink);\n",
              "        }\n",
              "      </script>\n",
              "    </div>\n",
              "  </div>\n",
              "  "
            ]
          },
          "metadata": {},
          "execution_count": 5
        }
      ]
    },
    {
      "cell_type": "code",
      "source": [
        "df_store.head(10)         #First 10 records of Store data frame"
      ],
      "metadata": {
        "colab": {
          "base_uri": "https://localhost:8080/",
          "height": 0
        },
        "id": "t9TltENchhzM",
        "outputId": "1b246528-bebf-4dc3-dfd6-42e94a53cad8"
      },
      "execution_count": 6,
      "outputs": [
        {
          "output_type": "execute_result",
          "data": {
            "text/plain": [
              "   Store StoreType Assortment  CompetitionDistance  CompetitionOpenSinceMonth  \\\n",
              "0      1         c          a               1270.0                        9.0   \n",
              "1      2         a          a                570.0                       11.0   \n",
              "2      3         a          a              14130.0                       12.0   \n",
              "3      4         c          c                620.0                        9.0   \n",
              "4      5         a          a              29910.0                        4.0   \n",
              "5      6         a          a                310.0                       12.0   \n",
              "6      7         a          c              24000.0                        4.0   \n",
              "7      8         a          a               7520.0                       10.0   \n",
              "8      9         a          c               2030.0                        8.0   \n",
              "9     10         a          a               3160.0                        9.0   \n",
              "\n",
              "   CompetitionOpenSinceYear  Promo2  Promo2SinceWeek  Promo2SinceYear  \\\n",
              "0                    2008.0       0              NaN              NaN   \n",
              "1                    2007.0       1             13.0           2010.0   \n",
              "2                    2006.0       1             14.0           2011.0   \n",
              "3                    2009.0       0              NaN              NaN   \n",
              "4                    2015.0       0              NaN              NaN   \n",
              "5                    2013.0       0              NaN              NaN   \n",
              "6                    2013.0       0              NaN              NaN   \n",
              "7                    2014.0       0              NaN              NaN   \n",
              "8                    2000.0       0              NaN              NaN   \n",
              "9                    2009.0       0              NaN              NaN   \n",
              "\n",
              "     PromoInterval  \n",
              "0              NaN  \n",
              "1  Jan,Apr,Jul,Oct  \n",
              "2  Jan,Apr,Jul,Oct  \n",
              "3              NaN  \n",
              "4              NaN  \n",
              "5              NaN  \n",
              "6              NaN  \n",
              "7              NaN  \n",
              "8              NaN  \n",
              "9              NaN  "
            ],
            "text/html": [
              "\n",
              "  <div id=\"df-1d2551e9-29a0-4635-b5bf-5db4ee500344\">\n",
              "    <div class=\"colab-df-container\">\n",
              "      <div>\n",
              "<style scoped>\n",
              "    .dataframe tbody tr th:only-of-type {\n",
              "        vertical-align: middle;\n",
              "    }\n",
              "\n",
              "    .dataframe tbody tr th {\n",
              "        vertical-align: top;\n",
              "    }\n",
              "\n",
              "    .dataframe thead th {\n",
              "        text-align: right;\n",
              "    }\n",
              "</style>\n",
              "<table border=\"1\" class=\"dataframe\">\n",
              "  <thead>\n",
              "    <tr style=\"text-align: right;\">\n",
              "      <th></th>\n",
              "      <th>Store</th>\n",
              "      <th>StoreType</th>\n",
              "      <th>Assortment</th>\n",
              "      <th>CompetitionDistance</th>\n",
              "      <th>CompetitionOpenSinceMonth</th>\n",
              "      <th>CompetitionOpenSinceYear</th>\n",
              "      <th>Promo2</th>\n",
              "      <th>Promo2SinceWeek</th>\n",
              "      <th>Promo2SinceYear</th>\n",
              "      <th>PromoInterval</th>\n",
              "    </tr>\n",
              "  </thead>\n",
              "  <tbody>\n",
              "    <tr>\n",
              "      <th>0</th>\n",
              "      <td>1</td>\n",
              "      <td>c</td>\n",
              "      <td>a</td>\n",
              "      <td>1270.0</td>\n",
              "      <td>9.0</td>\n",
              "      <td>2008.0</td>\n",
              "      <td>0</td>\n",
              "      <td>NaN</td>\n",
              "      <td>NaN</td>\n",
              "      <td>NaN</td>\n",
              "    </tr>\n",
              "    <tr>\n",
              "      <th>1</th>\n",
              "      <td>2</td>\n",
              "      <td>a</td>\n",
              "      <td>a</td>\n",
              "      <td>570.0</td>\n",
              "      <td>11.0</td>\n",
              "      <td>2007.0</td>\n",
              "      <td>1</td>\n",
              "      <td>13.0</td>\n",
              "      <td>2010.0</td>\n",
              "      <td>Jan,Apr,Jul,Oct</td>\n",
              "    </tr>\n",
              "    <tr>\n",
              "      <th>2</th>\n",
              "      <td>3</td>\n",
              "      <td>a</td>\n",
              "      <td>a</td>\n",
              "      <td>14130.0</td>\n",
              "      <td>12.0</td>\n",
              "      <td>2006.0</td>\n",
              "      <td>1</td>\n",
              "      <td>14.0</td>\n",
              "      <td>2011.0</td>\n",
              "      <td>Jan,Apr,Jul,Oct</td>\n",
              "    </tr>\n",
              "    <tr>\n",
              "      <th>3</th>\n",
              "      <td>4</td>\n",
              "      <td>c</td>\n",
              "      <td>c</td>\n",
              "      <td>620.0</td>\n",
              "      <td>9.0</td>\n",
              "      <td>2009.0</td>\n",
              "      <td>0</td>\n",
              "      <td>NaN</td>\n",
              "      <td>NaN</td>\n",
              "      <td>NaN</td>\n",
              "    </tr>\n",
              "    <tr>\n",
              "      <th>4</th>\n",
              "      <td>5</td>\n",
              "      <td>a</td>\n",
              "      <td>a</td>\n",
              "      <td>29910.0</td>\n",
              "      <td>4.0</td>\n",
              "      <td>2015.0</td>\n",
              "      <td>0</td>\n",
              "      <td>NaN</td>\n",
              "      <td>NaN</td>\n",
              "      <td>NaN</td>\n",
              "    </tr>\n",
              "    <tr>\n",
              "      <th>5</th>\n",
              "      <td>6</td>\n",
              "      <td>a</td>\n",
              "      <td>a</td>\n",
              "      <td>310.0</td>\n",
              "      <td>12.0</td>\n",
              "      <td>2013.0</td>\n",
              "      <td>0</td>\n",
              "      <td>NaN</td>\n",
              "      <td>NaN</td>\n",
              "      <td>NaN</td>\n",
              "    </tr>\n",
              "    <tr>\n",
              "      <th>6</th>\n",
              "      <td>7</td>\n",
              "      <td>a</td>\n",
              "      <td>c</td>\n",
              "      <td>24000.0</td>\n",
              "      <td>4.0</td>\n",
              "      <td>2013.0</td>\n",
              "      <td>0</td>\n",
              "      <td>NaN</td>\n",
              "      <td>NaN</td>\n",
              "      <td>NaN</td>\n",
              "    </tr>\n",
              "    <tr>\n",
              "      <th>7</th>\n",
              "      <td>8</td>\n",
              "      <td>a</td>\n",
              "      <td>a</td>\n",
              "      <td>7520.0</td>\n",
              "      <td>10.0</td>\n",
              "      <td>2014.0</td>\n",
              "      <td>0</td>\n",
              "      <td>NaN</td>\n",
              "      <td>NaN</td>\n",
              "      <td>NaN</td>\n",
              "    </tr>\n",
              "    <tr>\n",
              "      <th>8</th>\n",
              "      <td>9</td>\n",
              "      <td>a</td>\n",
              "      <td>c</td>\n",
              "      <td>2030.0</td>\n",
              "      <td>8.0</td>\n",
              "      <td>2000.0</td>\n",
              "      <td>0</td>\n",
              "      <td>NaN</td>\n",
              "      <td>NaN</td>\n",
              "      <td>NaN</td>\n",
              "    </tr>\n",
              "    <tr>\n",
              "      <th>9</th>\n",
              "      <td>10</td>\n",
              "      <td>a</td>\n",
              "      <td>a</td>\n",
              "      <td>3160.0</td>\n",
              "      <td>9.0</td>\n",
              "      <td>2009.0</td>\n",
              "      <td>0</td>\n",
              "      <td>NaN</td>\n",
              "      <td>NaN</td>\n",
              "      <td>NaN</td>\n",
              "    </tr>\n",
              "  </tbody>\n",
              "</table>\n",
              "</div>\n",
              "      <button class=\"colab-df-convert\" onclick=\"convertToInteractive('df-1d2551e9-29a0-4635-b5bf-5db4ee500344')\"\n",
              "              title=\"Convert this dataframe to an interactive table.\"\n",
              "              style=\"display:none;\">\n",
              "        \n",
              "  <svg xmlns=\"http://www.w3.org/2000/svg\" height=\"24px\"viewBox=\"0 0 24 24\"\n",
              "       width=\"24px\">\n",
              "    <path d=\"M0 0h24v24H0V0z\" fill=\"none\"/>\n",
              "    <path d=\"M18.56 5.44l.94 2.06.94-2.06 2.06-.94-2.06-.94-.94-2.06-.94 2.06-2.06.94zm-11 1L8.5 8.5l.94-2.06 2.06-.94-2.06-.94L8.5 2.5l-.94 2.06-2.06.94zm10 10l.94 2.06.94-2.06 2.06-.94-2.06-.94-.94-2.06-.94 2.06-2.06.94z\"/><path d=\"M17.41 7.96l-1.37-1.37c-.4-.4-.92-.59-1.43-.59-.52 0-1.04.2-1.43.59L10.3 9.45l-7.72 7.72c-.78.78-.78 2.05 0 2.83L4 21.41c.39.39.9.59 1.41.59.51 0 1.02-.2 1.41-.59l7.78-7.78 2.81-2.81c.8-.78.8-2.07 0-2.86zM5.41 20L4 18.59l7.72-7.72 1.47 1.35L5.41 20z\"/>\n",
              "  </svg>\n",
              "      </button>\n",
              "      \n",
              "  <style>\n",
              "    .colab-df-container {\n",
              "      display:flex;\n",
              "      flex-wrap:wrap;\n",
              "      gap: 12px;\n",
              "    }\n",
              "\n",
              "    .colab-df-convert {\n",
              "      background-color: #E8F0FE;\n",
              "      border: none;\n",
              "      border-radius: 50%;\n",
              "      cursor: pointer;\n",
              "      display: none;\n",
              "      fill: #1967D2;\n",
              "      height: 32px;\n",
              "      padding: 0 0 0 0;\n",
              "      width: 32px;\n",
              "    }\n",
              "\n",
              "    .colab-df-convert:hover {\n",
              "      background-color: #E2EBFA;\n",
              "      box-shadow: 0px 1px 2px rgba(60, 64, 67, 0.3), 0px 1px 3px 1px rgba(60, 64, 67, 0.15);\n",
              "      fill: #174EA6;\n",
              "    }\n",
              "\n",
              "    [theme=dark] .colab-df-convert {\n",
              "      background-color: #3B4455;\n",
              "      fill: #D2E3FC;\n",
              "    }\n",
              "\n",
              "    [theme=dark] .colab-df-convert:hover {\n",
              "      background-color: #434B5C;\n",
              "      box-shadow: 0px 1px 3px 1px rgba(0, 0, 0, 0.15);\n",
              "      filter: drop-shadow(0px 1px 2px rgba(0, 0, 0, 0.3));\n",
              "      fill: #FFFFFF;\n",
              "    }\n",
              "  </style>\n",
              "\n",
              "      <script>\n",
              "        const buttonEl =\n",
              "          document.querySelector('#df-1d2551e9-29a0-4635-b5bf-5db4ee500344 button.colab-df-convert');\n",
              "        buttonEl.style.display =\n",
              "          google.colab.kernel.accessAllowed ? 'block' : 'none';\n",
              "\n",
              "        async function convertToInteractive(key) {\n",
              "          const element = document.querySelector('#df-1d2551e9-29a0-4635-b5bf-5db4ee500344');\n",
              "          const dataTable =\n",
              "            await google.colab.kernel.invokeFunction('convertToInteractive',\n",
              "                                                     [key], {});\n",
              "          if (!dataTable) return;\n",
              "\n",
              "          const docLinkHtml = 'Like what you see? Visit the ' +\n",
              "            '<a target=\"_blank\" href=https://colab.research.google.com/notebooks/data_table.ipynb>data table notebook</a>'\n",
              "            + ' to learn more about interactive tables.';\n",
              "          element.innerHTML = '';\n",
              "          dataTable['output_type'] = 'display_data';\n",
              "          await google.colab.output.renderOutput(dataTable, element);\n",
              "          const docLink = document.createElement('div');\n",
              "          docLink.innerHTML = docLinkHtml;\n",
              "          element.appendChild(docLink);\n",
              "        }\n",
              "      </script>\n",
              "    </div>\n",
              "  </div>\n",
              "  "
            ]
          },
          "metadata": {},
          "execution_count": 6
        }
      ]
    },
    {
      "cell_type": "code",
      "source": [
        "df_store.tail(10)        #Last 10 records of Store data frame"
      ],
      "metadata": {
        "colab": {
          "base_uri": "https://localhost:8080/",
          "height": 0
        },
        "id": "De7YY7TMhh3Z",
        "outputId": "82e3e803-a984-46e8-bc28-a6bd6b9bc343"
      },
      "execution_count": 7,
      "outputs": [
        {
          "output_type": "execute_result",
          "data": {
            "text/plain": [
              "      Store StoreType Assortment  CompetitionDistance  \\\n",
              "1105   1106         a          c               5330.0   \n",
              "1106   1107         a          a               1400.0   \n",
              "1107   1108         a          a                540.0   \n",
              "1108   1109         c          a               3490.0   \n",
              "1109   1110         c          c                900.0   \n",
              "1110   1111         a          a               1900.0   \n",
              "1111   1112         c          c               1880.0   \n",
              "1112   1113         a          c               9260.0   \n",
              "1113   1114         a          c                870.0   \n",
              "1114   1115         d          c               5350.0   \n",
              "\n",
              "      CompetitionOpenSinceMonth  CompetitionOpenSinceYear  Promo2  \\\n",
              "1105                        9.0                    2011.0       1   \n",
              "1106                        6.0                    2012.0       1   \n",
              "1107                        4.0                    2004.0       0   \n",
              "1108                        4.0                    2011.0       1   \n",
              "1109                        9.0                    2010.0       0   \n",
              "1110                        6.0                    2014.0       1   \n",
              "1111                        4.0                    2006.0       0   \n",
              "1112                        NaN                       NaN       0   \n",
              "1113                        NaN                       NaN       0   \n",
              "1114                        NaN                       NaN       1   \n",
              "\n",
              "      Promo2SinceWeek  Promo2SinceYear     PromoInterval  \n",
              "1105             31.0           2013.0   Jan,Apr,Jul,Oct  \n",
              "1106             13.0           2010.0   Jan,Apr,Jul,Oct  \n",
              "1107              NaN              NaN               NaN  \n",
              "1108             22.0           2012.0   Jan,Apr,Jul,Oct  \n",
              "1109              NaN              NaN               NaN  \n",
              "1110             31.0           2013.0   Jan,Apr,Jul,Oct  \n",
              "1111              NaN              NaN               NaN  \n",
              "1112              NaN              NaN               NaN  \n",
              "1113              NaN              NaN               NaN  \n",
              "1114             22.0           2012.0  Mar,Jun,Sept,Dec  "
            ],
            "text/html": [
              "\n",
              "  <div id=\"df-240a25ee-9b69-478a-9490-31f0384a8a21\">\n",
              "    <div class=\"colab-df-container\">\n",
              "      <div>\n",
              "<style scoped>\n",
              "    .dataframe tbody tr th:only-of-type {\n",
              "        vertical-align: middle;\n",
              "    }\n",
              "\n",
              "    .dataframe tbody tr th {\n",
              "        vertical-align: top;\n",
              "    }\n",
              "\n",
              "    .dataframe thead th {\n",
              "        text-align: right;\n",
              "    }\n",
              "</style>\n",
              "<table border=\"1\" class=\"dataframe\">\n",
              "  <thead>\n",
              "    <tr style=\"text-align: right;\">\n",
              "      <th></th>\n",
              "      <th>Store</th>\n",
              "      <th>StoreType</th>\n",
              "      <th>Assortment</th>\n",
              "      <th>CompetitionDistance</th>\n",
              "      <th>CompetitionOpenSinceMonth</th>\n",
              "      <th>CompetitionOpenSinceYear</th>\n",
              "      <th>Promo2</th>\n",
              "      <th>Promo2SinceWeek</th>\n",
              "      <th>Promo2SinceYear</th>\n",
              "      <th>PromoInterval</th>\n",
              "    </tr>\n",
              "  </thead>\n",
              "  <tbody>\n",
              "    <tr>\n",
              "      <th>1105</th>\n",
              "      <td>1106</td>\n",
              "      <td>a</td>\n",
              "      <td>c</td>\n",
              "      <td>5330.0</td>\n",
              "      <td>9.0</td>\n",
              "      <td>2011.0</td>\n",
              "      <td>1</td>\n",
              "      <td>31.0</td>\n",
              "      <td>2013.0</td>\n",
              "      <td>Jan,Apr,Jul,Oct</td>\n",
              "    </tr>\n",
              "    <tr>\n",
              "      <th>1106</th>\n",
              "      <td>1107</td>\n",
              "      <td>a</td>\n",
              "      <td>a</td>\n",
              "      <td>1400.0</td>\n",
              "      <td>6.0</td>\n",
              "      <td>2012.0</td>\n",
              "      <td>1</td>\n",
              "      <td>13.0</td>\n",
              "      <td>2010.0</td>\n",
              "      <td>Jan,Apr,Jul,Oct</td>\n",
              "    </tr>\n",
              "    <tr>\n",
              "      <th>1107</th>\n",
              "      <td>1108</td>\n",
              "      <td>a</td>\n",
              "      <td>a</td>\n",
              "      <td>540.0</td>\n",
              "      <td>4.0</td>\n",
              "      <td>2004.0</td>\n",
              "      <td>0</td>\n",
              "      <td>NaN</td>\n",
              "      <td>NaN</td>\n",
              "      <td>NaN</td>\n",
              "    </tr>\n",
              "    <tr>\n",
              "      <th>1108</th>\n",
              "      <td>1109</td>\n",
              "      <td>c</td>\n",
              "      <td>a</td>\n",
              "      <td>3490.0</td>\n",
              "      <td>4.0</td>\n",
              "      <td>2011.0</td>\n",
              "      <td>1</td>\n",
              "      <td>22.0</td>\n",
              "      <td>2012.0</td>\n",
              "      <td>Jan,Apr,Jul,Oct</td>\n",
              "    </tr>\n",
              "    <tr>\n",
              "      <th>1109</th>\n",
              "      <td>1110</td>\n",
              "      <td>c</td>\n",
              "      <td>c</td>\n",
              "      <td>900.0</td>\n",
              "      <td>9.0</td>\n",
              "      <td>2010.0</td>\n",
              "      <td>0</td>\n",
              "      <td>NaN</td>\n",
              "      <td>NaN</td>\n",
              "      <td>NaN</td>\n",
              "    </tr>\n",
              "    <tr>\n",
              "      <th>1110</th>\n",
              "      <td>1111</td>\n",
              "      <td>a</td>\n",
              "      <td>a</td>\n",
              "      <td>1900.0</td>\n",
              "      <td>6.0</td>\n",
              "      <td>2014.0</td>\n",
              "      <td>1</td>\n",
              "      <td>31.0</td>\n",
              "      <td>2013.0</td>\n",
              "      <td>Jan,Apr,Jul,Oct</td>\n",
              "    </tr>\n",
              "    <tr>\n",
              "      <th>1111</th>\n",
              "      <td>1112</td>\n",
              "      <td>c</td>\n",
              "      <td>c</td>\n",
              "      <td>1880.0</td>\n",
              "      <td>4.0</td>\n",
              "      <td>2006.0</td>\n",
              "      <td>0</td>\n",
              "      <td>NaN</td>\n",
              "      <td>NaN</td>\n",
              "      <td>NaN</td>\n",
              "    </tr>\n",
              "    <tr>\n",
              "      <th>1112</th>\n",
              "      <td>1113</td>\n",
              "      <td>a</td>\n",
              "      <td>c</td>\n",
              "      <td>9260.0</td>\n",
              "      <td>NaN</td>\n",
              "      <td>NaN</td>\n",
              "      <td>0</td>\n",
              "      <td>NaN</td>\n",
              "      <td>NaN</td>\n",
              "      <td>NaN</td>\n",
              "    </tr>\n",
              "    <tr>\n",
              "      <th>1113</th>\n",
              "      <td>1114</td>\n",
              "      <td>a</td>\n",
              "      <td>c</td>\n",
              "      <td>870.0</td>\n",
              "      <td>NaN</td>\n",
              "      <td>NaN</td>\n",
              "      <td>0</td>\n",
              "      <td>NaN</td>\n",
              "      <td>NaN</td>\n",
              "      <td>NaN</td>\n",
              "    </tr>\n",
              "    <tr>\n",
              "      <th>1114</th>\n",
              "      <td>1115</td>\n",
              "      <td>d</td>\n",
              "      <td>c</td>\n",
              "      <td>5350.0</td>\n",
              "      <td>NaN</td>\n",
              "      <td>NaN</td>\n",
              "      <td>1</td>\n",
              "      <td>22.0</td>\n",
              "      <td>2012.0</td>\n",
              "      <td>Mar,Jun,Sept,Dec</td>\n",
              "    </tr>\n",
              "  </tbody>\n",
              "</table>\n",
              "</div>\n",
              "      <button class=\"colab-df-convert\" onclick=\"convertToInteractive('df-240a25ee-9b69-478a-9490-31f0384a8a21')\"\n",
              "              title=\"Convert this dataframe to an interactive table.\"\n",
              "              style=\"display:none;\">\n",
              "        \n",
              "  <svg xmlns=\"http://www.w3.org/2000/svg\" height=\"24px\"viewBox=\"0 0 24 24\"\n",
              "       width=\"24px\">\n",
              "    <path d=\"M0 0h24v24H0V0z\" fill=\"none\"/>\n",
              "    <path d=\"M18.56 5.44l.94 2.06.94-2.06 2.06-.94-2.06-.94-.94-2.06-.94 2.06-2.06.94zm-11 1L8.5 8.5l.94-2.06 2.06-.94-2.06-.94L8.5 2.5l-.94 2.06-2.06.94zm10 10l.94 2.06.94-2.06 2.06-.94-2.06-.94-.94-2.06-.94 2.06-2.06.94z\"/><path d=\"M17.41 7.96l-1.37-1.37c-.4-.4-.92-.59-1.43-.59-.52 0-1.04.2-1.43.59L10.3 9.45l-7.72 7.72c-.78.78-.78 2.05 0 2.83L4 21.41c.39.39.9.59 1.41.59.51 0 1.02-.2 1.41-.59l7.78-7.78 2.81-2.81c.8-.78.8-2.07 0-2.86zM5.41 20L4 18.59l7.72-7.72 1.47 1.35L5.41 20z\"/>\n",
              "  </svg>\n",
              "      </button>\n",
              "      \n",
              "  <style>\n",
              "    .colab-df-container {\n",
              "      display:flex;\n",
              "      flex-wrap:wrap;\n",
              "      gap: 12px;\n",
              "    }\n",
              "\n",
              "    .colab-df-convert {\n",
              "      background-color: #E8F0FE;\n",
              "      border: none;\n",
              "      border-radius: 50%;\n",
              "      cursor: pointer;\n",
              "      display: none;\n",
              "      fill: #1967D2;\n",
              "      height: 32px;\n",
              "      padding: 0 0 0 0;\n",
              "      width: 32px;\n",
              "    }\n",
              "\n",
              "    .colab-df-convert:hover {\n",
              "      background-color: #E2EBFA;\n",
              "      box-shadow: 0px 1px 2px rgba(60, 64, 67, 0.3), 0px 1px 3px 1px rgba(60, 64, 67, 0.15);\n",
              "      fill: #174EA6;\n",
              "    }\n",
              "\n",
              "    [theme=dark] .colab-df-convert {\n",
              "      background-color: #3B4455;\n",
              "      fill: #D2E3FC;\n",
              "    }\n",
              "\n",
              "    [theme=dark] .colab-df-convert:hover {\n",
              "      background-color: #434B5C;\n",
              "      box-shadow: 0px 1px 3px 1px rgba(0, 0, 0, 0.15);\n",
              "      filter: drop-shadow(0px 1px 2px rgba(0, 0, 0, 0.3));\n",
              "      fill: #FFFFFF;\n",
              "    }\n",
              "  </style>\n",
              "\n",
              "      <script>\n",
              "        const buttonEl =\n",
              "          document.querySelector('#df-240a25ee-9b69-478a-9490-31f0384a8a21 button.colab-df-convert');\n",
              "        buttonEl.style.display =\n",
              "          google.colab.kernel.accessAllowed ? 'block' : 'none';\n",
              "\n",
              "        async function convertToInteractive(key) {\n",
              "          const element = document.querySelector('#df-240a25ee-9b69-478a-9490-31f0384a8a21');\n",
              "          const dataTable =\n",
              "            await google.colab.kernel.invokeFunction('convertToInteractive',\n",
              "                                                     [key], {});\n",
              "          if (!dataTable) return;\n",
              "\n",
              "          const docLinkHtml = 'Like what you see? Visit the ' +\n",
              "            '<a target=\"_blank\" href=https://colab.research.google.com/notebooks/data_table.ipynb>data table notebook</a>'\n",
              "            + ' to learn more about interactive tables.';\n",
              "          element.innerHTML = '';\n",
              "          dataTable['output_type'] = 'display_data';\n",
              "          await google.colab.output.renderOutput(dataTable, element);\n",
              "          const docLink = document.createElement('div');\n",
              "          docLink.innerHTML = docLinkHtml;\n",
              "          element.appendChild(docLink);\n",
              "        }\n",
              "      </script>\n",
              "    </div>\n",
              "  </div>\n",
              "  "
            ]
          },
          "metadata": {},
          "execution_count": 7
        }
      ]
    },
    {
      "cell_type": "markdown",
      "source": [
        "### Dataset Rows & Columns count"
      ],
      "metadata": {
        "id": "7hBIi_osiCS2"
      }
    },
    {
      "cell_type": "code",
      "source": [
        "# Dataset Rows & Columns count\n",
        "num_of_rows = df_rossmann.shape[0]                       # Rossmanns dataframe shape\n",
        "print(f\"Total {num_of_rows} Rows in Rossmanns dataframe\")\n",
        "\n",
        "num_of_columns = df_rossmann.shape[1]\n",
        "print(f\"Total {num_of_columns} Columns in Rossmanns dataframe \\n\")\n",
        "\n",
        "num_of_rows = df_store.shape[0]                          # store dataframe shape\n",
        "print(f\"Total {num_of_rows} Rows in store dataframe\")\n",
        "\n",
        "num_of_columns = df_store.shape[1]\n",
        "print(f\"Total {num_of_columns} Columns in store dataframe\")"
      ],
      "metadata": {
        "id": "Kllu7SJgmLij",
        "colab": {
          "base_uri": "https://localhost:8080/"
        },
        "outputId": "3cd36342-a8b7-46c3-8b69-498addef27ba"
      },
      "execution_count": 8,
      "outputs": [
        {
          "output_type": "stream",
          "name": "stdout",
          "text": [
            "Total 1017209 Rows in Rossmanns dataframe\n",
            "Total 9 Columns in Rossmanns dataframe \n",
            "\n",
            "Total 1115 Rows in store dataframe\n",
            "Total 10 Columns in store dataframe\n"
          ]
        }
      ]
    },
    {
      "cell_type": "markdown",
      "source": [
        "### Dataset Information"
      ],
      "metadata": {
        "id": "JlHwYmJAmNHm"
      }
    },
    {
      "cell_type": "code",
      "source": [
        "df_rossmann.info()                # Rossmann Dataset Info"
      ],
      "metadata": {
        "id": "e9hRXRi6meOf",
        "colab": {
          "base_uri": "https://localhost:8080/"
        },
        "outputId": "14293877-2ba7-4b6b-843c-a2c4fcdfd08a"
      },
      "execution_count": 9,
      "outputs": [
        {
          "output_type": "stream",
          "name": "stdout",
          "text": [
            "<class 'pandas.core.frame.DataFrame'>\n",
            "RangeIndex: 1017209 entries, 0 to 1017208\n",
            "Data columns (total 9 columns):\n",
            " #   Column         Non-Null Count    Dtype \n",
            "---  ------         --------------    ----- \n",
            " 0   Store          1017209 non-null  int64 \n",
            " 1   DayOfWeek      1017209 non-null  int64 \n",
            " 2   Date           1017209 non-null  object\n",
            " 3   Sales          1017209 non-null  int64 \n",
            " 4   Customers      1017209 non-null  int64 \n",
            " 5   Open           1017209 non-null  int64 \n",
            " 6   Promo          1017209 non-null  int64 \n",
            " 7   StateHoliday   1017209 non-null  object\n",
            " 8   SchoolHoliday  1017209 non-null  int64 \n",
            "dtypes: int64(7), object(2)\n",
            "memory usage: 69.8+ MB\n"
          ]
        }
      ]
    },
    {
      "cell_type": "markdown",
      "metadata": {
        "id": "ev8UfUTfaThT"
      },
      "source": [
        "We can see Rossmann dataset contains 1017209 rows or observations and 9 columns. It appears to have no null values in it. It has integer, datetime and object as data types."
      ]
    },
    {
      "cell_type": "code",
      "source": [
        "df_store.info()                  # store Dataset Info"
      ],
      "metadata": {
        "colab": {
          "base_uri": "https://localhost:8080/"
        },
        "id": "WqFf3KuMn2-X",
        "outputId": "28d4643d-06fc-4e75-e652-285d0d334aa4"
      },
      "execution_count": 10,
      "outputs": [
        {
          "output_type": "stream",
          "name": "stdout",
          "text": [
            "<class 'pandas.core.frame.DataFrame'>\n",
            "RangeIndex: 1115 entries, 0 to 1114\n",
            "Data columns (total 10 columns):\n",
            " #   Column                     Non-Null Count  Dtype  \n",
            "---  ------                     --------------  -----  \n",
            " 0   Store                      1115 non-null   int64  \n",
            " 1   StoreType                  1115 non-null   object \n",
            " 2   Assortment                 1115 non-null   object \n",
            " 3   CompetitionDistance        1112 non-null   float64\n",
            " 4   CompetitionOpenSinceMonth  761 non-null    float64\n",
            " 5   CompetitionOpenSinceYear   761 non-null    float64\n",
            " 6   Promo2                     1115 non-null   int64  \n",
            " 7   Promo2SinceWeek            571 non-null    float64\n",
            " 8   Promo2SinceYear            571 non-null    float64\n",
            " 9   PromoInterval              571 non-null    object \n",
            "dtypes: float64(5), int64(2), object(3)\n",
            "memory usage: 87.2+ KB\n"
          ]
        }
      ]
    },
    {
      "cell_type": "markdown",
      "metadata": {
        "id": "49udiKi2abJJ"
      },
      "source": [
        "We can see store dataset contains 1115 rows and 10 columns, as we can see. It contains missing values, which must be imputed with appropriate values in order to produce good results later on."
      ]
    },
    {
      "cell_type": "markdown",
      "source": [
        "#### Duplicate Values"
      ],
      "metadata": {
        "id": "35m5QtbWiB9F"
      }
    },
    {
      "cell_type": "code",
      "source": [
        "# Dataset Duplicate Value Count\n",
        "num_of_dup_rows = df_rossmann.duplicated([\"Store\",\"Date\"]).sum()           #duplicated() method used to find duplicate rows in table\n",
        "print(f\"No. of duplicate rows in rossmann dataset: {num_of_dup_rows}\")"
      ],
      "metadata": {
        "id": "1sLdpKYkmox0",
        "colab": {
          "base_uri": "https://localhost:8080/"
        },
        "outputId": "e032f5bb-8c3e-40d0-c98b-407dcd61bfe8"
      },
      "execution_count": 11,
      "outputs": [
        {
          "output_type": "stream",
          "name": "stdout",
          "text": [
            "No. of duplicate rows in rossmann dataset: 0\n"
          ]
        }
      ]
    },
    {
      "cell_type": "code",
      "source": [
        "num_of_dup_rows = df_store.duplicated([\"Store\"]).sum()\n",
        "print(f\"No. of duplicate rows in store dataset: {num_of_dup_rows}\")"
      ],
      "metadata": {
        "colab": {
          "base_uri": "https://localhost:8080/"
        },
        "id": "REW6WLSpozo4",
        "outputId": "e56a42e8-e2b9-4002-b1e4-fa57d29a6e7d"
      },
      "execution_count": 12,
      "outputs": [
        {
          "output_type": "stream",
          "name": "stdout",
          "text": [
            "No. of duplicate rows in store dataset: 0\n"
          ]
        }
      ]
    },
    {
      "cell_type": "markdown",
      "metadata": {
        "id": "es4jl2Pyaooh"
      },
      "source": [
        "We can see both datasets contain no duplicated values."
      ]
    },
    {
      "cell_type": "markdown",
      "source": [
        "#### Missing Values/Null Values"
      ],
      "metadata": {
        "id": "PoPl-ycgm1ru"
      }
    },
    {
      "cell_type": "code",
      "source": [
        "# Missing Values/Null Values Count\n",
        "df_rossmann.isnull().sum()            #isnull() method used to check null values in columns"
      ],
      "metadata": {
        "id": "GgHWkxvamxVg",
        "colab": {
          "base_uri": "https://localhost:8080/"
        },
        "outputId": "9c363525-23fb-4c3a-f1ab-f1e5341c7563"
      },
      "execution_count": 13,
      "outputs": [
        {
          "output_type": "execute_result",
          "data": {
            "text/plain": [
              "Store            0\n",
              "DayOfWeek        0\n",
              "Date             0\n",
              "Sales            0\n",
              "Customers        0\n",
              "Open             0\n",
              "Promo            0\n",
              "StateHoliday     0\n",
              "SchoolHoliday    0\n",
              "dtype: int64"
            ]
          },
          "metadata": {},
          "execution_count": 13
        }
      ]
    },
    {
      "cell_type": "code",
      "source": [
        "df_store.isnull().sum()"
      ],
      "metadata": {
        "colab": {
          "base_uri": "https://localhost:8080/"
        },
        "id": "oBSn9LhhplFm",
        "outputId": "3b624a38-720b-437c-81a3-98096110420d"
      },
      "execution_count": 14,
      "outputs": [
        {
          "output_type": "execute_result",
          "data": {
            "text/plain": [
              "Store                          0\n",
              "StoreType                      0\n",
              "Assortment                     0\n",
              "CompetitionDistance            3\n",
              "CompetitionOpenSinceMonth    354\n",
              "CompetitionOpenSinceYear     354\n",
              "Promo2                         0\n",
              "Promo2SinceWeek              544\n",
              "Promo2SinceYear              544\n",
              "PromoInterval                544\n",
              "dtype: int64"
            ]
          },
          "metadata": {},
          "execution_count": 14
        }
      ]
    },
    {
      "cell_type": "markdown",
      "metadata": {
        "id": "YeeZkzyUa7-7"
      },
      "source": [
        "There are missing values in the following columns -\n",
        "* CompetitionDistance - Distance in meters to the nearest competitor store, the distribution plot would give us an idea about the distances at which generally the stores are opened and we would impute the values accordingly.\n",
        "* CompetitionOpenSinceMonth - Gives the approximate month of the time the nearest competitor was opened, mode of the column would tell us the most occuring month.\n",
        "* CompetitionOpenSinceYear - Gives the approximate year of the time the nearest competitor was opened, mode of the column would tell us the most occuring year.\n",
        "* Promo2SinceWeek, Promo2SinceYear and PromoInterval are NaN wherever Promo2 is 0 or False as can be seen in the first look of the dataset. They can be replaced with 0."
      ]
    },
    {
      "cell_type": "code",
      "source": [
        "# Visualizing the missing values\n",
        "\n",
        "# counting total value which are missing/NaN\n",
        "missing_value_data=pd.DataFrame(df_store.isnull().sum(),columns=['missing_values_count'])\n",
        "\n",
        "#creating Bar chart\n",
        "plt.rcParams['figure.figsize'] = (10,5)\n",
        "missing_value_data.plot(kind='bar')\n",
        "print(missing_value_data)\n"
      ],
      "metadata": {
        "id": "3q5wnI3om9sJ",
        "colab": {
          "base_uri": "https://localhost:8080/",
          "height": 0
        },
        "outputId": "20929ba2-b79c-4c35-ff14-3f11a00cff1f"
      },
      "execution_count": 15,
      "outputs": [
        {
          "output_type": "stream",
          "name": "stdout",
          "text": [
            "                           missing_values_count\n",
            "Store                                         0\n",
            "StoreType                                     0\n",
            "Assortment                                    0\n",
            "CompetitionDistance                           3\n",
            "CompetitionOpenSinceMonth                   354\n",
            "CompetitionOpenSinceYear                    354\n",
            "Promo2                                        0\n",
            "Promo2SinceWeek                             544\n",
            "Promo2SinceYear                             544\n",
            "PromoInterval                               544\n"
          ]
        },
        {
          "output_type": "display_data",
          "data": {
            "text/plain": [
              "<Figure size 1000x500 with 1 Axes>"
            ],
            "image/png": "[encoded data removed]"
          },
          "metadata": {}
        }
      ]
    },
    {
      "cell_type": "code",
      "source": [
        "missing_value_percentage = pd.DataFrame((missing_value_data/df_store.shape[0])*100)                 #Calculating percentage\n",
        "missing_value_percentage[\"count\"] = list(df_store.isnull().sum().values)                              #Adding count column\n",
        "missing_value_percentage.rename(columns={'missing_values_count':\"% of Null Values\"},inplace=True)   #Renaming column name\n",
        "missing_value_percentage.sort_values(by = [\"count\"],ascending= False)                               #Sorting data in decending order\n"
      ],
      "metadata": {
        "colab": {
          "base_uri": "https://localhost:8080/",
          "height": 0
        },
        "id": "pt_5Bvgy_k_-",
        "outputId": "e8af2d72-3436-4f97-ace6-ca1760f6d82e"
      },
      "execution_count": 16,
      "outputs": [
        {
          "output_type": "execute_result",
          "data": {
            "text/plain": [
              "                           % of Null Values  count\n",
              "Promo2SinceWeek                   48.789238    544\n",
              "Promo2SinceYear                   48.789238    544\n",
              "PromoInterval                     48.789238    544\n",
              "CompetitionOpenSinceMonth         31.748879    354\n",
              "CompetitionOpenSinceYear          31.748879    354\n",
              "CompetitionDistance                0.269058      3\n",
              "Store                              0.000000      0\n",
              "StoreType                          0.000000      0\n",
              "Assortment                         0.000000      0\n",
              "Promo2                             0.000000      0"
            ],
            "text/html": [
              "\n",
              "  <div id=\"df-f0a65dd0-7585-4a9f-8c6f-a85f80e1775d\">\n",
              "    <div class=\"colab-df-container\">\n",
              "      <div>\n",
              "<style scoped>\n",
              "    .dataframe tbody tr th:only-of-type {\n",
              "        vertical-align: middle;\n",
              "    }\n",
              "\n",
              "    .dataframe tbody tr th {\n",
              "        vertical-align: top;\n",
              "    }\n",
              "\n",
              "    .dataframe thead th {\n",
              "        text-align: right;\n",
              "    }\n",
              "</style>\n",
              "<table border=\"1\" class=\"dataframe\">\n",
              "  <thead>\n",
              "    <tr style=\"text-align: right;\">\n",
              "      <th></th>\n",
              "      <th>% of Null Values</th>\n",
              "      <th>count</th>\n",
              "    </tr>\n",
              "  </thead>\n",
              "  <tbody>\n",
              "    <tr>\n",
              "      <th>Promo2SinceWeek</th>\n",
              "      <td>48.789238</td>\n",
              "      <td>544</td>\n",
              "    </tr>\n",
              "    <tr>\n",
              "      <th>Promo2SinceYear</th>\n",
              "      <td>48.789238</td>\n",
              "      <td>544</td>\n",
              "    </tr>\n",
              "    <tr>\n",
              "      <th>PromoInterval</th>\n",
              "      <td>48.789238</td>\n",
              "      <td>544</td>\n",
              "    </tr>\n",
              "    <tr>\n",
              "      <th>CompetitionOpenSinceMonth</th>\n",
              "      <td>31.748879</td>\n",
              "      <td>354</td>\n",
              "    </tr>\n",
              "    <tr>\n",
              "      <th>CompetitionOpenSinceYear</th>\n",
              "      <td>31.748879</td>\n",
              "      <td>354</td>\n",
              "    </tr>\n",
              "    <tr>\n",
              "      <th>CompetitionDistance</th>\n",
              "      <td>0.269058</td>\n",
              "      <td>3</td>\n",
              "    </tr>\n",
              "    <tr>\n",
              "      <th>Store</th>\n",
              "      <td>0.000000</td>\n",
              "      <td>0</td>\n",
              "    </tr>\n",
              "    <tr>\n",
              "      <th>StoreType</th>\n",
              "      <td>0.000000</td>\n",
              "      <td>0</td>\n",
              "    </tr>\n",
              "    <tr>\n",
              "      <th>Assortment</th>\n",
              "      <td>0.000000</td>\n",
              "      <td>0</td>\n",
              "    </tr>\n",
              "    <tr>\n",
              "      <th>Promo2</th>\n",
              "      <td>0.000000</td>\n",
              "      <td>0</td>\n",
              "    </tr>\n",
              "  </tbody>\n",
              "</table>\n",
              "</div>\n",
              "      <button class=\"colab-df-convert\" onclick=\"convertToInteractive('df-f0a65dd0-7585-4a9f-8c6f-a85f80e1775d')\"\n",
              "              title=\"Convert this dataframe to an interactive table.\"\n",
              "              style=\"display:none;\">\n",
              "        \n",
              "  <svg xmlns=\"http://www.w3.org/2000/svg\" height=\"24px\"viewBox=\"0 0 24 24\"\n",
              "       width=\"24px\">\n",
              "    <path d=\"M0 0h24v24H0V0z\" fill=\"none\"/>\n",
              "    <path d=\"M18.56 5.44l.94 2.06.94-2.06 2.06-.94-2.06-.94-.94-2.06-.94 2.06-2.06.94zm-11 1L8.5 8.5l.94-2.06 2.06-.94-2.06-.94L8.5 2.5l-.94 2.06-2.06.94zm10 10l.94 2.06.94-2.06 2.06-.94-2.06-.94-.94-2.06-.94 2.06-2.06.94z\"/><path d=\"M17.41 7.96l-1.37-1.37c-.4-.4-.92-.59-1.43-.59-.52 0-1.04.2-1.43.59L10.3 9.45l-7.72 7.72c-.78.78-.78 2.05 0 2.83L4 21.41c.39.39.9.59 1.41.59.51 0 1.02-.2 1.41-.59l7.78-7.78 2.81-2.81c.8-.78.8-2.07 0-2.86zM5.41 20L4 18.59l7.72-7.72 1.47 1.35L5.41 20z\"/>\n",
              "  </svg>\n",
              "      </button>\n",
              "      \n",
              "  <style>\n",
              "    .colab-df-container {\n",
              "      display:flex;\n",
              "      flex-wrap:wrap;\n",
              "      gap: 12px;\n",
              "    }\n",
              "\n",
              "    .colab-df-convert {\n",
              "      background-color: #E8F0FE;\n",
              "      border: none;\n",
              "      border-radius: 50%;\n",
              "      cursor: pointer;\n",
              "      display: none;\n",
              "      fill: #1967D2;\n",
              "      height: 32px;\n",
              "      padding: 0 0 0 0;\n",
              "      width: 32px;\n",
              "    }\n",
              "\n",
              "    .colab-df-convert:hover {\n",
              "      background-color: #E2EBFA;\n",
              "      box-shadow: 0px 1px 2px rgba(60, 64, 67, 0.3), 0px 1px 3px 1px rgba(60, 64, 67, 0.15);\n",
              "      fill: #174EA6;\n",
              "    }\n",
              "\n",
              "    [theme=dark] .colab-df-convert {\n",
              "      background-color: #3B4455;\n",
              "      fill: #D2E3FC;\n",
              "    }\n",
              "\n",
              "    [theme=dark] .colab-df-convert:hover {\n",
              "      background-color: #434B5C;\n",
              "      box-shadow: 0px 1px 3px 1px rgba(0, 0, 0, 0.15);\n",
              "      filter: drop-shadow(0px 1px 2px rgba(0, 0, 0, 0.3));\n",
              "      fill: #FFFFFF;\n",
              "    }\n",
              "  </style>\n",
              "\n",
              "      <script>\n",
              "        const buttonEl =\n",
              "          document.querySelector('#df-f0a65dd0-7585-4a9f-8c6f-a85f80e1775d button.colab-df-convert');\n",
              "        buttonEl.style.display =\n",
              "          google.colab.kernel.accessAllowed ? 'block' : 'none';\n",
              "\n",
              "        async function convertToInteractive(key) {\n",
              "          const element = document.querySelector('#df-f0a65dd0-7585-4a9f-8c6f-a85f80e1775d');\n",
              "          const dataTable =\n",
              "            await google.colab.kernel.invokeFunction('convertToInteractive',\n",
              "                                                     [key], {});\n",
              "          if (!dataTable) return;\n",
              "\n",
              "          const docLinkHtml = 'Like what you see? Visit the ' +\n",
              "            '<a target=\"_blank\" href=https://colab.research.google.com/notebooks/data_table.ipynb>data table notebook</a>'\n",
              "            + ' to learn more about interactive tables.';\n",
              "          element.innerHTML = '';\n",
              "          dataTable['output_type'] = 'display_data';\n",
              "          await google.colab.output.renderOutput(dataTable, element);\n",
              "          const docLink = document.createElement('div');\n",
              "          docLink.innerHTML = docLinkHtml;\n",
              "          element.appendChild(docLink);\n",
              "        }\n",
              "      </script>\n",
              "    </div>\n",
              "  </div>\n",
              "  "
            ]
          },
          "metadata": {},
          "execution_count": 16
        }
      ]
    },
    {
      "cell_type": "markdown",
      "source": [
        "### What did you know about your dataset?"
      ],
      "metadata": {
        "id": "H0kj-8xxnORC"
      }
    },
    {
      "cell_type": "markdown",
      "source": [
        "Our dataset containing information from two datasets: Rossmann Store Sales and Store.\n",
        "\n",
        "1.   Rossmann dataset contains 9 columns having information about daily sales data for 1115 stores in Germany from January 2013 to July 2015.\n",
        "2.   Store dataset contains 10 columns having information about Competitior data like distance from compititor, compititor store opening  etc. for 1115 stores in Germany.\n",
        "3.   Rossmann data don't have null values.\n",
        "4.   Store dataset contains Six columns having missing values in them.\n"
      ],
      "metadata": {
        "id": "aJV4KIxSnxay"
      }
    },
    {
      "cell_type": "markdown",
      "source": [
        "## ***2. Understanding Your Variables***"
      ],
      "metadata": {
        "id": "nA9Y7ga8ng1Z"
      }
    },
    {
      "cell_type": "code",
      "source": [
        "# Dataset Columns\n",
        "print(\"Rosmann datasets columns:\",list(df_rossmann.columns))\n",
        "print(\"Store datasets columns:\",list(df_store.columns))\n"
      ],
      "metadata": {
        "id": "j7xfkqrt5Ag5",
        "colab": {
          "base_uri": "https://localhost:8080/"
        },
        "outputId": "1111fa12-153a-435a-ef32-d82eb67b08a5"
      },
      "execution_count": 17,
      "outputs": [
        {
          "output_type": "stream",
          "name": "stdout",
          "text": [
            "Rosmann datasets columns: ['Store', 'DayOfWeek', 'Date', 'Sales', 'Customers', 'Open', 'Promo', 'StateHoliday', 'SchoolHoliday']\n",
            "Store datasets columns: ['Store', 'StoreType', 'Assortment', 'CompetitionDistance', 'CompetitionOpenSinceMonth', 'CompetitionOpenSinceYear', 'Promo2', 'Promo2SinceWeek', 'Promo2SinceYear', 'PromoInterval']\n"
          ]
        }
      ]
    },
    {
      "cell_type": "code",
      "source": [
        "# Rossmann Dataset Describe\n",
        "df_rossmann.describe(include=\"all\")"
      ],
      "metadata": {
        "id": "DnOaZdaE5Q5t",
        "colab": {
          "base_uri": "https://localhost:8080/",
          "height": 0
        },
        "outputId": "29c6c457-b386-4025-90cd-9766c84cc1f0"
      },
      "execution_count": 18,
      "outputs": [
        {
          "output_type": "execute_result",
          "data": {
            "text/plain": [
              "               Store     DayOfWeek        Date         Sales     Customers  \\\n",
              "count   1.017209e+06  1.017209e+06     1017209  1.017209e+06  1.017209e+06   \n",
              "unique           NaN           NaN         942           NaN           NaN   \n",
              "top              NaN           NaN  2015-07-31           NaN           NaN   \n",
              "freq             NaN           NaN        1115           NaN           NaN   \n",
              "mean    5.584297e+02  3.998341e+00         NaN  5.773819e+03  6.331459e+02   \n",
              "std     3.219087e+02  1.997391e+00         NaN  3.849926e+03  4.644117e+02   \n",
              "min     1.000000e+00  1.000000e+00         NaN  0.000000e+00  0.000000e+00   \n",
              "25%     2.800000e+02  2.000000e+00         NaN  3.727000e+03  4.050000e+02   \n",
              "50%     5.580000e+02  4.000000e+00         NaN  5.744000e+03  6.090000e+02   \n",
              "75%     8.380000e+02  6.000000e+00         NaN  7.856000e+03  8.370000e+02   \n",
              "max     1.115000e+03  7.000000e+00         NaN  4.155100e+04  7.388000e+03   \n",
              "\n",
              "                Open         Promo StateHoliday  SchoolHoliday  \n",
              "count   1.017209e+06  1.017209e+06      1017209   1.017209e+06  \n",
              "unique           NaN           NaN            5            NaN  \n",
              "top              NaN           NaN            0            NaN  \n",
              "freq             NaN           NaN       855087            NaN  \n",
              "mean    8.301067e-01  3.815145e-01          NaN   1.786467e-01  \n",
              "std     3.755392e-01  4.857586e-01          NaN   3.830564e-01  \n",
              "min     0.000000e+00  0.000000e+00          NaN   0.000000e+00  \n",
              "25%     1.000000e+00  0.000000e+00          NaN   0.000000e+00  \n",
              "50%     1.000000e+00  0.000000e+00          NaN   0.000000e+00  \n",
              "75%     1.000000e+00  1.000000e+00          NaN   0.000000e+00  \n",
              "max     1.000000e+00  1.000000e+00          NaN   1.000000e+00  "
            ],
            "text/html": [
              "\n",
              "  <div id=\"df-1a83100b-ac5f-4ddf-acac-692027743526\">\n",
              "    <div class=\"colab-df-container\">\n",
              "      <div>\n",
              "<style scoped>\n",
              "    .dataframe tbody tr th:only-of-type {\n",
              "        vertical-align: middle;\n",
              "    }\n",
              "\n",
              "    .dataframe tbody tr th {\n",
              "        vertical-align: top;\n",
              "    }\n",
              "\n",
              "    .dataframe thead th {\n",
              "        text-align: right;\n",
              "    }\n",
              "</style>\n",
              "<table border=\"1\" class=\"dataframe\">\n",
              "  <thead>\n",
              "    <tr style=\"text-align: right;\">\n",
              "      <th></th>\n",
              "      <th>Store</th>\n",
              "      <th>DayOfWeek</th>\n",
              "      <th>Date</th>\n",
              "      <th>Sales</th>\n",
              "      <th>Customers</th>\n",
              "      <th>Open</th>\n",
              "      <th>Promo</th>\n",
              "      <th>StateHoliday</th>\n",
              "      <th>SchoolHoliday</th>\n",
              "    </tr>\n",
              "  </thead>\n",
              "  <tbody>\n",
              "    <tr>\n",
              "      <th>count</th>\n",
              "      <td>1.017209e+06</td>\n",
              "      <td>1.017209e+06</td>\n",
              "      <td>1017209</td>\n",
              "      <td>1.017209e+06</td>\n",
              "      <td>1.017209e+06</td>\n",
              "      <td>1.017209e+06</td>\n",
              "      <td>1.017209e+06</td>\n",
              "      <td>1017209</td>\n",
              "      <td>1.017209e+06</td>\n",
              "    </tr>\n",
              "    <tr>\n",
              "      <th>unique</th>\n",
              "      <td>NaN</td>\n",
              "      <td>NaN</td>\n",
              "      <td>942</td>\n",
              "      <td>NaN</td>\n",
              "      <td>NaN</td>\n",
              "      <td>NaN</td>\n",
              "      <td>NaN</td>\n",
              "      <td>5</td>\n",
              "      <td>NaN</td>\n",
              "    </tr>\n",
              "    <tr>\n",
              "      <th>top</th>\n",
              "      <td>NaN</td>\n",
              "      <td>NaN</td>\n",
              "      <td>2015-07-31</td>\n",
              "      <td>NaN</td>\n",
              "      <td>NaN</td>\n",
              "      <td>NaN</td>\n",
              "      <td>NaN</td>\n",
              "      <td>0</td>\n",
              "      <td>NaN</td>\n",
              "    </tr>\n",
              "    <tr>\n",
              "      <th>freq</th>\n",
              "      <td>NaN</td>\n",
              "      <td>NaN</td>\n",
              "      <td>1115</td>\n",
              "      <td>NaN</td>\n",
              "      <td>NaN</td>\n",
              "      <td>NaN</td>\n",
              "      <td>NaN</td>\n",
              "      <td>855087</td>\n",
              "      <td>NaN</td>\n",
              "    </tr>\n",
              "    <tr>\n",
              "      <th>mean</th>\n",
              "      <td>5.584297e+02</td>\n",
              "      <td>3.998341e+00</td>\n",
              "      <td>NaN</td>\n",
              "      <td>5.773819e+03</td>\n",
              "      <td>6.331459e+02</td>\n",
              "      <td>8.301067e-01</td>\n",
              "      <td>3.815145e-01</td>\n",
              "      <td>NaN</td>\n",
              "      <td>1.786467e-01</td>\n",
              "    </tr>\n",
              "    <tr>\n",
              "      <th>std</th>\n",
              "      <td>3.219087e+02</td>\n",
              "      <td>1.997391e+00</td>\n",
              "      <td>NaN</td>\n",
              "      <td>3.849926e+03</td>\n",
              "      <td>4.644117e+02</td>\n",
              "      <td>3.755392e-01</td>\n",
              "      <td>4.857586e-01</td>\n",
              "      <td>NaN</td>\n",
              "      <td>3.830564e-01</td>\n",
              "    </tr>\n",
              "    <tr>\n",
              "      <th>min</th>\n",
              "      <td>1.000000e+00</td>\n",
              "      <td>1.000000e+00</td>\n",
              "      <td>NaN</td>\n",
              "      <td>0.000000e+00</td>\n",
              "      <td>0.000000e+00</td>\n",
              "      <td>0.000000e+00</td>\n",
              "      <td>0.000000e+00</td>\n",
              "      <td>NaN</td>\n",
              "      <td>0.000000e+00</td>\n",
              "    </tr>\n",
              "    <tr>\n",
              "      <th>25%</th>\n",
              "      <td>2.800000e+02</td>\n",
              "      <td>2.000000e+00</td>\n",
              "      <td>NaN</td>\n",
              "      <td>3.727000e+03</td>\n",
              "      <td>4.050000e+02</td>\n",
              "      <td>1.000000e+00</td>\n",
              "      <td>0.000000e+00</td>\n",
              "      <td>NaN</td>\n",
              "      <td>0.000000e+00</td>\n",
              "    </tr>\n",
              "    <tr>\n",
              "      <th>50%</th>\n",
              "      <td>5.580000e+02</td>\n",
              "      <td>4.000000e+00</td>\n",
              "      <td>NaN</td>\n",
              "      <td>5.744000e+03</td>\n",
              "      <td>6.090000e+02</td>\n",
              "      <td>1.000000e+00</td>\n",
              "      <td>0.000000e+00</td>\n",
              "      <td>NaN</td>\n",
              "      <td>0.000000e+00</td>\n",
              "    </tr>\n",
              "    <tr>\n",
              "      <th>75%</th>\n",
              "      <td>8.380000e+02</td>\n",
              "      <td>6.000000e+00</td>\n",
              "      <td>NaN</td>\n",
              "      <td>7.856000e+03</td>\n",
              "      <td>8.370000e+02</td>\n",
              "      <td>1.000000e+00</td>\n",
              "      <td>1.000000e+00</td>\n",
              "      <td>NaN</td>\n",
              "      <td>0.000000e+00</td>\n",
              "    </tr>\n",
              "    <tr>\n",
              "      <th>max</th>\n",
              "      <td>1.115000e+03</td>\n",
              "      <td>7.000000e+00</td>\n",
              "      <td>NaN</td>\n",
              "      <td>4.155100e+04</td>\n",
              "      <td>7.388000e+03</td>\n",
              "      <td>1.000000e+00</td>\n",
              "      <td>1.000000e+00</td>\n",
              "      <td>NaN</td>\n",
              "      <td>1.000000e+00</td>\n",
              "    </tr>\n",
              "  </tbody>\n",
              "</table>\n",
              "</div>\n",
              "      <button class=\"colab-df-convert\" onclick=\"convertToInteractive('df-1a83100b-ac5f-4ddf-acac-692027743526')\"\n",
              "              title=\"Convert this dataframe to an interactive table.\"\n",
              "              style=\"display:none;\">\n",
              "        \n",
              "  <svg xmlns=\"http://www.w3.org/2000/svg\" height=\"24px\"viewBox=\"0 0 24 24\"\n",
              "       width=\"24px\">\n",
              "    <path d=\"M0 0h24v24H0V0z\" fill=\"none\"/>\n",
              "    <path d=\"M18.56 5.44l.94 2.06.94-2.06 2.06-.94-2.06-.94-.94-2.06-.94 2.06-2.06.94zm-11 1L8.5 8.5l.94-2.06 2.06-.94-2.06-.94L8.5 2.5l-.94 2.06-2.06.94zm10 10l.94 2.06.94-2.06 2.06-.94-2.06-.94-.94-2.06-.94 2.06-2.06.94z\"/><path d=\"M17.41 7.96l-1.37-1.37c-.4-.4-.92-.59-1.43-.59-.52 0-1.04.2-1.43.59L10.3 9.45l-7.72 7.72c-.78.78-.78 2.05 0 2.83L4 21.41c.39.39.9.59 1.41.59.51 0 1.02-.2 1.41-.59l7.78-7.78 2.81-2.81c.8-.78.8-2.07 0-2.86zM5.41 20L4 18.59l7.72-7.72 1.47 1.35L5.41 20z\"/>\n",
              "  </svg>\n",
              "      </button>\n",
              "      \n",
              "  <style>\n",
              "    .colab-df-container {\n",
              "      display:flex;\n",
              "      flex-wrap:wrap;\n",
              "      gap: 12px;\n",
              "    }\n",
              "\n",
              "    .colab-df-convert {\n",
              "      background-color: #E8F0FE;\n",
              "      border: none;\n",
              "      border-radius: 50%;\n",
              "      cursor: pointer;\n",
              "      display: none;\n",
              "      fill: #1967D2;\n",
              "      height: 32px;\n",
              "      padding: 0 0 0 0;\n",
              "      width: 32px;\n",
              "    }\n",
              "\n",
              "    .colab-df-convert:hover {\n",
              "      background-color: #E2EBFA;\n",
              "      box-shadow: 0px 1px 2px rgba(60, 64, 67, 0.3), 0px 1px 3px 1px rgba(60, 64, 67, 0.15);\n",
              "      fill: #174EA6;\n",
              "    }\n",
              "\n",
              "    [theme=dark] .colab-df-convert {\n",
              "      background-color: #3B4455;\n",
              "      fill: #D2E3FC;\n",
              "    }\n",
              "\n",
              "    [theme=dark] .colab-df-convert:hover {\n",
              "      background-color: #434B5C;\n",
              "      box-shadow: 0px 1px 3px 1px rgba(0, 0, 0, 0.15);\n",
              "      filter: drop-shadow(0px 1px 2px rgba(0, 0, 0, 0.3));\n",
              "      fill: #FFFFFF;\n",
              "    }\n",
              "  </style>\n",
              "\n",
              "      <script>\n",
              "        const buttonEl =\n",
              "          document.querySelector('#df-1a83100b-ac5f-4ddf-acac-692027743526 button.colab-df-convert');\n",
              "        buttonEl.style.display =\n",
              "          google.colab.kernel.accessAllowed ? 'block' : 'none';\n",
              "\n",
              "        async function convertToInteractive(key) {\n",
              "          const element = document.querySelector('#df-1a83100b-ac5f-4ddf-acac-692027743526');\n",
              "          const dataTable =\n",
              "            await google.colab.kernel.invokeFunction('convertToInteractive',\n",
              "                                                     [key], {});\n",
              "          if (!dataTable) return;\n",
              "\n",
              "          const docLinkHtml = 'Like what you see? Visit the ' +\n",
              "            '<a target=\"_blank\" href=https://colab.research.google.com/notebooks/data_table.ipynb>data table notebook</a>'\n",
              "            + ' to learn more about interactive tables.';\n",
              "          element.innerHTML = '';\n",
              "          dataTable['output_type'] = 'display_data';\n",
              "          await google.colab.output.renderOutput(dataTable, element);\n",
              "          const docLink = document.createElement('div');\n",
              "          docLink.innerHTML = docLinkHtml;\n",
              "          element.appendChild(docLink);\n",
              "        }\n",
              "      </script>\n",
              "    </div>\n",
              "  </div>\n",
              "  "
            ]
          },
          "metadata": {},
          "execution_count": 18
        }
      ]
    },
    {
      "cell_type": "code",
      "source": [
        "# Store Dataset Describe\n",
        "df_store.describe(include=\"all\")"
      ],
      "metadata": {
        "colab": {
          "base_uri": "https://localhost:8080/",
          "height": 0
        },
        "id": "BK7w08JcuDhS",
        "outputId": "71fafb98-696f-4419-ef52-b2fc39f8aca2"
      },
      "execution_count": 19,
      "outputs": [
        {
          "output_type": "execute_result",
          "data": {
            "text/plain": [
              "             Store StoreType Assortment  CompetitionDistance  \\\n",
              "count   1115.00000      1115       1115          1112.000000   \n",
              "unique         NaN         4          3                  NaN   \n",
              "top            NaN         a          a                  NaN   \n",
              "freq           NaN       602        593                  NaN   \n",
              "mean     558.00000       NaN        NaN          5404.901079   \n",
              "std      322.01708       NaN        NaN          7663.174720   \n",
              "min        1.00000       NaN        NaN            20.000000   \n",
              "25%      279.50000       NaN        NaN           717.500000   \n",
              "50%      558.00000       NaN        NaN          2325.000000   \n",
              "75%      836.50000       NaN        NaN          6882.500000   \n",
              "max     1115.00000       NaN        NaN         75860.000000   \n",
              "\n",
              "        CompetitionOpenSinceMonth  CompetitionOpenSinceYear       Promo2  \\\n",
              "count                  761.000000                761.000000  1115.000000   \n",
              "unique                        NaN                       NaN          NaN   \n",
              "top                           NaN                       NaN          NaN   \n",
              "freq                          NaN                       NaN          NaN   \n",
              "mean                     7.224704               2008.668857     0.512108   \n",
              "std                      3.212348                  6.195983     0.500078   \n",
              "min                      1.000000               1900.000000     0.000000   \n",
              "25%                      4.000000               2006.000000     0.000000   \n",
              "50%                      8.000000               2010.000000     1.000000   \n",
              "75%                     10.000000               2013.000000     1.000000   \n",
              "max                     12.000000               2015.000000     1.000000   \n",
              "\n",
              "        Promo2SinceWeek  Promo2SinceYear    PromoInterval  \n",
              "count        571.000000       571.000000              571  \n",
              "unique              NaN              NaN                3  \n",
              "top                 NaN              NaN  Jan,Apr,Jul,Oct  \n",
              "freq                NaN              NaN              335  \n",
              "mean          23.595447      2011.763573              NaN  \n",
              "std           14.141984         1.674935              NaN  \n",
              "min            1.000000      2009.000000              NaN  \n",
              "25%           13.000000      2011.000000              NaN  \n",
              "50%           22.000000      2012.000000              NaN  \n",
              "75%           37.000000      2013.000000              NaN  \n",
              "max           50.000000      2015.000000              NaN  "
            ],
            "text/html": [
              "\n",
              "  <div id=\"df-aaa15673-7b24-424f-9864-d99244d1189b\">\n",
              "    <div class=\"colab-df-container\">\n",
              "      <div>\n",
              "<style scoped>\n",
              "    .dataframe tbody tr th:only-of-type {\n",
              "        vertical-align: middle;\n",
              "    }\n",
              "\n",
              "    .dataframe tbody tr th {\n",
              "        vertical-align: top;\n",
              "    }\n",
              "\n",
              "    .dataframe thead th {\n",
              "        text-align: right;\n",
              "    }\n",
              "</style>\n",
              "<table border=\"1\" class=\"dataframe\">\n",
              "  <thead>\n",
              "    <tr style=\"text-align: right;\">\n",
              "      <th></th>\n",
              "      <th>Store</th>\n",
              "      <th>StoreType</th>\n",
              "      <th>Assortment</th>\n",
              "      <th>CompetitionDistance</th>\n",
              "      <th>CompetitionOpenSinceMonth</th>\n",
              "      <th>CompetitionOpenSinceYear</th>\n",
              "      <th>Promo2</th>\n",
              "      <th>Promo2SinceWeek</th>\n",
              "      <th>Promo2SinceYear</th>\n",
              "      <th>PromoInterval</th>\n",
              "    </tr>\n",
              "  </thead>\n",
              "  <tbody>\n",
              "    <tr>\n",
              "      <th>count</th>\n",
              "      <td>1115.00000</td>\n",
              "      <td>1115</td>\n",
              "      <td>1115</td>\n",
              "      <td>1112.000000</td>\n",
              "      <td>761.000000</td>\n",
              "      <td>761.000000</td>\n",
              "      <td>1115.000000</td>\n",
              "      <td>571.000000</td>\n",
              "      <td>571.000000</td>\n",
              "      <td>571</td>\n",
              "    </tr>\n",
              "    <tr>\n",
              "      <th>unique</th>\n",
              "      <td>NaN</td>\n",
              "      <td>4</td>\n",
              "      <td>3</td>\n",
              "      <td>NaN</td>\n",
              "      <td>NaN</td>\n",
              "      <td>NaN</td>\n",
              "      <td>NaN</td>\n",
              "      <td>NaN</td>\n",
              "      <td>NaN</td>\n",
              "      <td>3</td>\n",
              "    </tr>\n",
              "    <tr>\n",
              "      <th>top</th>\n",
              "      <td>NaN</td>\n",
              "      <td>a</td>\n",
              "      <td>a</td>\n",
              "      <td>NaN</td>\n",
              "      <td>NaN</td>\n",
              "      <td>NaN</td>\n",
              "      <td>NaN</td>\n",
              "      <td>NaN</td>\n",
              "      <td>NaN</td>\n",
              "      <td>Jan,Apr,Jul,Oct</td>\n",
              "    </tr>\n",
              "    <tr>\n",
              "      <th>freq</th>\n",
              "      <td>NaN</td>\n",
              "      <td>602</td>\n",
              "      <td>593</td>\n",
              "      <td>NaN</td>\n",
              "      <td>NaN</td>\n",
              "      <td>NaN</td>\n",
              "      <td>NaN</td>\n",
              "      <td>NaN</td>\n",
              "      <td>NaN</td>\n",
              "      <td>335</td>\n",
              "    </tr>\n",
              "    <tr>\n",
              "      <th>mean</th>\n",
              "      <td>558.00000</td>\n",
              "      <td>NaN</td>\n",
              "      <td>NaN</td>\n",
              "      <td>5404.901079</td>\n",
              "      <td>7.224704</td>\n",
              "      <td>2008.668857</td>\n",
              "      <td>0.512108</td>\n",
              "      <td>23.595447</td>\n",
              "      <td>2011.763573</td>\n",
              "      <td>NaN</td>\n",
              "    </tr>\n",
              "    <tr>\n",
              "      <th>std</th>\n",
              "      <td>322.01708</td>\n",
              "      <td>NaN</td>\n",
              "      <td>NaN</td>\n",
              "      <td>7663.174720</td>\n",
              "      <td>3.212348</td>\n",
              "      <td>6.195983</td>\n",
              "      <td>0.500078</td>\n",
              "      <td>14.141984</td>\n",
              "      <td>1.674935</td>\n",
              "      <td>NaN</td>\n",
              "    </tr>\n",
              "    <tr>\n",
              "      <th>min</th>\n",
              "      <td>1.00000</td>\n",
              "      <td>NaN</td>\n",
              "      <td>NaN</td>\n",
              "      <td>20.000000</td>\n",
              "      <td>1.000000</td>\n",
              "      <td>1900.000000</td>\n",
              "      <td>0.000000</td>\n",
              "      <td>1.000000</td>\n",
              "      <td>2009.000000</td>\n",
              "      <td>NaN</td>\n",
              "    </tr>\n",
              "    <tr>\n",
              "      <th>25%</th>\n",
              "      <td>279.50000</td>\n",
              "      <td>NaN</td>\n",
              "      <td>NaN</td>\n",
              "      <td>717.500000</td>\n",
              "      <td>4.000000</td>\n",
              "      <td>2006.000000</td>\n",
              "      <td>0.000000</td>\n",
              "      <td>13.000000</td>\n",
              "      <td>2011.000000</td>\n",
              "      <td>NaN</td>\n",
              "    </tr>\n",
              "    <tr>\n",
              "      <th>50%</th>\n",
              "      <td>558.00000</td>\n",
              "      <td>NaN</td>\n",
              "      <td>NaN</td>\n",
              "      <td>2325.000000</td>\n",
              "      <td>8.000000</td>\n",
              "      <td>2010.000000</td>\n",
              "      <td>1.000000</td>\n",
              "      <td>22.000000</td>\n",
              "      <td>2012.000000</td>\n",
              "      <td>NaN</td>\n",
              "    </tr>\n",
              "    <tr>\n",
              "      <th>75%</th>\n",
              "      <td>836.50000</td>\n",
              "      <td>NaN</td>\n",
              "      <td>NaN</td>\n",
              "      <td>6882.500000</td>\n",
              "      <td>10.000000</td>\n",
              "      <td>2013.000000</td>\n",
              "      <td>1.000000</td>\n",
              "      <td>37.000000</td>\n",
              "      <td>2013.000000</td>\n",
              "      <td>NaN</td>\n",
              "    </tr>\n",
              "    <tr>\n",
              "      <th>max</th>\n",
              "      <td>1115.00000</td>\n",
              "      <td>NaN</td>\n",
              "      <td>NaN</td>\n",
              "      <td>75860.000000</td>\n",
              "      <td>12.000000</td>\n",
              "      <td>2015.000000</td>\n",
              "      <td>1.000000</td>\n",
              "      <td>50.000000</td>\n",
              "      <td>2015.000000</td>\n",
              "      <td>NaN</td>\n",
              "    </tr>\n",
              "  </tbody>\n",
              "</table>\n",
              "</div>\n",
              "      <button class=\"colab-df-convert\" onclick=\"convertToInteractive('df-aaa15673-7b24-424f-9864-d99244d1189b')\"\n",
              "              title=\"Convert this dataframe to an interactive table.\"\n",
              "              style=\"display:none;\">\n",
              "        \n",
              "  <svg xmlns=\"http://www.w3.org/2000/svg\" height=\"24px\"viewBox=\"0 0 24 24\"\n",
              "       width=\"24px\">\n",
              "    <path d=\"M0 0h24v24H0V0z\" fill=\"none\"/>\n",
              "    <path d=\"M18.56 5.44l.94 2.06.94-2.06 2.06-.94-2.06-.94-.94-2.06-.94 2.06-2.06.94zm-11 1L8.5 8.5l.94-2.06 2.06-.94-2.06-.94L8.5 2.5l-.94 2.06-2.06.94zm10 10l.94 2.06.94-2.06 2.06-.94-2.06-.94-.94-2.06-.94 2.06-2.06.94z\"/><path d=\"M17.41 7.96l-1.37-1.37c-.4-.4-.92-.59-1.43-.59-.52 0-1.04.2-1.43.59L10.3 9.45l-7.72 7.72c-.78.78-.78 2.05 0 2.83L4 21.41c.39.39.9.59 1.41.59.51 0 1.02-.2 1.41-.59l7.78-7.78 2.81-2.81c.8-.78.8-2.07 0-2.86zM5.41 20L4 18.59l7.72-7.72 1.47 1.35L5.41 20z\"/>\n",
              "  </svg>\n",
              "      </button>\n",
              "      \n",
              "  <style>\n",
              "    .colab-df-container {\n",
              "      display:flex;\n",
              "      flex-wrap:wrap;\n",
              "      gap: 12px;\n",
              "    }\n",
              "\n",
              "    .colab-df-convert {\n",
              "      background-color: #E8F0FE;\n",
              "      border: none;\n",
              "      border-radius: 50%;\n",
              "      cursor: pointer;\n",
              "      display: none;\n",
              "      fill: #1967D2;\n",
              "      height: 32px;\n",
              "      padding: 0 0 0 0;\n",
              "      width: 32px;\n",
              "    }\n",
              "\n",
              "    .colab-df-convert:hover {\n",
              "      background-color: #E2EBFA;\n",
              "      box-shadow: 0px 1px 2px rgba(60, 64, 67, 0.3), 0px 1px 3px 1px rgba(60, 64, 67, 0.15);\n",
              "      fill: #174EA6;\n",
              "    }\n",
              "\n",
              "    [theme=dark] .colab-df-convert {\n",
              "      background-color: #3B4455;\n",
              "      fill: #D2E3FC;\n",
              "    }\n",
              "\n",
              "    [theme=dark] .colab-df-convert:hover {\n",
              "      background-color: #434B5C;\n",
              "      box-shadow: 0px 1px 3px 1px rgba(0, 0, 0, 0.15);\n",
              "      filter: drop-shadow(0px 1px 2px rgba(0, 0, 0, 0.3));\n",
              "      fill: #FFFFFF;\n",
              "    }\n",
              "  </style>\n",
              "\n",
              "      <script>\n",
              "        const buttonEl =\n",
              "          document.querySelector('#df-aaa15673-7b24-424f-9864-d99244d1189b button.colab-df-convert');\n",
              "        buttonEl.style.display =\n",
              "          google.colab.kernel.accessAllowed ? 'block' : 'none';\n",
              "\n",
              "        async function convertToInteractive(key) {\n",
              "          const element = document.querySelector('#df-aaa15673-7b24-424f-9864-d99244d1189b');\n",
              "          const dataTable =\n",
              "            await google.colab.kernel.invokeFunction('convertToInteractive',\n",
              "                                                     [key], {});\n",
              "          if (!dataTable) return;\n",
              "\n",
              "          const docLinkHtml = 'Like what you see? Visit the ' +\n",
              "            '<a target=\"_blank\" href=https://colab.research.google.com/notebooks/data_table.ipynb>data table notebook</a>'\n",
              "            + ' to learn more about interactive tables.';\n",
              "          element.innerHTML = '';\n",
              "          dataTable['output_type'] = 'display_data';\n",
              "          await google.colab.output.renderOutput(dataTable, element);\n",
              "          const docLink = document.createElement('div');\n",
              "          docLink.innerHTML = docLinkHtml;\n",
              "          element.appendChild(docLink);\n",
              "        }\n",
              "      </script>\n",
              "    </div>\n",
              "  </div>\n",
              "  "
            ]
          },
          "metadata": {},
          "execution_count": 19
        }
      ]
    },
    {
      "cell_type": "markdown",
      "source": [
        "### Variables Description"
      ],
      "metadata": {
        "id": "PBTbrJXOngz2"
      }
    },
    {
      "cell_type": "markdown",
      "source": [
        "**The dataset include following columns:**\n",
        "\n",
        "Store: An integer indicating the store number.\n",
        "\n",
        "DayOfWeek: An integer indicating the day of the week (1-7, where 1 is Sunday).\n",
        "\n",
        "Date: The date in yyyy-mm-dd format.\n",
        "\n",
        "Sales: The amount of sales for a given store on a given day (target variable).\n",
        "\n",
        "Customers: The number of customers who visited the store on a given day.\n",
        "\n",
        "Open: A binary variable indicating whether the store was open (1) or closed (0) on a given day.\n",
        "\n",
        "Promo: A binary variable indicating whether a store was running a promotion on a given day.\n",
        "\n",
        "StateHoliday: A categorical variable indicating whether a state holiday was in effect on a given day (0 = no, a = public holiday, b = Easter holiday, c = Christmas).\n",
        "\n",
        "SchoolHoliday: A binary variable indicating whether a school holiday was in effect on a given day.\n",
        "\n",
        "StoreType: A categorical variable indicating the type of store (a, b, c, d).\n",
        "\n",
        "Assortment: A categorical variable indicating the type of assortment that the store carries (a = basic, b = extra, c = extended).\n",
        "\n",
        "CompetitionDistance: Distance in meters to the nearest competitor store.\n",
        "\n",
        "CompetitionOpenSinceMonth: The month of the year when the nearest competitor was first observed to be open.\n",
        "\n",
        "CompetitionOpenSinceYear: The year when the nearest competitor was first observed to be open.\n",
        "\n",
        "Promo2: A binary variable indicating whether a store was running a consecutive promotion (0 = no, 1 = consecutive promotion).\n",
        "\n",
        "Promo2SinceWeek: The week of the year when the store started running consecutive promotions.\n",
        "\n",
        "Promo2SinceYear: The year when the store started running consecutive promotions.\n",
        "\n",
        "PromoInterval: A categorical variable indicating the consecutive promotion interval, i.e., the months the promotion runs, in the format \"Jan,Apr,Jul,Oct\"."
      ],
      "metadata": {
        "id": "gfoNAAC-nUe_"
      }
    },
    {
      "cell_type": "markdown",
      "source": [
        "### Check Unique Values for each variable."
      ],
      "metadata": {
        "id": "u3PMJOP6ngxN"
      }
    },
    {
      "cell_type": "code",
      "execution_count": 20,
      "metadata": {
        "colab": {
          "base_uri": "https://localhost:8080/"
        },
        "id": "sXOMgS3KgpBs",
        "outputId": "a5381d7a-8ec5-49e8-88ec-38364ced9b26"
      },
      "outputs": [
        {
          "output_type": "execute_result",
          "data": {
            "text/plain": [
              "Store             1115\n",
              "DayOfWeek            7\n",
              "Date               942\n",
              "Sales            21734\n",
              "Customers         4086\n",
              "Open                 2\n",
              "Promo                2\n",
              "StateHoliday         5\n",
              "SchoolHoliday        2\n",
              "dtype: int64"
            ]
          },
          "metadata": {},
          "execution_count": 20
        }
      ],
      "source": [
        "# Check Unique Values for each variable.\n",
        "df_rossmann.nunique()"
      ]
    },
    {
      "cell_type": "code",
      "execution_count": 21,
      "metadata": {
        "colab": {
          "base_uri": "https://localhost:8080/"
        },
        "id": "Js_4M8Eaiswg",
        "outputId": "e76b0dd8-4b5d-4ab9-d49f-53cb5333f9c8"
      },
      "outputs": [
        {
          "output_type": "execute_result",
          "data": {
            "text/plain": [
              "Store                        1115\n",
              "StoreType                       4\n",
              "Assortment                      3\n",
              "CompetitionDistance           654\n",
              "CompetitionOpenSinceMonth      12\n",
              "CompetitionOpenSinceYear       23\n",
              "Promo2                          2\n",
              "Promo2SinceWeek                24\n",
              "Promo2SinceYear                 7\n",
              "PromoInterval                   3\n",
              "dtype: int64"
            ]
          },
          "metadata": {},
          "execution_count": 21
        }
      ],
      "source": [
        "#unique values in df_store\n",
        "df_store.nunique()"
      ]
    },
    {
      "cell_type": "markdown",
      "source": [
        "## 3. ***Data Wrangling***"
      ],
      "metadata": {
        "id": "dauF4eBmngu3"
      }
    },
    {
      "cell_type": "markdown",
      "metadata": {
        "id": "rpoUe4DjjFkj"
      },
      "source": [
        "**Null Values Treatment**"
      ]
    },
    {
      "cell_type": "code",
      "execution_count": 42,
      "metadata": {
        "colab": {
          "base_uri": "https://localhost:8080/",
          "height": 93
        },
        "id": "6q0-Ifv2iutN",
        "outputId": "60818e83-1454-4024-f8be-df0dac5ae082"
      },
      "outputs": [
        {
          "output_type": "execute_result",
          "data": {
            "text/plain": [
              "Empty DataFrame\n",
              "Columns: [Store, StoreType, Assortment, CompetitionDistance, CompetitionOpenSinceMonth, CompetitionOpenSinceYear, Promo2, Promo2SinceWeek, Promo2SinceYear, PromoInterval]\n",
              "Index: []"
            ],
            "text/html": [
              "\n",
              "  <div id=\"df-8f8aeb9c-0b31-4ff0-8477-8687ddf1d732\">\n",
              "    <div class=\"colab-df-container\">\n",
              "      <div>\n",
              "<style scoped>\n",
              "    .dataframe tbody tr th:only-of-type {\n",
              "        vertical-align: middle;\n",
              "    }\n",
              "\n",
              "    .dataframe tbody tr th {\n",
              "        vertical-align: top;\n",
              "    }\n",
              "\n",
              "    .dataframe thead th {\n",
              "        text-align: right;\n",
              "    }\n",
              "</style>\n",
              "<table border=\"1\" class=\"dataframe\">\n",
              "  <thead>\n",
              "    <tr style=\"text-align: right;\">\n",
              "      <th></th>\n",
              "      <th>Store</th>\n",
              "      <th>StoreType</th>\n",
              "      <th>Assortment</th>\n",
              "      <th>CompetitionDistance</th>\n",
              "      <th>CompetitionOpenSinceMonth</th>\n",
              "      <th>CompetitionOpenSinceYear</th>\n",
              "      <th>Promo2</th>\n",
              "      <th>Promo2SinceWeek</th>\n",
              "      <th>Promo2SinceYear</th>\n",
              "      <th>PromoInterval</th>\n",
              "    </tr>\n",
              "  </thead>\n",
              "  <tbody>\n",
              "  </tbody>\n",
              "</table>\n",
              "</div>\n",
              "      <button class=\"colab-df-convert\" onclick=\"convertToInteractive('df-8f8aeb9c-0b31-4ff0-8477-8687ddf1d732')\"\n",
              "              title=\"Convert this dataframe to an interactive table.\"\n",
              "              style=\"display:none;\">\n",
              "        \n",
              "  <svg xmlns=\"http://www.w3.org/2000/svg\" height=\"24px\"viewBox=\"0 0 24 24\"\n",
              "       width=\"24px\">\n",
              "    <path d=\"M0 0h24v24H0V0z\" fill=\"none\"/>\n",
              "    <path d=\"M18.56 5.44l.94 2.06.94-2.06 2.06-.94-2.06-.94-.94-2.06-.94 2.06-2.06.94zm-11 1L8.5 8.5l.94-2.06 2.06-.94-2.06-.94L8.5 2.5l-.94 2.06-2.06.94zm10 10l.94 2.06.94-2.06 2.06-.94-2.06-.94-.94-2.06-.94 2.06-2.06.94z\"/><path d=\"M17.41 7.96l-1.37-1.37c-.4-.4-.92-.59-1.43-.59-.52 0-1.04.2-1.43.59L10.3 9.45l-7.72 7.72c-.78.78-.78 2.05 0 2.83L4 21.41c.39.39.9.59 1.41.59.51 0 1.02-.2 1.41-.59l7.78-7.78 2.81-2.81c.8-.78.8-2.07 0-2.86zM5.41 20L4 18.59l7.72-7.72 1.47 1.35L5.41 20z\"/>\n",
              "  </svg>\n",
              "      </button>\n",
              "      \n",
              "  <style>\n",
              "    .colab-df-container {\n",
              "      display:flex;\n",
              "      flex-wrap:wrap;\n",
              "      gap: 12px;\n",
              "    }\n",
              "\n",
              "    .colab-df-convert {\n",
              "      background-color: #E8F0FE;\n",
              "      border: none;\n",
              "      border-radius: 50%;\n",
              "      cursor: pointer;\n",
              "      display: none;\n",
              "      fill: #1967D2;\n",
              "      height: 32px;\n",
              "      padding: 0 0 0 0;\n",
              "      width: 32px;\n",
              "    }\n",
              "\n",
              "    .colab-df-convert:hover {\n",
              "      background-color: #E2EBFA;\n",
              "      box-shadow: 0px 1px 2px rgba(60, 64, 67, 0.3), 0px 1px 3px 1px rgba(60, 64, 67, 0.15);\n",
              "      fill: #174EA6;\n",
              "    }\n",
              "\n",
              "    [theme=dark] .colab-df-convert {\n",
              "      background-color: #3B4455;\n",
              "      fill: #D2E3FC;\n",
              "    }\n",
              "\n",
              "    [theme=dark] .colab-df-convert:hover {\n",
              "      background-color: #434B5C;\n",
              "      box-shadow: 0px 1px 3px 1px rgba(0, 0, 0, 0.15);\n",
              "      filter: drop-shadow(0px 1px 2px rgba(0, 0, 0, 0.3));\n",
              "      fill: #FFFFFF;\n",
              "    }\n",
              "  </style>\n",
              "\n",
              "      <script>\n",
              "        const buttonEl =\n",
              "          document.querySelector('#df-8f8aeb9c-0b31-4ff0-8477-8687ddf1d732 button.colab-df-convert');\n",
              "        buttonEl.style.display =\n",
              "          google.colab.kernel.accessAllowed ? 'block' : 'none';\n",
              "\n",
              "        async function convertToInteractive(key) {\n",
              "          const element = document.querySelector('#df-8f8aeb9c-0b31-4ff0-8477-8687ddf1d732');\n",
              "          const dataTable =\n",
              "            await google.colab.kernel.invokeFunction('convertToInteractive',\n",
              "                                                     [key], {});\n",
              "          if (!dataTable) return;\n",
              "\n",
              "          const docLinkHtml = 'Like what you see? Visit the ' +\n",
              "            '<a target=\"_blank\" href=https://colab.research.google.com/notebooks/data_table.ipynb>data table notebook</a>'\n",
              "            + ' to learn more about interactive tables.';\n",
              "          element.innerHTML = '';\n",
              "          dataTable['output_type'] = 'display_data';\n",
              "          await google.colab.output.renderOutput(dataTable, element);\n",
              "          const docLink = document.createElement('div');\n",
              "          docLink.innerHTML = docLinkHtml;\n",
              "          element.appendChild(docLink);\n",
              "        }\n",
              "      </script>\n",
              "    </div>\n",
              "  </div>\n",
              "  "
            ]
          },
          "metadata": {},
          "execution_count": 42
        }
      ],
      "source": [
        "#checking rows with null values in CompetitionDistance column\n",
        "df_store[df_store[\"CompetitionDistance\"].isnull()]"
      ]
    },
    {
      "cell_type": "markdown",
      "metadata": {
        "id": "IU1kmqxJkTXL"
      },
      "source": [
        "CompetitionDistance column have 3 null values which is less then 1% of all data. So we decided to fill it with Median."
      ]
    },
    {
      "cell_type": "code",
      "execution_count": 43,
      "metadata": {
        "id": "w5oXkT5YkIXf"
      },
      "outputs": [],
      "source": [
        "#filling the missing values of Competition Distance with median\n",
        "df_store['CompetitionDistance'].fillna(value = int(df_store.CompetitionDistance.median()), inplace = True)"
      ]
    },
    {
      "cell_type": "code",
      "source": [
        "#rechecking the null values in CompetitionDistance\n",
        "df_store[df_store[\"CompetitionDistance\"].isnull()]"
      ],
      "metadata": {
        "colab": {
          "base_uri": "https://localhost:8080/",
          "height": 93
        },
        "id": "HdfgDTuIta-0",
        "outputId": "bdadcf10-9b9a-4ef4-ff86-f020e99440fa"
      },
      "execution_count": 44,
      "outputs": [
        {
          "output_type": "execute_result",
          "data": {
            "text/plain": [
              "Empty DataFrame\n",
              "Columns: [Store, StoreType, Assortment, CompetitionDistance, CompetitionOpenSinceMonth, CompetitionOpenSinceYear, Promo2, Promo2SinceWeek, Promo2SinceYear, PromoInterval]\n",
              "Index: []"
            ],
            "text/html": [
              "\n",
              "  <div id=\"df-7e0c1316-9ac1-455f-b32d-88529cd24c16\">\n",
              "    <div class=\"colab-df-container\">\n",
              "      <div>\n",
              "<style scoped>\n",
              "    .dataframe tbody tr th:only-of-type {\n",
              "        vertical-align: middle;\n",
              "    }\n",
              "\n",
              "    .dataframe tbody tr th {\n",
              "        vertical-align: top;\n",
              "    }\n",
              "\n",
              "    .dataframe thead th {\n",
              "        text-align: right;\n",
              "    }\n",
              "</style>\n",
              "<table border=\"1\" class=\"dataframe\">\n",
              "  <thead>\n",
              "    <tr style=\"text-align: right;\">\n",
              "      <th></th>\n",
              "      <th>Store</th>\n",
              "      <th>StoreType</th>\n",
              "      <th>Assortment</th>\n",
              "      <th>CompetitionDistance</th>\n",
              "      <th>CompetitionOpenSinceMonth</th>\n",
              "      <th>CompetitionOpenSinceYear</th>\n",
              "      <th>Promo2</th>\n",
              "      <th>Promo2SinceWeek</th>\n",
              "      <th>Promo2SinceYear</th>\n",
              "      <th>PromoInterval</th>\n",
              "    </tr>\n",
              "  </thead>\n",
              "  <tbody>\n",
              "  </tbody>\n",
              "</table>\n",
              "</div>\n",
              "      <button class=\"colab-df-convert\" onclick=\"convertToInteractive('df-7e0c1316-9ac1-455f-b32d-88529cd24c16')\"\n",
              "              title=\"Convert this dataframe to an interactive table.\"\n",
              "              style=\"display:none;\">\n",
              "        \n",
              "  <svg xmlns=\"http://www.w3.org/2000/svg\" height=\"24px\"viewBox=\"0 0 24 24\"\n",
              "       width=\"24px\">\n",
              "    <path d=\"M0 0h24v24H0V0z\" fill=\"none\"/>\n",
              "    <path d=\"M18.56 5.44l.94 2.06.94-2.06 2.06-.94-2.06-.94-.94-2.06-.94 2.06-2.06.94zm-11 1L8.5 8.5l.94-2.06 2.06-.94-2.06-.94L8.5 2.5l-.94 2.06-2.06.94zm10 10l.94 2.06.94-2.06 2.06-.94-2.06-.94-.94-2.06-.94 2.06-2.06.94z\"/><path d=\"M17.41 7.96l-1.37-1.37c-.4-.4-.92-.59-1.43-.59-.52 0-1.04.2-1.43.59L10.3 9.45l-7.72 7.72c-.78.78-.78 2.05 0 2.83L4 21.41c.39.39.9.59 1.41.59.51 0 1.02-.2 1.41-.59l7.78-7.78 2.81-2.81c.8-.78.8-2.07 0-2.86zM5.41 20L4 18.59l7.72-7.72 1.47 1.35L5.41 20z\"/>\n",
              "  </svg>\n",
              "      </button>\n",
              "      \n",
              "  <style>\n",
              "    .colab-df-container {\n",
              "      display:flex;\n",
              "      flex-wrap:wrap;\n",
              "      gap: 12px;\n",
              "    }\n",
              "\n",
              "    .colab-df-convert {\n",
              "      background-color: #E8F0FE;\n",
              "      border: none;\n",
              "      border-radius: 50%;\n",
              "      cursor: pointer;\n",
              "      display: none;\n",
              "      fill: #1967D2;\n",
              "      height: 32px;\n",
              "      padding: 0 0 0 0;\n",
              "      width: 32px;\n",
              "    }\n",
              "\n",
              "    .colab-df-convert:hover {\n",
              "      background-color: #E2EBFA;\n",
              "      box-shadow: 0px 1px 2px rgba(60, 64, 67, 0.3), 0px 1px 3px 1px rgba(60, 64, 67, 0.15);\n",
              "      fill: #174EA6;\n",
              "    }\n",
              "\n",
              "    [theme=dark] .colab-df-convert {\n",
              "      background-color: #3B4455;\n",
              "      fill: #D2E3FC;\n",
              "    }\n",
              "\n",
              "    [theme=dark] .colab-df-convert:hover {\n",
              "      background-color: #434B5C;\n",
              "      box-shadow: 0px 1px 3px 1px rgba(0, 0, 0, 0.15);\n",
              "      filter: drop-shadow(0px 1px 2px rgba(0, 0, 0, 0.3));\n",
              "      fill: #FFFFFF;\n",
              "    }\n",
              "  </style>\n",
              "\n",
              "      <script>\n",
              "        const buttonEl =\n",
              "          document.querySelector('#df-7e0c1316-9ac1-455f-b32d-88529cd24c16 button.colab-df-convert');\n",
              "        buttonEl.style.display =\n",
              "          google.colab.kernel.accessAllowed ? 'block' : 'none';\n",
              "\n",
              "        async function convertToInteractive(key) {\n",
              "          const element = document.querySelector('#df-7e0c1316-9ac1-455f-b32d-88529cd24c16');\n",
              "          const dataTable =\n",
              "            await google.colab.kernel.invokeFunction('convertToInteractive',\n",
              "                                                     [key], {});\n",
              "          if (!dataTable) return;\n",
              "\n",
              "          const docLinkHtml = 'Like what you see? Visit the ' +\n",
              "            '<a target=\"_blank\" href=https://colab.research.google.com/notebooks/data_table.ipynb>data table notebook</a>'\n",
              "            + ' to learn more about interactive tables.';\n",
              "          element.innerHTML = '';\n",
              "          dataTable['output_type'] = 'display_data';\n",
              "          await google.colab.output.renderOutput(dataTable, element);\n",
              "          const docLink = document.createElement('div');\n",
              "          docLink.innerHTML = docLinkHtml;\n",
              "          element.appendChild(docLink);\n",
              "        }\n",
              "      </script>\n",
              "    </div>\n",
              "  </div>\n",
              "  "
            ]
          },
          "metadata": {},
          "execution_count": 44
        }
      ]
    },
    {
      "cell_type": "code",
      "execution_count": 45,
      "metadata": {
        "colab": {
          "base_uri": "https://localhost:8080/",
          "height": 93
        },
        "id": "I8ty73eTkYZx",
        "outputId": "a82c0c7f-4d9b-42e1-e08b-fb4aefb68f13"
      },
      "outputs": [
        {
          "output_type": "execute_result",
          "data": {
            "text/plain": [
              "Empty DataFrame\n",
              "Columns: [Store, StoreType, Assortment, CompetitionDistance, CompetitionOpenSinceMonth, CompetitionOpenSinceYear, Promo2, Promo2SinceWeek, Promo2SinceYear, PromoInterval]\n",
              "Index: []"
            ],
            "text/html": [
              "\n",
              "  <div id=\"df-3b0f0eb1-de39-47f4-ba99-4fa948193a92\">\n",
              "    <div class=\"colab-df-container\">\n",
              "      <div>\n",
              "<style scoped>\n",
              "    .dataframe tbody tr th:only-of-type {\n",
              "        vertical-align: middle;\n",
              "    }\n",
              "\n",
              "    .dataframe tbody tr th {\n",
              "        vertical-align: top;\n",
              "    }\n",
              "\n",
              "    .dataframe thead th {\n",
              "        text-align: right;\n",
              "    }\n",
              "</style>\n",
              "<table border=\"1\" class=\"dataframe\">\n",
              "  <thead>\n",
              "    <tr style=\"text-align: right;\">\n",
              "      <th></th>\n",
              "      <th>Store</th>\n",
              "      <th>StoreType</th>\n",
              "      <th>Assortment</th>\n",
              "      <th>CompetitionDistance</th>\n",
              "      <th>CompetitionOpenSinceMonth</th>\n",
              "      <th>CompetitionOpenSinceYear</th>\n",
              "      <th>Promo2</th>\n",
              "      <th>Promo2SinceWeek</th>\n",
              "      <th>Promo2SinceYear</th>\n",
              "      <th>PromoInterval</th>\n",
              "    </tr>\n",
              "  </thead>\n",
              "  <tbody>\n",
              "  </tbody>\n",
              "</table>\n",
              "</div>\n",
              "      <button class=\"colab-df-convert\" onclick=\"convertToInteractive('df-3b0f0eb1-de39-47f4-ba99-4fa948193a92')\"\n",
              "              title=\"Convert this dataframe to an interactive table.\"\n",
              "              style=\"display:none;\">\n",
              "        \n",
              "  <svg xmlns=\"http://www.w3.org/2000/svg\" height=\"24px\"viewBox=\"0 0 24 24\"\n",
              "       width=\"24px\">\n",
              "    <path d=\"M0 0h24v24H0V0z\" fill=\"none\"/>\n",
              "    <path d=\"M18.56 5.44l.94 2.06.94-2.06 2.06-.94-2.06-.94-.94-2.06-.94 2.06-2.06.94zm-11 1L8.5 8.5l.94-2.06 2.06-.94-2.06-.94L8.5 2.5l-.94 2.06-2.06.94zm10 10l.94 2.06.94-2.06 2.06-.94-2.06-.94-.94-2.06-.94 2.06-2.06.94z\"/><path d=\"M17.41 7.96l-1.37-1.37c-.4-.4-.92-.59-1.43-.59-.52 0-1.04.2-1.43.59L10.3 9.45l-7.72 7.72c-.78.78-.78 2.05 0 2.83L4 21.41c.39.39.9.59 1.41.59.51 0 1.02-.2 1.41-.59l7.78-7.78 2.81-2.81c.8-.78.8-2.07 0-2.86zM5.41 20L4 18.59l7.72-7.72 1.47 1.35L5.41 20z\"/>\n",
              "  </svg>\n",
              "      </button>\n",
              "      \n",
              "  <style>\n",
              "    .colab-df-container {\n",
              "      display:flex;\n",
              "      flex-wrap:wrap;\n",
              "      gap: 12px;\n",
              "    }\n",
              "\n",
              "    .colab-df-convert {\n",
              "      background-color: #E8F0FE;\n",
              "      border: none;\n",
              "      border-radius: 50%;\n",
              "      cursor: pointer;\n",
              "      display: none;\n",
              "      fill: #1967D2;\n",
              "      height: 32px;\n",
              "      padding: 0 0 0 0;\n",
              "      width: 32px;\n",
              "    }\n",
              "\n",
              "    .colab-df-convert:hover {\n",
              "      background-color: #E2EBFA;\n",
              "      box-shadow: 0px 1px 2px rgba(60, 64, 67, 0.3), 0px 1px 3px 1px rgba(60, 64, 67, 0.15);\n",
              "      fill: #174EA6;\n",
              "    }\n",
              "\n",
              "    [theme=dark] .colab-df-convert {\n",
              "      background-color: #3B4455;\n",
              "      fill: #D2E3FC;\n",
              "    }\n",
              "\n",
              "    [theme=dark] .colab-df-convert:hover {\n",
              "      background-color: #434B5C;\n",
              "      box-shadow: 0px 1px 3px 1px rgba(0, 0, 0, 0.15);\n",
              "      filter: drop-shadow(0px 1px 2px rgba(0, 0, 0, 0.3));\n",
              "      fill: #FFFFFF;\n",
              "    }\n",
              "  </style>\n",
              "\n",
              "      <script>\n",
              "        const buttonEl =\n",
              "          document.querySelector('#df-3b0f0eb1-de39-47f4-ba99-4fa948193a92 button.colab-df-convert');\n",
              "        buttonEl.style.display =\n",
              "          google.colab.kernel.accessAllowed ? 'block' : 'none';\n",
              "\n",
              "        async function convertToInteractive(key) {\n",
              "          const element = document.querySelector('#df-3b0f0eb1-de39-47f4-ba99-4fa948193a92');\n",
              "          const dataTable =\n",
              "            await google.colab.kernel.invokeFunction('convertToInteractive',\n",
              "                                                     [key], {});\n",
              "          if (!dataTable) return;\n",
              "\n",
              "          const docLinkHtml = 'Like what you see? Visit the ' +\n",
              "            '<a target=\"_blank\" href=https://colab.research.google.com/notebooks/data_table.ipynb>data table notebook</a>'\n",
              "            + ' to learn more about interactive tables.';\n",
              "          element.innerHTML = '';\n",
              "          dataTable['output_type'] = 'display_data';\n",
              "          await google.colab.output.renderOutput(dataTable, element);\n",
              "          const docLink = document.createElement('div');\n",
              "          docLink.innerHTML = docLinkHtml;\n",
              "          element.appendChild(docLink);\n",
              "        }\n",
              "      </script>\n",
              "    </div>\n",
              "  </div>\n",
              "  "
            ]
          },
          "metadata": {},
          "execution_count": 45
        }
      ],
      "source": [
        "#checking rows with null values in CompetitionOpenSinceMonth column\n",
        "df_store[df_store['CompetitionOpenSinceMonth'].isnull()]"
      ]
    },
    {
      "cell_type": "code",
      "source": [
        "#groupby() function is used on CompetitionOpenSinceYear column to check how many competitions are there in one year\n",
        "df_store.groupby(\"CompetitionOpenSinceYear\")[\"CompetitionOpenSinceYear\"].count()"
      ],
      "metadata": {
        "colab": {
          "base_uri": "https://localhost:8080/"
        },
        "id": "BrdVNm6dxJyI",
        "outputId": "e749d099-a829-4c45-ae80-c0dc6b0015b0"
      },
      "execution_count": 46,
      "outputs": [
        {
          "output_type": "execute_result",
          "data": {
            "text/plain": [
              "CompetitionOpenSinceYear\n",
              "1900.0      1\n",
              "1961.0      1\n",
              "1990.0      5\n",
              "1994.0      2\n",
              "1995.0      2\n",
              "1998.0      1\n",
              "1999.0      8\n",
              "2000.0     10\n",
              "2001.0     16\n",
              "2002.0     27\n",
              "2003.0     19\n",
              "2004.0     22\n",
              "2005.0     62\n",
              "2006.0     47\n",
              "2007.0     48\n",
              "2008.0     54\n",
              "2009.0     54\n",
              "2010.0     55\n",
              "2011.0     54\n",
              "2012.0     82\n",
              "2013.0    437\n",
              "2014.0     70\n",
              "2015.0     38\n",
              "Name: CompetitionOpenSinceYear, dtype: int64"
            ]
          },
          "metadata": {},
          "execution_count": 46
        }
      ]
    },
    {
      "cell_type": "code",
      "source": [
        "#groupby() function is used on CompetitionOpenSinceMonth column to check how many competitions are there in one month\n",
        "df_store.groupby(\"CompetitionOpenSinceMonth\")[\"CompetitionOpenSinceMonth\"].count()"
      ],
      "metadata": {
        "colab": {
          "base_uri": "https://localhost:8080/"
        },
        "id": "coxqW7sj1TlN",
        "outputId": "335aac80-0590-4d25-fddd-21acc3436b63"
      },
      "execution_count": 47,
      "outputs": [
        {
          "output_type": "execute_result",
          "data": {
            "text/plain": [
              "CompetitionOpenSinceMonth\n",
              "1.0      14\n",
              "2.0      41\n",
              "3.0      70\n",
              "4.0      94\n",
              "5.0      44\n",
              "6.0      50\n",
              "7.0      67\n",
              "8.0      39\n",
              "9.0     479\n",
              "10.0     61\n",
              "11.0     92\n",
              "12.0     64\n",
              "Name: CompetitionOpenSinceMonth, dtype: int64"
            ]
          },
          "metadata": {},
          "execution_count": 47
        }
      ]
    },
    {
      "cell_type": "code",
      "execution_count": 48,
      "metadata": {
        "colab": {
          "base_uri": "https://localhost:8080/",
          "height": 765
        },
        "id": "nIbdsJDGkd2s",
        "outputId": "c4f010a3-17f6-4be1-fe3e-206d9e39ff94"
      },
      "outputs": [
        {
          "output_type": "display_data",
          "data": {
            "text/plain": [
              "<Figure size 1200x400 with 1 Axes>"
            ],
            "image/png": "[encoded data removed]"
          },
          "metadata": {}
        },
        {
          "output_type": "display_data",
          "data": {
            "text/plain": [
              "<Figure size 1200x400 with 1 Axes>"
            ],
            "image/png": "[encoded data removed]"
          },
          "metadata": {}
        }
      ],
      "source": [
        "#plotting box plot for CompetitionOpenSinceMonth and CompetitionOpenSinceYear\n",
        "plt.figure(figsize=(12,4))\n",
        "sns.boxplot(df_store[\"CompetitionOpenSinceMonth\"])\n",
        "plt.title(\"Box plot for Competition Open Since Month \")\n",
        "plt.show()\n",
        "\n",
        "plt.figure(figsize=(12,4))\n",
        "sns.boxplot(df_store[\"CompetitionOpenSinceYear\"])\n",
        "plt.title(\"Box plot for Competition Open Since Year \")\n",
        "plt.show()\n"
      ]
    },
    {
      "cell_type": "code",
      "execution_count": 49,
      "metadata": {
        "id": "y_Bgij_wkg_5"
      },
      "outputs": [],
      "source": [
        "#filling the missing values with mode (most frequent number)\n",
        "df_store['CompetitionOpenSinceMonth'].fillna(value = df_store['CompetitionOpenSinceMonth'].mode()[0], inplace = True)\n",
        "df_store['CompetitionOpenSinceYear'].fillna(value = df_store['CompetitionOpenSinceYear'].mode()[0], inplace = True)"
      ]
    },
    {
      "cell_type": "code",
      "source": [
        "#rechecking the null values in CompetitionOpenSinceMonth\n",
        "df_store[df_store['CompetitionOpenSinceMonth'].isnull()]"
      ],
      "metadata": {
        "colab": {
          "base_uri": "https://localhost:8080/",
          "height": 93
        },
        "id": "e8j_3gx58NUc",
        "outputId": "22429417-d53a-42cd-a415-9f7b92e62bc2"
      },
      "execution_count": 50,
      "outputs": [
        {
          "output_type": "execute_result",
          "data": {
            "text/plain": [
              "Empty DataFrame\n",
              "Columns: [Store, StoreType, Assortment, CompetitionDistance, CompetitionOpenSinceMonth, CompetitionOpenSinceYear, Promo2, Promo2SinceWeek, Promo2SinceYear, PromoInterval]\n",
              "Index: []"
            ],
            "text/html": [
              "\n",
              "  <div id=\"df-7454e45b-5fe8-4537-b452-15efc073d57d\">\n",
              "    <div class=\"colab-df-container\">\n",
              "      <div>\n",
              "<style scoped>\n",
              "    .dataframe tbody tr th:only-of-type {\n",
              "        vertical-align: middle;\n",
              "    }\n",
              "\n",
              "    .dataframe tbody tr th {\n",
              "        vertical-align: top;\n",
              "    }\n",
              "\n",
              "    .dataframe thead th {\n",
              "        text-align: right;\n",
              "    }\n",
              "</style>\n",
              "<table border=\"1\" class=\"dataframe\">\n",
              "  <thead>\n",
              "    <tr style=\"text-align: right;\">\n",
              "      <th></th>\n",
              "      <th>Store</th>\n",
              "      <th>StoreType</th>\n",
              "      <th>Assortment</th>\n",
              "      <th>CompetitionDistance</th>\n",
              "      <th>CompetitionOpenSinceMonth</th>\n",
              "      <th>CompetitionOpenSinceYear</th>\n",
              "      <th>Promo2</th>\n",
              "      <th>Promo2SinceWeek</th>\n",
              "      <th>Promo2SinceYear</th>\n",
              "      <th>PromoInterval</th>\n",
              "    </tr>\n",
              "  </thead>\n",
              "  <tbody>\n",
              "  </tbody>\n",
              "</table>\n",
              "</div>\n",
              "      <button class=\"colab-df-convert\" onclick=\"convertToInteractive('df-7454e45b-5fe8-4537-b452-15efc073d57d')\"\n",
              "              title=\"Convert this dataframe to an interactive table.\"\n",
              "              style=\"display:none;\">\n",
              "        \n",
              "  <svg xmlns=\"http://www.w3.org/2000/svg\" height=\"24px\"viewBox=\"0 0 24 24\"\n",
              "       width=\"24px\">\n",
              "    <path d=\"M0 0h24v24H0V0z\" fill=\"none\"/>\n",
              "    <path d=\"M18.56 5.44l.94 2.06.94-2.06 2.06-.94-2.06-.94-.94-2.06-.94 2.06-2.06.94zm-11 1L8.5 8.5l.94-2.06 2.06-.94-2.06-.94L8.5 2.5l-.94 2.06-2.06.94zm10 10l.94 2.06.94-2.06 2.06-.94-2.06-.94-.94-2.06-.94 2.06-2.06.94z\"/><path d=\"M17.41 7.96l-1.37-1.37c-.4-.4-.92-.59-1.43-.59-.52 0-1.04.2-1.43.59L10.3 9.45l-7.72 7.72c-.78.78-.78 2.05 0 2.83L4 21.41c.39.39.9.59 1.41.59.51 0 1.02-.2 1.41-.59l7.78-7.78 2.81-2.81c.8-.78.8-2.07 0-2.86zM5.41 20L4 18.59l7.72-7.72 1.47 1.35L5.41 20z\"/>\n",
              "  </svg>\n",
              "      </button>\n",
              "      \n",
              "  <style>\n",
              "    .colab-df-container {\n",
              "      display:flex;\n",
              "      flex-wrap:wrap;\n",
              "      gap: 12px;\n",
              "    }\n",
              "\n",
              "    .colab-df-convert {\n",
              "      background-color: #E8F0FE;\n",
              "      border: none;\n",
              "      border-radius: 50%;\n",
              "      cursor: pointer;\n",
              "      display: none;\n",
              "      fill: #1967D2;\n",
              "      height: 32px;\n",
              "      padding: 0 0 0 0;\n",
              "      width: 32px;\n",
              "    }\n",
              "\n",
              "    .colab-df-convert:hover {\n",
              "      background-color: #E2EBFA;\n",
              "      box-shadow: 0px 1px 2px rgba(60, 64, 67, 0.3), 0px 1px 3px 1px rgba(60, 64, 67, 0.15);\n",
              "      fill: #174EA6;\n",
              "    }\n",
              "\n",
              "    [theme=dark] .colab-df-convert {\n",
              "      background-color: #3B4455;\n",
              "      fill: #D2E3FC;\n",
              "    }\n",
              "\n",
              "    [theme=dark] .colab-df-convert:hover {\n",
              "      background-color: #434B5C;\n",
              "      box-shadow: 0px 1px 3px 1px rgba(0, 0, 0, 0.15);\n",
              "      filter: drop-shadow(0px 1px 2px rgba(0, 0, 0, 0.3));\n",
              "      fill: #FFFFFF;\n",
              "    }\n",
              "  </style>\n",
              "\n",
              "      <script>\n",
              "        const buttonEl =\n",
              "          document.querySelector('#df-7454e45b-5fe8-4537-b452-15efc073d57d button.colab-df-convert');\n",
              "        buttonEl.style.display =\n",
              "          google.colab.kernel.accessAllowed ? 'block' : 'none';\n",
              "\n",
              "        async function convertToInteractive(key) {\n",
              "          const element = document.querySelector('#df-7454e45b-5fe8-4537-b452-15efc073d57d');\n",
              "          const dataTable =\n",
              "            await google.colab.kernel.invokeFunction('convertToInteractive',\n",
              "                                                     [key], {});\n",
              "          if (!dataTable) return;\n",
              "\n",
              "          const docLinkHtml = 'Like what you see? Visit the ' +\n",
              "            '<a target=\"_blank\" href=https://colab.research.google.com/notebooks/data_table.ipynb>data table notebook</a>'\n",
              "            + ' to learn more about interactive tables.';\n",
              "          element.innerHTML = '';\n",
              "          dataTable['output_type'] = 'display_data';\n",
              "          await google.colab.output.renderOutput(dataTable, element);\n",
              "          const docLink = document.createElement('div');\n",
              "          docLink.innerHTML = docLinkHtml;\n",
              "          element.appendChild(docLink);\n",
              "        }\n",
              "      </script>\n",
              "    </div>\n",
              "  </div>\n",
              "  "
            ]
          },
          "metadata": {},
          "execution_count": 50
        }
      ]
    },
    {
      "cell_type": "code",
      "source": [
        "#rechecking the null values in CompetitionOpenSinceYear\n",
        "df_store[df_store['CompetitionOpenSinceYear'].isnull()]"
      ],
      "metadata": {
        "colab": {
          "base_uri": "https://localhost:8080/",
          "height": 93
        },
        "id": "z6oK_JRyBopu",
        "outputId": "6294bf8b-728d-494a-9507-e5c9da9194b5"
      },
      "execution_count": 51,
      "outputs": [
        {
          "output_type": "execute_result",
          "data": {
            "text/plain": [
              "Empty DataFrame\n",
              "Columns: [Store, StoreType, Assortment, CompetitionDistance, CompetitionOpenSinceMonth, CompetitionOpenSinceYear, Promo2, Promo2SinceWeek, Promo2SinceYear, PromoInterval]\n",
              "Index: []"
            ],
            "text/html": [
              "\n",
              "  <div id=\"df-9738d065-6b5c-4709-9ded-fc9fecf725cc\">\n",
              "    <div class=\"colab-df-container\">\n",
              "      <div>\n",
              "<style scoped>\n",
              "    .dataframe tbody tr th:only-of-type {\n",
              "        vertical-align: middle;\n",
              "    }\n",
              "\n",
              "    .dataframe tbody tr th {\n",
              "        vertical-align: top;\n",
              "    }\n",
              "\n",
              "    .dataframe thead th {\n",
              "        text-align: right;\n",
              "    }\n",
              "</style>\n",
              "<table border=\"1\" class=\"dataframe\">\n",
              "  <thead>\n",
              "    <tr style=\"text-align: right;\">\n",
              "      <th></th>\n",
              "      <th>Store</th>\n",
              "      <th>StoreType</th>\n",
              "      <th>Assortment</th>\n",
              "      <th>CompetitionDistance</th>\n",
              "      <th>CompetitionOpenSinceMonth</th>\n",
              "      <th>CompetitionOpenSinceYear</th>\n",
              "      <th>Promo2</th>\n",
              "      <th>Promo2SinceWeek</th>\n",
              "      <th>Promo2SinceYear</th>\n",
              "      <th>PromoInterval</th>\n",
              "    </tr>\n",
              "  </thead>\n",
              "  <tbody>\n",
              "  </tbody>\n",
              "</table>\n",
              "</div>\n",
              "      <button class=\"colab-df-convert\" onclick=\"convertToInteractive('df-9738d065-6b5c-4709-9ded-fc9fecf725cc')\"\n",
              "              title=\"Convert this dataframe to an interactive table.\"\n",
              "              style=\"display:none;\">\n",
              "        \n",
              "  <svg xmlns=\"http://www.w3.org/2000/svg\" height=\"24px\"viewBox=\"0 0 24 24\"\n",
              "       width=\"24px\">\n",
              "    <path d=\"M0 0h24v24H0V0z\" fill=\"none\"/>\n",
              "    <path d=\"M18.56 5.44l.94 2.06.94-2.06 2.06-.94-2.06-.94-.94-2.06-.94 2.06-2.06.94zm-11 1L8.5 8.5l.94-2.06 2.06-.94-2.06-.94L8.5 2.5l-.94 2.06-2.06.94zm10 10l.94 2.06.94-2.06 2.06-.94-2.06-.94-.94-2.06-.94 2.06-2.06.94z\"/><path d=\"M17.41 7.96l-1.37-1.37c-.4-.4-.92-.59-1.43-.59-.52 0-1.04.2-1.43.59L10.3 9.45l-7.72 7.72c-.78.78-.78 2.05 0 2.83L4 21.41c.39.39.9.59 1.41.59.51 0 1.02-.2 1.41-.59l7.78-7.78 2.81-2.81c.8-.78.8-2.07 0-2.86zM5.41 20L4 18.59l7.72-7.72 1.47 1.35L5.41 20z\"/>\n",
              "  </svg>\n",
              "      </button>\n",
              "      \n",
              "  <style>\n",
              "    .colab-df-container {\n",
              "      display:flex;\n",
              "      flex-wrap:wrap;\n",
              "      gap: 12px;\n",
              "    }\n",
              "\n",
              "    .colab-df-convert {\n",
              "      background-color: #E8F0FE;\n",
              "      border: none;\n",
              "      border-radius: 50%;\n",
              "      cursor: pointer;\n",
              "      display: none;\n",
              "      fill: #1967D2;\n",
              "      height: 32px;\n",
              "      padding: 0 0 0 0;\n",
              "      width: 32px;\n",
              "    }\n",
              "\n",
              "    .colab-df-convert:hover {\n",
              "      background-color: #E2EBFA;\n",
              "      box-shadow: 0px 1px 2px rgba(60, 64, 67, 0.3), 0px 1px 3px 1px rgba(60, 64, 67, 0.15);\n",
              "      fill: #174EA6;\n",
              "    }\n",
              "\n",
              "    [theme=dark] .colab-df-convert {\n",
              "      background-color: #3B4455;\n",
              "      fill: #D2E3FC;\n",
              "    }\n",
              "\n",
              "    [theme=dark] .colab-df-convert:hover {\n",
              "      background-color: #434B5C;\n",
              "      box-shadow: 0px 1px 3px 1px rgba(0, 0, 0, 0.15);\n",
              "      filter: drop-shadow(0px 1px 2px rgba(0, 0, 0, 0.3));\n",
              "      fill: #FFFFFF;\n",
              "    }\n",
              "  </style>\n",
              "\n",
              "      <script>\n",
              "        const buttonEl =\n",
              "          document.querySelector('#df-9738d065-6b5c-4709-9ded-fc9fecf725cc button.colab-df-convert');\n",
              "        buttonEl.style.display =\n",
              "          google.colab.kernel.accessAllowed ? 'block' : 'none';\n",
              "\n",
              "        async function convertToInteractive(key) {\n",
              "          const element = document.querySelector('#df-9738d065-6b5c-4709-9ded-fc9fecf725cc');\n",
              "          const dataTable =\n",
              "            await google.colab.kernel.invokeFunction('convertToInteractive',\n",
              "                                                     [key], {});\n",
              "          if (!dataTable) return;\n",
              "\n",
              "          const docLinkHtml = 'Like what you see? Visit the ' +\n",
              "            '<a target=\"_blank\" href=https://colab.research.google.com/notebooks/data_table.ipynb>data table notebook</a>'\n",
              "            + ' to learn more about interactive tables.';\n",
              "          element.innerHTML = '';\n",
              "          dataTable['output_type'] = 'display_data';\n",
              "          await google.colab.output.renderOutput(dataTable, element);\n",
              "          const docLink = document.createElement('div');\n",
              "          docLink.innerHTML = docLinkHtml;\n",
              "          element.appendChild(docLink);\n",
              "        }\n",
              "      </script>\n",
              "    </div>\n",
              "  </div>\n",
              "  "
            ]
          },
          "metadata": {},
          "execution_count": 51
        }
      ]
    },
    {
      "cell_type": "code",
      "execution_count": 52,
      "metadata": {
        "id": "tA2zzJ8SkkVX"
      },
      "outputs": [],
      "source": [
        "# filling the missing values with value 0 (Promo2SinceWeek, Promo2SinceYear and PromoInterval feature)\n",
        "df_store[\"Promo2SinceWeek\"].fillna(value = 0, inplace=True)\n",
        "df_store[\"Promo2SinceYear\"].fillna(value = 0, inplace=True)\n",
        "df_store[\"PromoInterval\"].fillna(value = 0, inplace=True)"
      ]
    },
    {
      "cell_type": "code",
      "execution_count": 53,
      "metadata": {
        "colab": {
          "base_uri": "https://localhost:8080/"
        },
        "id": "KQpf5pwlkvfj",
        "outputId": "5e372282-ebb9-4bdc-cdf3-bd4b7815b787"
      },
      "outputs": [
        {
          "output_type": "execute_result",
          "data": {
            "text/plain": [
              "Store                        0\n",
              "StoreType                    0\n",
              "Assortment                   0\n",
              "CompetitionDistance          0\n",
              "CompetitionOpenSinceMonth    0\n",
              "CompetitionOpenSinceYear     0\n",
              "Promo2                       0\n",
              "Promo2SinceWeek              0\n",
              "Promo2SinceYear              0\n",
              "PromoInterval                0\n",
              "dtype: int64"
            ]
          },
          "metadata": {},
          "execution_count": 53
        }
      ],
      "source": [
        "#Rechecking for null values\n",
        "df_store.isnull().sum()"
      ]
    },
    {
      "cell_type": "markdown",
      "metadata": {
        "id": "Qic3p21ek-_x"
      },
      "source": [
        "Now there are no missing values in the dataframe, hence we will proceed for further analysis."
      ]
    },
    {
      "cell_type": "markdown",
      "metadata": {
        "id": "nuCr7bnnlOeH"
      },
      "source": [
        "**Merging datasets**"
      ]
    },
    {
      "cell_type": "code",
      "execution_count": 54,
      "metadata": {
        "colab": {
          "base_uri": "https://localhost:8080/"
        },
        "id": "TIWM74hAkx9C",
        "outputId": "fe5be7c3-882e-45a3-9d10-c866dc44f1b5"
      },
      "outputs": [
        {
          "output_type": "execute_result",
          "data": {
            "text/plain": [
              "(1017209, 18)"
            ]
          },
          "metadata": {},
          "execution_count": 54
        }
      ],
      "source": [
        "# merging two dataframes on store column using left join\n",
        "merged_df= df_rossmann.merge(right=df_store,how=\"left\",on=\"Store\")\n",
        "merged_df.shape"
      ]
    },
    {
      "cell_type": "markdown",
      "metadata": {
        "id": "e9UadF4plWYC"
      },
      "source": [
        " **Type Casting**"
      ]
    },
    {
      "cell_type": "code",
      "execution_count": 55,
      "metadata": {
        "colab": {
          "base_uri": "https://localhost:8080/"
        },
        "id": "IjH-av5wlUHC",
        "outputId": "0787d7eb-778d-4587-d27d-1a38a0ad62c9"
      },
      "outputs": [
        {
          "output_type": "stream",
          "name": "stdout",
          "text": [
            "<class 'pandas.core.frame.DataFrame'>\n",
            "Int64Index: 1017209 entries, 0 to 1017208\n",
            "Data columns (total 18 columns):\n",
            " #   Column                     Non-Null Count    Dtype  \n",
            "---  ------                     --------------    -----  \n",
            " 0   Store                      1017209 non-null  int64  \n",
            " 1   DayOfWeek                  1017209 non-null  int64  \n",
            " 2   Date                       1017209 non-null  object \n",
            " 3   Sales                      1017209 non-null  int64  \n",
            " 4   Customers                  1017209 non-null  int64  \n",
            " 5   Open                       1017209 non-null  int64  \n",
            " 6   Promo                      1017209 non-null  int64  \n",
            " 7   StateHoliday               1017209 non-null  object \n",
            " 8   SchoolHoliday              1017209 non-null  int64  \n",
            " 9   StoreType                  1017209 non-null  object \n",
            " 10  Assortment                 1017209 non-null  object \n",
            " 11  CompetitionDistance        1017209 non-null  float64\n",
            " 12  CompetitionOpenSinceMonth  1017209 non-null  float64\n",
            " 13  CompetitionOpenSinceYear   1017209 non-null  float64\n",
            " 14  Promo2                     1017209 non-null  int64  \n",
            " 15  Promo2SinceWeek            1017209 non-null  float64\n",
            " 16  Promo2SinceYear            1017209 non-null  float64\n",
            " 17  PromoInterval              1017209 non-null  object \n",
            "dtypes: float64(5), int64(8), object(5)\n",
            "memory usage: 147.5+ MB\n"
          ]
        }
      ],
      "source": [
        "#checking the datatypes for the different columns in the Dataframe.\n",
        "merged_df.info()"
      ]
    },
    {
      "cell_type": "code",
      "execution_count": 56,
      "metadata": {
        "id": "lalpE126lf29"
      },
      "outputs": [],
      "source": [
        "# changing dtype into suitable format from both the datasets\n",
        "merged_df[\"Date\"]= pd.to_datetime(merged_df[\"Date\"])\n",
        "merged_df[\"CompetitionDistance\"]= merged_df[\"CompetitionDistance\"].astype(int)\n",
        "merged_df[\"CompetitionOpenSinceMonth\"]= merged_df[\"CompetitionOpenSinceMonth\"].astype(int)\n",
        "merged_df[\"CompetitionOpenSinceYear\"]= merged_df[\"CompetitionOpenSinceYear\"].astype(int)\n",
        "merged_df[\"Promo2SinceWeek\"]= merged_df[\"Promo2SinceWeek\"].astype(int)\n",
        "merged_df[\"Promo2SinceYear\"]= merged_df[\"Promo2SinceYear\"].astype(int)"
      ]
    },
    {
      "cell_type": "code",
      "execution_count": 57,
      "metadata": {
        "colab": {
          "base_uri": "https://localhost:8080/"
        },
        "id": "UKqh-c0Eltuj",
        "outputId": "df975735-2308-4cf8-c8b9-2e399d5e8a08"
      },
      "outputs": [
        {
          "output_type": "stream",
          "name": "stdout",
          "text": [
            "<class 'pandas.core.frame.DataFrame'>\n",
            "Int64Index: 1017209 entries, 0 to 1017208\n",
            "Data columns (total 18 columns):\n",
            " #   Column                     Non-Null Count    Dtype         \n",
            "---  ------                     --------------    -----         \n",
            " 0   Store                      1017209 non-null  int64         \n",
            " 1   DayOfWeek                  1017209 non-null  int64         \n",
            " 2   Date                       1017209 non-null  datetime64[ns]\n",
            " 3   Sales                      1017209 non-null  int64         \n",
            " 4   Customers                  1017209 non-null  int64         \n",
            " 5   Open                       1017209 non-null  int64         \n",
            " 6   Promo                      1017209 non-null  int64         \n",
            " 7   StateHoliday               1017209 non-null  object        \n",
            " 8   SchoolHoliday              1017209 non-null  int64         \n",
            " 9   StoreType                  1017209 non-null  object        \n",
            " 10  Assortment                 1017209 non-null  object        \n",
            " 11  CompetitionDistance        1017209 non-null  int64         \n",
            " 12  CompetitionOpenSinceMonth  1017209 non-null  int64         \n",
            " 13  CompetitionOpenSinceYear   1017209 non-null  int64         \n",
            " 14  Promo2                     1017209 non-null  int64         \n",
            " 15  Promo2SinceWeek            1017209 non-null  int64         \n",
            " 16  Promo2SinceYear            1017209 non-null  int64         \n",
            " 17  PromoInterval              1017209 non-null  object        \n",
            "dtypes: datetime64[ns](1), int64(13), object(4)\n",
            "memory usage: 147.5+ MB\n"
          ]
        }
      ],
      "source": [
        "#Rechecking the datatypes\n",
        "merged_df.info()"
      ]
    },
    {
      "cell_type": "code",
      "execution_count": 58,
      "metadata": {
        "id": "2ZndMG68lx7g",
        "colab": {
          "base_uri": "https://localhost:8080/"
        },
        "outputId": "b97a9051-bd66-4e9e-9bfc-bf9f129f7aa0"
      },
      "outputs": [
        {
          "output_type": "stream",
          "name": "stderr",
          "text": [
            "<ipython-input-58-13cfa63c2644>:6: FutureWarning: Series.dt.weekofyear and Series.dt.week have been deprecated. Please use Series.dt.isocalendar().week instead.\n",
            "  merged_df[\"WeekOfYear\"]=merged_df[\"Date\"].dt.weekofyear\n"
          ]
        }
      ],
      "source": [
        "#Creating 5 new columns for Days, Weeks of the year , month and year for Date column\n",
        "merged_df[\"Date\"]=pd.to_datetime(merged_df[\"Date\"])\n",
        "merged_df[\"Year\"]=merged_df[\"Date\"].dt.year\n",
        "merged_df[\"Month\"]=merged_df[\"Date\"].dt.month\n",
        "merged_df[\"day\"]=merged_df[\"Date\"].dt.day\n",
        "merged_df[\"WeekOfYear\"]=merged_df[\"Date\"].dt.weekofyear"
      ]
    },
    {
      "cell_type": "code",
      "source": [
        "print(merged_df.shape)\n",
        "merged_df.info()"
      ],
      "metadata": {
        "colab": {
          "base_uri": "https://localhost:8080/"
        },
        "id": "59XKfak8n0AW",
        "outputId": "6f597336-2629-47cd-a5a5-843753d32acf"
      },
      "execution_count": 59,
      "outputs": [
        {
          "output_type": "stream",
          "name": "stdout",
          "text": [
            "(1017209, 22)\n",
            "<class 'pandas.core.frame.DataFrame'>\n",
            "Int64Index: 1017209 entries, 0 to 1017208\n",
            "Data columns (total 22 columns):\n",
            " #   Column                     Non-Null Count    Dtype         \n",
            "---  ------                     --------------    -----         \n",
            " 0   Store                      1017209 non-null  int64         \n",
            " 1   DayOfWeek                  1017209 non-null  int64         \n",
            " 2   Date                       1017209 non-null  datetime64[ns]\n",
            " 3   Sales                      1017209 non-null  int64         \n",
            " 4   Customers                  1017209 non-null  int64         \n",
            " 5   Open                       1017209 non-null  int64         \n",
            " 6   Promo                      1017209 non-null  int64         \n",
            " 7   StateHoliday               1017209 non-null  object        \n",
            " 8   SchoolHoliday              1017209 non-null  int64         \n",
            " 9   StoreType                  1017209 non-null  object        \n",
            " 10  Assortment                 1017209 non-null  object        \n",
            " 11  CompetitionDistance        1017209 non-null  int64         \n",
            " 12  CompetitionOpenSinceMonth  1017209 non-null  int64         \n",
            " 13  CompetitionOpenSinceYear   1017209 non-null  int64         \n",
            " 14  Promo2                     1017209 non-null  int64         \n",
            " 15  Promo2SinceWeek            1017209 non-null  int64         \n",
            " 16  Promo2SinceYear            1017209 non-null  int64         \n",
            " 17  PromoInterval              1017209 non-null  object        \n",
            " 18  Year                       1017209 non-null  int64         \n",
            " 19  Month                      1017209 non-null  int64         \n",
            " 20  day                        1017209 non-null  int64         \n",
            " 21  WeekOfYear                 1017209 non-null  int64         \n",
            "dtypes: datetime64[ns](1), int64(17), object(4)\n",
            "memory usage: 178.5+ MB\n"
          ]
        }
      ]
    },
    {
      "cell_type": "markdown",
      "source": [
        "### What all manipulations have you done and insights you found?"
      ],
      "metadata": {
        "id": "MSa1f5Uengrz"
      }
    },
    {
      "cell_type": "markdown",
      "metadata": {
        "id": "f0Y7Fia9rPjU"
      },
      "source": [
        "We have done Data Wrangling process in three steps:\n",
        "\n",
        "* <b>Handling Missing Values</b>- We have observed that we have missing values in 6 columns of store Dataset.\n",
        "\n",
        "  *   <b>CompetitionDistance </b>- In this column we replaced the missing values with Median (beacuse the data was positively skewed)\n",
        "  *   <b>CompetitionOpenSinceMonth , CompetitionOpenSinceYear </b>- Missing values in these columns are replaced by their mode value.\n",
        "  *  <b>Promo2SinceWeek , Promo2SinceYear , PromoInterval</b> - Missing values are replaced by zero\n",
        "\n",
        "* <b> Merging Dataset</b> - We merged the two datasets using left join, and since there are no null values so the right join or inner join will also give us the same results.\n",
        "\n",
        "* <b>Typecasting </b> - We have converted <b>Date</b> column to datetime and float variables to integer.\n",
        "\n",
        "\n",
        "\n"
      ]
    },
    {
      "cell_type": "markdown",
      "source": [
        "## ***4. Data Vizualization, Storytelling & Experimenting with charts : Understand the relationships between variables***"
      ],
      "metadata": {
        "id": "GF8Ens_Soomf"
      }
    },
    {
      "cell_type": "markdown",
      "metadata": {
        "id": "svnz_-GbsQzF"
      },
      "source": [
        "#### Chart - 1-  Daily Mean Sale of Stores"
      ]
    },
    {
      "cell_type": "code",
      "execution_count": 40,
      "metadata": {
        "colab": {
          "base_uri": "https://localhost:8080/",
          "height": 590
        },
        "id": "S8BKIcAvl0gf",
        "outputId": "4a66f697-c26e-48cc-d3a6-f35913415d8a"
      },
      "outputs": [
        {
          "output_type": "execute_result",
          "data": {
            "text/plain": [
              "<matplotlib.legend.Legend at 0x7f1515569d50>"
            ]
          },
          "metadata": {},
          "execution_count": 40
        },
        {
          "output_type": "display_data",
          "data": {
            "text/plain": [
              "<Figure size 1500x600 with 1 Axes>"
            ],
            "image/png": "[encoded data removed]"
          },
          "metadata": {}
        }
      ],
      "source": [
        "# Chart1 - visualization code\n",
        "\n",
        "#Visualizing everyday sales with average everyday sales\n",
        "plt.subplots(figsize=(15,6))\n",
        "\n",
        "daily_sales=merged_df.groupby([\"Date\"]).Sales.sum()         #Grouping sum of daily sale Data\n",
        "daily_sales.plot(kind=\"line\")                               #Creating line chart\n",
        "plt.axhline(y=daily_sales.mean(),label=f\"everyday mean sales={round(daily_sales.mean(),2)} \",color=\"yellow\", linestyle=\"--\")         #Mean line code\n",
        "plt.legend()\n"
      ]
    },
    {
      "cell_type": "markdown",
      "source": [
        "**1. Why did you pick the specific chart?**"
      ],
      "metadata": {
        "id": "K5QZ13OEpz2H"
      }
    },
    {
      "cell_type": "markdown",
      "metadata": {
        "id": "XvGYukqnTWz2"
      },
      "source": [
        "Line Chart was choosen to analyse the total daily sales fluctuations on it because they are particularly effective in illustrating how data points change and evolve over time. Line charts are relatively simple and easy to interpret compared to other chart types. They provide a clear visual representation of data without excessive clutter or distractions, making them accessible to a wide range of viewers."
      ]
    },
    {
      "cell_type": "markdown",
      "source": [
        "##### **2. What is/are the insight(s) found from the chart?**"
      ],
      "metadata": {
        "id": "lQ7QKXXCp7Bj"
      }
    },
    {
      "cell_type": "markdown",
      "source": [
        "Mean line shows everyday mean sale is 62,34,798.96/- that means 1115 Stores make this average sale. So average sale for 1 store will be Everyday meansale/1115 =5591.74/-"
      ],
      "metadata": {
        "id": "C_j1G7yiqdRP"
      }
    },
    {
      "cell_type": "markdown",
      "source": [
        "**3. Will the gained insights help creating a positive business impact?**\n",
        "**Are there any insights that lead to negative growth? Justify with specific reason**."
      ],
      "metadata": {
        "id": "448CDAPjqfQr"
      }
    },
    {
      "cell_type": "markdown",
      "metadata": {
        "id": "j-_dRmxBThJ8"
      },
      "source": [
        "From visual analysis, we can conclude that the sales are almost evenly distributed around the average sales which imples that overall daily sales have stabilised and new innovative steps need to be taken to increase the sales."
      ]
    },
    {
      "cell_type": "markdown",
      "source": [
        "#### Chart - 2 Average Sales on different Days of week"
      ],
      "metadata": {
        "id": "KSlN3yHqYklG"
      }
    },
    {
      "cell_type": "code",
      "source": [
        "# Chart - 2 visualization code\n",
        "plt.rcParams['figure.figsize']=(8, 6)\n",
        "sns.barplot(x=merged_df[\"DayOfWeek\"],y=merged_df['Sales'])\n"
      ],
      "metadata": {
        "id": "R4YgtaqtYklH",
        "colab": {
          "base_uri": "https://localhost:8080/",
          "height": 559
        },
        "outputId": "f3f3f9d5-13ee-4ebc-8fda-170e2538943c"
      },
      "execution_count": 41,
      "outputs": [
        {
          "output_type": "execute_result",
          "data": {
            "text/plain": [
              "<Axes: xlabel='DayOfWeek', ylabel='Sales'>"
            ]
          },
          "metadata": {},
          "execution_count": 41
        },
        {
          "output_type": "display_data",
          "data": {
            "text/plain": [
              "<Figure size 800x600 with 1 Axes>"
            ],
            "image/png": "[encoded data removed]"
          },
          "metadata": {}
        }
      ]
    },
    {
      "cell_type": "code",
      "source": [
        "weekly_sale=merged_df.groupby(\"DayOfWeek\")[\"Sales\",\"Open\"].mean().round(2)\n",
        "#weekly_sale.insert(2,\"Sales_for_open_days\",[\"Sales\"].mean()/[\"Open\"].mean())\n",
        "weekly_sale"
      ],
      "metadata": {
        "colab": {
          "base_uri": "https://localhost:8080/",
          "height": 335
        },
        "id": "i7_ZbGXUfg0j",
        "outputId": "825b1f7f-5faa-4379-945e-723d66bc3015"
      },
      "execution_count": 106,
      "outputs": [
        {
          "output_type": "stream",
          "name": "stderr",
          "text": [
            "<ipython-input-106-301474453054>:1: FutureWarning: Indexing with multiple keys (implicitly converted to a tuple of keys) will be deprecated, use a list instead.\n",
            "  weekly_sale=merged_df.groupby(\"DayOfWeek\")[\"Sales\",\"Open\"].mean().round(2)\n"
          ]
        },
        {
          "output_type": "execute_result",
          "data": {
            "text/plain": [
              "             Sales  Open\n",
              "DayOfWeek               \n",
              "1          7809.04  0.95\n",
              "2          7005.24  0.99\n",
              "3          6555.88  0.97\n",
              "4          6247.58  0.92\n",
              "5          6723.27  0.95\n",
              "6          5847.56  1.00\n",
              "7           204.18  0.02"
            ],
            "text/html": [
              "\n",
              "  <div id=\"df-a5441adc-e07e-4a17-8fea-499399e19f58\">\n",
              "    <div class=\"colab-df-container\">\n",
              "      <div>\n",
              "<style scoped>\n",
              "    .dataframe tbody tr th:only-of-type {\n",
              "        vertical-align: middle;\n",
              "    }\n",
              "\n",
              "    .dataframe tbody tr th {\n",
              "        vertical-align: top;\n",
              "    }\n",
              "\n",
              "    .dataframe thead th {\n",
              "        text-align: right;\n",
              "    }\n",
              "</style>\n",
              "<table border=\"1\" class=\"dataframe\">\n",
              "  <thead>\n",
              "    <tr style=\"text-align: right;\">\n",
              "      <th></th>\n",
              "      <th>Sales</th>\n",
              "      <th>Open</th>\n",
              "    </tr>\n",
              "    <tr>\n",
              "      <th>DayOfWeek</th>\n",
              "      <th></th>\n",
              "      <th></th>\n",
              "    </tr>\n",
              "  </thead>\n",
              "  <tbody>\n",
              "    <tr>\n",
              "      <th>1</th>\n",
              "      <td>7809.04</td>\n",
              "      <td>0.95</td>\n",
              "    </tr>\n",
              "    <tr>\n",
              "      <th>2</th>\n",
              "      <td>7005.24</td>\n",
              "      <td>0.99</td>\n",
              "    </tr>\n",
              "    <tr>\n",
              "      <th>3</th>\n",
              "      <td>6555.88</td>\n",
              "      <td>0.97</td>\n",
              "    </tr>\n",
              "    <tr>\n",
              "      <th>4</th>\n",
              "      <td>6247.58</td>\n",
              "      <td>0.92</td>\n",
              "    </tr>\n",
              "    <tr>\n",
              "      <th>5</th>\n",
              "      <td>6723.27</td>\n",
              "      <td>0.95</td>\n",
              "    </tr>\n",
              "    <tr>\n",
              "      <th>6</th>\n",
              "      <td>5847.56</td>\n",
              "      <td>1.00</td>\n",
              "    </tr>\n",
              "    <tr>\n",
              "      <th>7</th>\n",
              "      <td>204.18</td>\n",
              "      <td>0.02</td>\n",
              "    </tr>\n",
              "  </tbody>\n",
              "</table>\n",
              "</div>\n",
              "      <button class=\"colab-df-convert\" onclick=\"convertToInteractive('df-a5441adc-e07e-4a17-8fea-499399e19f58')\"\n",
              "              title=\"Convert this dataframe to an interactive table.\"\n",
              "              style=\"display:none;\">\n",
              "        \n",
              "  <svg xmlns=\"http://www.w3.org/2000/svg\" height=\"24px\"viewBox=\"0 0 24 24\"\n",
              "       width=\"24px\">\n",
              "    <path d=\"M0 0h24v24H0V0z\" fill=\"none\"/>\n",
              "    <path d=\"M18.56 5.44l.94 2.06.94-2.06 2.06-.94-2.06-.94-.94-2.06-.94 2.06-2.06.94zm-11 1L8.5 8.5l.94-2.06 2.06-.94-2.06-.94L8.5 2.5l-.94 2.06-2.06.94zm10 10l.94 2.06.94-2.06 2.06-.94-2.06-.94-.94-2.06-.94 2.06-2.06.94z\"/><path d=\"M17.41 7.96l-1.37-1.37c-.4-.4-.92-.59-1.43-.59-.52 0-1.04.2-1.43.59L10.3 9.45l-7.72 7.72c-.78.78-.78 2.05 0 2.83L4 21.41c.39.39.9.59 1.41.59.51 0 1.02-.2 1.41-.59l7.78-7.78 2.81-2.81c.8-.78.8-2.07 0-2.86zM5.41 20L4 18.59l7.72-7.72 1.47 1.35L5.41 20z\"/>\n",
              "  </svg>\n",
              "      </button>\n",
              "      \n",
              "  <style>\n",
              "    .colab-df-container {\n",
              "      display:flex;\n",
              "      flex-wrap:wrap;\n",
              "      gap: 12px;\n",
              "    }\n",
              "\n",
              "    .colab-df-convert {\n",
              "      background-color: #E8F0FE;\n",
              "      border: none;\n",
              "      border-radius: 50%;\n",
              "      cursor: pointer;\n",
              "      display: none;\n",
              "      fill: #1967D2;\n",
              "      height: 32px;\n",
              "      padding: 0 0 0 0;\n",
              "      width: 32px;\n",
              "    }\n",
              "\n",
              "    .colab-df-convert:hover {\n",
              "      background-color: #E2EBFA;\n",
              "      box-shadow: 0px 1px 2px rgba(60, 64, 67, 0.3), 0px 1px 3px 1px rgba(60, 64, 67, 0.15);\n",
              "      fill: #174EA6;\n",
              "    }\n",
              "\n",
              "    [theme=dark] .colab-df-convert {\n",
              "      background-color: #3B4455;\n",
              "      fill: #D2E3FC;\n",
              "    }\n",
              "\n",
              "    [theme=dark] .colab-df-convert:hover {\n",
              "      background-color: #434B5C;\n",
              "      box-shadow: 0px 1px 3px 1px rgba(0, 0, 0, 0.15);\n",
              "      filter: drop-shadow(0px 1px 2px rgba(0, 0, 0, 0.3));\n",
              "      fill: #FFFFFF;\n",
              "    }\n",
              "  </style>\n",
              "\n",
              "      <script>\n",
              "        const buttonEl =\n",
              "          document.querySelector('#df-a5441adc-e07e-4a17-8fea-499399e19f58 button.colab-df-convert');\n",
              "        buttonEl.style.display =\n",
              "          google.colab.kernel.accessAllowed ? 'block' : 'none';\n",
              "\n",
              "        async function convertToInteractive(key) {\n",
              "          const element = document.querySelector('#df-a5441adc-e07e-4a17-8fea-499399e19f58');\n",
              "          const dataTable =\n",
              "            await google.colab.kernel.invokeFunction('convertToInteractive',\n",
              "                                                     [key], {});\n",
              "          if (!dataTable) return;\n",
              "\n",
              "          const docLinkHtml = 'Like what you see? Visit the ' +\n",
              "            '<a target=\"_blank\" href=https://colab.research.google.com/notebooks/data_table.ipynb>data table notebook</a>'\n",
              "            + ' to learn more about interactive tables.';\n",
              "          element.innerHTML = '';\n",
              "          dataTable['output_type'] = 'display_data';\n",
              "          await google.colab.output.renderOutput(dataTable, element);\n",
              "          const docLink = document.createElement('div');\n",
              "          docLink.innerHTML = docLinkHtml;\n",
              "          element.appendChild(docLink);\n",
              "        }\n",
              "      </script>\n",
              "    </div>\n",
              "  </div>\n",
              "  "
            ]
          },
          "metadata": {},
          "execution_count": 106
        }
      ]
    },
    {
      "cell_type": "code",
      "source": [
        "plt.rcParams['figure.figsize']=(8, 6)\n",
        "sns.barplot(x=merged_df[\"Open\"],y=merged_df[\"Sales\"],hue=merged_df[\"DayOfWeek\"])"
      ],
      "metadata": {
        "colab": {
          "base_uri": "https://localhost:8080/",
          "height": 559
        },
        "id": "pAYHEYgn5nOs",
        "outputId": "1849631e-d52f-45f5-a25a-628cccddb9be"
      },
      "execution_count": 51,
      "outputs": [
        {
          "output_type": "execute_result",
          "data": {
            "text/plain": [
              "<Axes: xlabel='Open', ylabel='Sales'>"
            ]
          },
          "metadata": {},
          "execution_count": 51
        },
        {
          "output_type": "display_data",
          "data": {
            "text/plain": [
              "<Figure size 800x600 with 1 Axes>"
            ],
            "image/png": "[encoded data removed]"
          },
          "metadata": {}
        }
      ]
    },
    {
      "cell_type": "markdown",
      "source": [
        "![average sale.jpeg](data:image/jpeg;base64,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)"
      ],
      "metadata": {
        "id": "tjemEx4C8CPG"
      }
    },
    {
      "cell_type": "markdown",
      "source": [
        "**1. Why did you pick the specific chart?**"
      ],
      "metadata": {
        "id": "BbUhrgpFe1ea"
      }
    },
    {
      "cell_type": "markdown",
      "source": [
        "Answer Here."
      ],
      "metadata": {
        "id": "5aaW0BYyYklI"
      }
    },
    {
      "cell_type": "markdown",
      "source": [
        "##### **2. What is/are the insight(s) found from the chart?**"
      ],
      "metadata": {
        "id": "fG7RpmCYe1e7"
      }
    },
    {
      "cell_type": "markdown",
      "source": [
        "Answer Here"
      ],
      "metadata": {
        "id": "PSx9atu2YklI"
      }
    },
    {
      "cell_type": "markdown",
      "source": [
        "**3. Will the gained insights help creating a positive business impact?**\n",
        "**Are there any insights that lead to negative growth? Justify with specific reason**."
      ],
      "metadata": {
        "id": "no-WrJUhe1e7"
      }
    },
    {
      "cell_type": "markdown",
      "source": [
        "Answer Here"
      ],
      "metadata": {
        "id": "BcBbebzrYklV"
      }
    },
    {
      "cell_type": "markdown",
      "source": [
        "#### Chart - 3"
      ],
      "metadata": {
        "id": "EM7whBJCYoAo"
      }
    },
    {
      "cell_type": "code",
      "source": [
        "# Chart - 3 visualization code"
      ],
      "metadata": {
        "id": "t6GMdE67YoAp"
      },
      "execution_count": null,
      "outputs": []
    },
    {
      "cell_type": "markdown",
      "source": [
        "##### 1. Why did you pick the specific chart?"
      ],
      "metadata": {
        "id": "fge-S5ZAYoAp"
      }
    },
    {
      "cell_type": "markdown",
      "source": [
        "Answer Here."
      ],
      "metadata": {
        "id": "5dBItgRVYoAp"
      }
    },
    {
      "cell_type": "markdown",
      "source": [
        "##### 2. What is/are the insight(s) found from the chart?"
      ],
      "metadata": {
        "id": "85gYPyotYoAp"
      }
    },
    {
      "cell_type": "markdown",
      "source": [
        "Answer Here"
      ],
      "metadata": {
        "id": "4jstXR6OYoAp"
      }
    },
    {
      "cell_type": "markdown",
      "source": [
        "##### 3. Will the gained insights help creating a positive business impact?\n",
        "Are there any insights that lead to negative growth? Justify with specific reason."
      ],
      "metadata": {
        "id": "RoGjAbkUYoAp"
      }
    },
    {
      "cell_type": "markdown",
      "source": [
        "Answer Here"
      ],
      "metadata": {
        "id": "zfJ8IqMcYoAp"
      }
    },
    {
      "cell_type": "markdown",
      "source": [
        "#### Chart - 4"
      ],
      "metadata": {
        "id": "4Of9eVA-YrdM"
      }
    },
    {
      "cell_type": "code",
      "source": [
        "# Chart - 4 visualization code"
      ],
      "metadata": {
        "id": "irlUoxc8YrdO"
      },
      "execution_count": null,
      "outputs": []
    },
    {
      "cell_type": "markdown",
      "source": [
        "##### 1. Why did you pick the specific chart?"
      ],
      "metadata": {
        "id": "iky9q4vBYrdO"
      }
    },
    {
      "cell_type": "markdown",
      "source": [
        "Answer Here."
      ],
      "metadata": {
        "id": "aJRCwT6DYrdO"
      }
    },
    {
      "cell_type": "markdown",
      "source": [
        "##### 2. What is/are the insight(s) found from the chart?"
      ],
      "metadata": {
        "id": "F6T5p64dYrdO"
      }
    },
    {
      "cell_type": "markdown",
      "source": [
        "Answer Here"
      ],
      "metadata": {
        "id": "Xx8WAJvtYrdO"
      }
    },
    {
      "cell_type": "markdown",
      "source": [
        "##### 3. Will the gained insights help creating a positive business impact?\n",
        "Are there any insights that lead to negative growth? Justify with specific reason."
      ],
      "metadata": {
        "id": "y-Ehk30pYrdP"
      }
    },
    {
      "cell_type": "markdown",
      "source": [
        "Answer Here"
      ],
      "metadata": {
        "id": "jLNxxz7MYrdP"
      }
    },
    {
      "cell_type": "markdown",
      "source": [
        "#### Chart - 5"
      ],
      "metadata": {
        "id": "bamQiAODYuh1"
      }
    },
    {
      "cell_type": "code",
      "source": [
        "# Chart - 5 visualization code"
      ],
      "metadata": {
        "id": "TIJwrbroYuh3"
      },
      "execution_count": null,
      "outputs": []
    },
    {
      "cell_type": "markdown",
      "source": [
        "##### 1. Why did you pick the specific chart?"
      ],
      "metadata": {
        "id": "QHF8YVU7Yuh3"
      }
    },
    {
      "cell_type": "markdown",
      "source": [
        "Answer Here."
      ],
      "metadata": {
        "id": "dcxuIMRPYuh3"
      }
    },
    {
      "cell_type": "markdown",
      "source": [
        "##### 2. What is/are the insight(s) found from the chart?"
      ],
      "metadata": {
        "id": "GwzvFGzlYuh3"
      }
    },
    {
      "cell_type": "markdown",
      "source": [
        "Answer Here"
      ],
      "metadata": {
        "id": "uyqkiB8YYuh3"
      }
    },
    {
      "cell_type": "markdown",
      "source": [
        "##### 3. Will the gained insights help creating a positive business impact?\n",
        "Are there any insights that lead to negative growth? Justify with specific reason."
      ],
      "metadata": {
        "id": "qYpmQ266Yuh3"
      }
    },
    {
      "cell_type": "markdown",
      "source": [
        "Answer Here"
      ],
      "metadata": {
        "id": "_WtzZ_hCYuh4"
      }
    },
    {
      "cell_type": "markdown",
      "source": [
        "#### Chart - 6"
      ],
      "metadata": {
        "id": "OH-pJp9IphqM"
      }
    },
    {
      "cell_type": "code",
      "source": [
        "# Chart - 6 visualization code"
      ],
      "metadata": {
        "id": "kuRf4wtuphqN"
      },
      "execution_count": null,
      "outputs": []
    },
    {
      "cell_type": "markdown",
      "source": [
        "##### 1. Why did you pick the specific chart?"
      ],
      "metadata": {
        "id": "bbFf2-_FphqN"
      }
    },
    {
      "cell_type": "markdown",
      "source": [
        "Answer Here."
      ],
      "metadata": {
        "id": "loh7H2nzphqN"
      }
    },
    {
      "cell_type": "markdown",
      "source": [
        "##### 2. What is/are the insight(s) found from the chart?"
      ],
      "metadata": {
        "id": "_ouA3fa0phqN"
      }
    },
    {
      "cell_type": "markdown",
      "source": [
        "Answer Here"
      ],
      "metadata": {
        "id": "VECbqPI7phqN"
      }
    },
    {
      "cell_type": "markdown",
      "source": [
        "##### 3. Will the gained insights help creating a positive business impact?\n",
        "Are there any insights that lead to negative growth? Justify with specific reason."
      ],
      "metadata": {
        "id": "Seke61FWphqN"
      }
    },
    {
      "cell_type": "markdown",
      "source": [
        "Answer Here"
      ],
      "metadata": {
        "id": "DW4_bGpfphqN"
      }
    },
    {
      "cell_type": "markdown",
      "source": [
        "#### Chart - 7"
      ],
      "metadata": {
        "id": "PIIx-8_IphqN"
      }
    },
    {
      "cell_type": "code",
      "source": [
        "# Chart - 7 visualization code"
      ],
      "metadata": {
        "id": "lqAIGUfyphqO"
      },
      "execution_count": null,
      "outputs": []
    },
    {
      "cell_type": "markdown",
      "source": [
        "##### 1. Why did you pick the specific chart?"
      ],
      "metadata": {
        "id": "t27r6nlMphqO"
      }
    },
    {
      "cell_type": "markdown",
      "source": [
        "Answer Here."
      ],
      "metadata": {
        "id": "iv6ro40sphqO"
      }
    },
    {
      "cell_type": "markdown",
      "source": [
        "##### 2. What is/are the insight(s) found from the chart?"
      ],
      "metadata": {
        "id": "r2jJGEOYphqO"
      }
    },
    {
      "cell_type": "markdown",
      "source": [
        "Answer Here"
      ],
      "metadata": {
        "id": "Po6ZPi4hphqO"
      }
    },
    {
      "cell_type": "markdown",
      "source": [
        "##### 3. Will the gained insights help creating a positive business impact?\n",
        "Are there any insights that lead to negative growth? Justify with specific reason."
      ],
      "metadata": {
        "id": "b0JNsNcRphqO"
      }
    },
    {
      "cell_type": "markdown",
      "source": [
        "Answer Here"
      ],
      "metadata": {
        "id": "xvSq8iUTphqO"
      }
    },
    {
      "cell_type": "markdown",
      "source": [
        "#### Chart - 8"
      ],
      "metadata": {
        "id": "BZR9WyysphqO"
      }
    },
    {
      "cell_type": "code",
      "source": [
        "# Chart - 8 visualization code"
      ],
      "metadata": {
        "id": "TdPTWpAVphqO"
      },
      "execution_count": null,
      "outputs": []
    },
    {
      "cell_type": "markdown",
      "source": [
        "##### 1. Why did you pick the specific chart?"
      ],
      "metadata": {
        "id": "jj7wYXLtphqO"
      }
    },
    {
      "cell_type": "markdown",
      "source": [
        "Answer Here."
      ],
      "metadata": {
        "id": "Ob8u6rCTphqO"
      }
    },
    {
      "cell_type": "markdown",
      "source": [
        "##### 2. What is/are the insight(s) found from the chart?"
      ],
      "metadata": {
        "id": "eZrbJ2SmphqO"
      }
    },
    {
      "cell_type": "markdown",
      "source": [
        "Answer Here"
      ],
      "metadata": {
        "id": "mZtgC_hjphqO"
      }
    },
    {
      "cell_type": "markdown",
      "source": [
        "##### 3. Will the gained insights help creating a positive business impact?\n",
        "Are there any insights that lead to negative growth? Justify with specific reason."
      ],
      "metadata": {
        "id": "rFu4xreNphqO"
      }
    },
    {
      "cell_type": "markdown",
      "source": [
        "Answer Here"
      ],
      "metadata": {
        "id": "ey_0qi68phqO"
      }
    },
    {
      "cell_type": "markdown",
      "source": [
        "#### Chart - 9"
      ],
      "metadata": {
        "id": "YJ55k-q6phqO"
      }
    },
    {
      "cell_type": "code",
      "source": [
        "# Chart - 9 visualization code"
      ],
      "metadata": {
        "id": "B2aS4O1ophqO"
      },
      "execution_count": null,
      "outputs": []
    },
    {
      "cell_type": "markdown",
      "source": [
        "##### 1. Why did you pick the specific chart?"
      ],
      "metadata": {
        "id": "gCFgpxoyphqP"
      }
    },
    {
      "cell_type": "markdown",
      "source": [
        "Answer Here."
      ],
      "metadata": {
        "id": "TVxDimi2phqP"
      }
    },
    {
      "cell_type": "markdown",
      "source": [
        "##### 2. What is/are the insight(s) found from the chart?"
      ],
      "metadata": {
        "id": "OVtJsKN_phqQ"
      }
    },
    {
      "cell_type": "markdown",
      "source": [
        "Answer Here"
      ],
      "metadata": {
        "id": "ngGi97qjphqQ"
      }
    },
    {
      "cell_type": "markdown",
      "source": [
        "##### 3. Will the gained insights help creating a positive business impact?\n",
        "Are there any insights that lead to negative growth? Justify with specific reason."
      ],
      "metadata": {
        "id": "lssrdh5qphqQ"
      }
    },
    {
      "cell_type": "markdown",
      "source": [
        "Answer Here"
      ],
      "metadata": {
        "id": "tBpY5ekJphqQ"
      }
    },
    {
      "cell_type": "markdown",
      "source": [
        "#### Chart - 10"
      ],
      "metadata": {
        "id": "U2RJ9gkRphqQ"
      }
    },
    {
      "cell_type": "code",
      "source": [
        "# Chart - 10 visualization code"
      ],
      "metadata": {
        "id": "GM7a4YP4phqQ"
      },
      "execution_count": null,
      "outputs": []
    },
    {
      "cell_type": "markdown",
      "source": [
        "##### 1. Why did you pick the specific chart?"
      ],
      "metadata": {
        "id": "1M8mcRywphqQ"
      }
    },
    {
      "cell_type": "markdown",
      "source": [
        "Answer Here."
      ],
      "metadata": {
        "id": "8agQvks0phqQ"
      }
    },
    {
      "cell_type": "markdown",
      "source": [
        "##### 2. What is/are the insight(s) found from the chart?"
      ],
      "metadata": {
        "id": "tgIPom80phqQ"
      }
    },
    {
      "cell_type": "markdown",
      "source": [
        "Answer Here"
      ],
      "metadata": {
        "id": "Qp13pnNzphqQ"
      }
    },
    {
      "cell_type": "markdown",
      "source": [
        "##### 3. Will the gained insights help creating a positive business impact?\n",
        "Are there any insights that lead to negative growth? Justify with specific reason."
      ],
      "metadata": {
        "id": "JMzcOPDDphqR"
      }
    },
    {
      "cell_type": "markdown",
      "source": [
        "Answer Here"
      ],
      "metadata": {
        "id": "R4Ka1PC2phqR"
      }
    },
    {
      "cell_type": "markdown",
      "source": [
        "#### Chart - 11"
      ],
      "metadata": {
        "id": "x-EpHcCOp1ci"
      }
    },
    {
      "cell_type": "code",
      "source": [
        "# Chart - 11 visualization code"
      ],
      "metadata": {
        "id": "mAQTIvtqp1cj"
      },
      "execution_count": null,
      "outputs": []
    },
    {
      "cell_type": "markdown",
      "source": [
        "##### 1. Why did you pick the specific chart?"
      ],
      "metadata": {
        "id": "X_VqEhTip1ck"
      }
    },
    {
      "cell_type": "markdown",
      "source": [
        "Answer Here."
      ],
      "metadata": {
        "id": "-vsMzt_np1ck"
      }
    },
    {
      "cell_type": "markdown",
      "source": [
        "##### 2. What is/are the insight(s) found from the chart?"
      ],
      "metadata": {
        "id": "8zGJKyg5p1ck"
      }
    },
    {
      "cell_type": "markdown",
      "source": [
        "Answer Here"
      ],
      "metadata": {
        "id": "ZYdMsrqVp1ck"
      }
    },
    {
      "cell_type": "markdown",
      "source": [
        "##### 3. Will the gained insights help creating a positive business impact?\n",
        "Are there any insights that lead to negative growth? Justify with specific reason."
      ],
      "metadata": {
        "id": "PVzmfK_Ep1ck"
      }
    },
    {
      "cell_type": "markdown",
      "source": [
        "Answer Here"
      ],
      "metadata": {
        "id": "druuKYZpp1ck"
      }
    },
    {
      "cell_type": "markdown",
      "source": [
        "#### Chart - 12"
      ],
      "metadata": {
        "id": "n3dbpmDWp1ck"
      }
    },
    {
      "cell_type": "code",
      "source": [
        "# Chart - 12 visualization code"
      ],
      "metadata": {
        "id": "bwevp1tKp1ck"
      },
      "execution_count": null,
      "outputs": []
    },
    {
      "cell_type": "markdown",
      "source": [
        "##### 1. Why did you pick the specific chart?"
      ],
      "metadata": {
        "id": "ylSl6qgtp1ck"
      }
    },
    {
      "cell_type": "markdown",
      "source": [
        "Answer Here."
      ],
      "metadata": {
        "id": "m2xqNkiQp1ck"
      }
    },
    {
      "cell_type": "markdown",
      "source": [
        "##### 2. What is/are the insight(s) found from the chart?"
      ],
      "metadata": {
        "id": "ZWILFDl5p1ck"
      }
    },
    {
      "cell_type": "markdown",
      "source": [
        "Answer Here"
      ],
      "metadata": {
        "id": "x-lUsV2mp1ck"
      }
    },
    {
      "cell_type": "markdown",
      "source": [
        "##### 3. Will the gained insights help creating a positive business impact?\n",
        "Are there any insights that lead to negative growth? Justify with specific reason."
      ],
      "metadata": {
        "id": "M7G43BXep1ck"
      }
    },
    {
      "cell_type": "markdown",
      "source": [
        "Answer Here"
      ],
      "metadata": {
        "id": "5wwDJXsLp1cl"
      }
    },
    {
      "cell_type": "markdown",
      "source": [
        "#### Chart - 13"
      ],
      "metadata": {
        "id": "Ag9LCva-p1cl"
      }
    },
    {
      "cell_type": "code",
      "source": [
        "# Chart - 13 visualization code"
      ],
      "metadata": {
        "id": "EUfxeq9-p1cl"
      },
      "execution_count": null,
      "outputs": []
    },
    {
      "cell_type": "markdown",
      "source": [
        "##### 1. Why did you pick the specific chart?"
      ],
      "metadata": {
        "id": "E6MkPsBcp1cl"
      }
    },
    {
      "cell_type": "markdown",
      "source": [
        "Answer Here."
      ],
      "metadata": {
        "id": "V22bRsFWp1cl"
      }
    },
    {
      "cell_type": "markdown",
      "source": [
        "##### 2. What is/are the insight(s) found from the chart?"
      ],
      "metadata": {
        "id": "2cELzS2fp1cl"
      }
    },
    {
      "cell_type": "markdown",
      "source": [
        "Answer Here"
      ],
      "metadata": {
        "id": "ozQPc2_Ip1cl"
      }
    },
    {
      "cell_type": "markdown",
      "source": [
        "##### 3. Will the gained insights help creating a positive business impact?\n",
        "Are there any insights that lead to negative growth? Justify with specific reason."
      ],
      "metadata": {
        "id": "3MPXvC8up1cl"
      }
    },
    {
      "cell_type": "markdown",
      "source": [
        "Answer Here"
      ],
      "metadata": {
        "id": "GL8l1tdLp1cl"
      }
    },
    {
      "cell_type": "markdown",
      "source": [
        "#### Chart - 14 - Correlation Heatmap"
      ],
      "metadata": {
        "id": "NC_X3p0fY2L0"
      }
    },
    {
      "cell_type": "code",
      "source": [
        "# Correlation Heatmap visualization code"
      ],
      "metadata": {
        "id": "xyC9zolEZNRQ"
      },
      "execution_count": null,
      "outputs": []
    },
    {
      "cell_type": "markdown",
      "source": [
        "##### 1. Why did you pick the specific chart?"
      ],
      "metadata": {
        "id": "UV0SzAkaZNRQ"
      }
    },
    {
      "cell_type": "markdown",
      "source": [
        "Answer Here."
      ],
      "metadata": {
        "id": "DVPuT8LYZNRQ"
      }
    },
    {
      "cell_type": "markdown",
      "source": [
        "##### 2. What is/are the insight(s) found from the chart?"
      ],
      "metadata": {
        "id": "YPEH6qLeZNRQ"
      }
    },
    {
      "cell_type": "markdown",
      "source": [
        "Answer Here"
      ],
      "metadata": {
        "id": "bfSqtnDqZNRR"
      }
    },
    {
      "cell_type": "markdown",
      "source": [
        "#### Chart - 15 - Pair Plot"
      ],
      "metadata": {
        "id": "q29F0dvdveiT"
      }
    },
    {
      "cell_type": "code",
      "source": [
        "# Pair Plot visualization code"
      ],
      "metadata": {
        "id": "o58-TEIhveiU"
      },
      "execution_count": null,
      "outputs": []
    },
    {
      "cell_type": "markdown",
      "source": [
        "##### 1. Why did you pick the specific chart?"
      ],
      "metadata": {
        "id": "EXh0U9oCveiU"
      }
    },
    {
      "cell_type": "markdown",
      "source": [
        "Answer Here."
      ],
      "metadata": {
        "id": "eMmPjTByveiU"
      }
    },
    {
      "cell_type": "markdown",
      "source": [
        "##### 2. What is/are the insight(s) found from the chart?"
      ],
      "metadata": {
        "id": "22aHeOlLveiV"
      }
    },
    {
      "cell_type": "markdown",
      "source": [
        "Answer Here"
      ],
      "metadata": {
        "id": "uPQ8RGwHveiV"
      }
    },
    {
      "cell_type": "markdown",
      "source": [
        "## ***5. Hypothesis Testing***"
      ],
      "metadata": {
        "id": "g-ATYxFrGrvw"
      }
    },
    {
      "cell_type": "markdown",
      "source": [
        "### Based on your chart experiments, define three hypothetical statements from the dataset. In the next three questions, perform hypothesis testing to obtain final conclusion about the statements through your code and statistical testing."
      ],
      "metadata": {
        "id": "Yfr_Vlr8HBkt"
      }
    },
    {
      "cell_type": "markdown",
      "source": [
        "Answer Here."
      ],
      "metadata": {
        "id": "-7MS06SUHkB-"
      }
    },
    {
      "cell_type": "markdown",
      "source": [
        "### Hypothetical Statement - 1"
      ],
      "metadata": {
        "id": "8yEUt7NnHlrM"
      }
    },
    {
      "cell_type": "markdown",
      "source": [
        "#### 1. State Your research hypothesis as a null hypothesis and alternate hypothesis."
      ],
      "metadata": {
        "id": "tEA2Xm5dHt1r"
      }
    },
    {
      "cell_type": "markdown",
      "source": [
        "Answer Here."
      ],
      "metadata": {
        "id": "HI9ZP0laH0D-"
      }
    },
    {
      "cell_type": "markdown",
      "source": [
        "#### 2. Perform an appropriate statistical test."
      ],
      "metadata": {
        "id": "I79__PHVH19G"
      }
    },
    {
      "cell_type": "code",
      "source": [
        "# Perform Statistical Test to obtain P-Value"
      ],
      "metadata": {
        "id": "oZrfquKtyian"
      },
      "execution_count": null,
      "outputs": []
    },
    {
      "cell_type": "markdown",
      "source": [
        "##### Which statistical test have you done to obtain P-Value?"
      ],
      "metadata": {
        "id": "Ou-I18pAyIpj"
      }
    },
    {
      "cell_type": "markdown",
      "source": [
        "Answer Here."
      ],
      "metadata": {
        "id": "s2U0kk00ygSB"
      }
    },
    {
      "cell_type": "markdown",
      "source": [
        "##### Why did you choose the specific statistical test?"
      ],
      "metadata": {
        "id": "fF3858GYyt-u"
      }
    },
    {
      "cell_type": "markdown",
      "source": [
        "Answer Here."
      ],
      "metadata": {
        "id": "HO4K0gP5y3B4"
      }
    },
    {
      "cell_type": "markdown",
      "source": [
        "### Hypothetical Statement - 2"
      ],
      "metadata": {
        "id": "4_0_7-oCpUZd"
      }
    },
    {
      "cell_type": "markdown",
      "source": [
        "#### 1. State Your research hypothesis as a null hypothesis and alternate hypothesis."
      ],
      "metadata": {
        "id": "hwyV_J3ipUZe"
      }
    },
    {
      "cell_type": "markdown",
      "source": [
        "Answer Here."
      ],
      "metadata": {
        "id": "FnpLGJ-4pUZe"
      }
    },
    {
      "cell_type": "markdown",
      "source": [
        "#### 2. Perform an appropriate statistical test."
      ],
      "metadata": {
        "id": "3yB-zSqbpUZe"
      }
    },
    {
      "cell_type": "code",
      "source": [
        "# Perform Statistical Test to obtain P-Value"
      ],
      "metadata": {
        "id": "sWxdNTXNpUZe"
      },
      "execution_count": null,
      "outputs": []
    },
    {
      "cell_type": "markdown",
      "source": [
        "##### Which statistical test have you done to obtain P-Value?"
      ],
      "metadata": {
        "id": "dEUvejAfpUZe"
      }
    },
    {
      "cell_type": "markdown",
      "source": [
        "Answer Here."
      ],
      "metadata": {
        "id": "oLDrPz7HpUZf"
      }
    },
    {
      "cell_type": "markdown",
      "source": [
        "##### Why did you choose the specific statistical test?"
      ],
      "metadata": {
        "id": "Fd15vwWVpUZf"
      }
    },
    {
      "cell_type": "markdown",
      "source": [
        "Answer Here."
      ],
      "metadata": {
        "id": "4xOGYyiBpUZf"
      }
    },
    {
      "cell_type": "markdown",
      "source": [
        "### Hypothetical Statement - 3"
      ],
      "metadata": {
        "id": "bn_IUdTipZyH"
      }
    },
    {
      "cell_type": "markdown",
      "source": [
        "#### 1. State Your research hypothesis as a null hypothesis and alternate hypothesis."
      ],
      "metadata": {
        "id": "49K5P_iCpZyH"
      }
    },
    {
      "cell_type": "markdown",
      "source": [
        "Answer Here."
      ],
      "metadata": {
        "id": "7gWI5rT9pZyH"
      }
    },
    {
      "cell_type": "markdown",
      "source": [
        "#### 2. Perform an appropriate statistical test."
      ],
      "metadata": {
        "id": "Nff-vKELpZyI"
      }
    },
    {
      "cell_type": "code",
      "source": [
        "# Perform Statistical Test to obtain P-Value"
      ],
      "metadata": {
        "id": "s6AnJQjtpZyI"
      },
      "execution_count": null,
      "outputs": []
    },
    {
      "cell_type": "markdown",
      "source": [
        "##### Which statistical test have you done to obtain P-Value?"
      ],
      "metadata": {
        "id": "kLW572S8pZyI"
      }
    },
    {
      "cell_type": "markdown",
      "source": [
        "Answer Here."
      ],
      "metadata": {
        "id": "ytWJ8v15pZyI"
      }
    },
    {
      "cell_type": "markdown",
      "source": [
        "##### Why did you choose the specific statistical test?"
      ],
      "metadata": {
        "id": "dWbDXHzopZyI"
      }
    },
    {
      "cell_type": "markdown",
      "source": [
        "Answer Here."
      ],
      "metadata": {
        "id": "M99G98V6pZyI"
      }
    },
    {
      "cell_type": "markdown",
      "source": [
        "## ***6. Feature Engineering & Data Pre-processing***"
      ],
      "metadata": {
        "id": "yLjJCtPM0KBk"
      }
    },
    {
      "cell_type": "markdown",
      "source": [
        "### 1. Handling Missing Values"
      ],
      "metadata": {
        "id": "xiyOF9F70UgQ"
      }
    },
    {
      "cell_type": "code",
      "source": [
        "# Handling Missing Values & Missing Value Imputation"
      ],
      "metadata": {
        "id": "iRsAHk1K0fpS"
      },
      "execution_count": null,
      "outputs": []
    },
    {
      "cell_type": "markdown",
      "source": [
        "#### What all missing value imputation techniques have you used and why did you use those techniques?"
      ],
      "metadata": {
        "id": "7wuGOrhz0itI"
      }
    },
    {
      "cell_type": "markdown",
      "source": [
        "Answer Here."
      ],
      "metadata": {
        "id": "1ixusLtI0pqI"
      }
    },
    {
      "cell_type": "markdown",
      "source": [
        "### 2. Handling Outliers"
      ],
      "metadata": {
        "id": "id1riN9m0vUs"
      }
    },
    {
      "cell_type": "code",
      "source": [
        "# Handling Outliers & Outlier treatments"
      ],
      "metadata": {
        "id": "M6w2CzZf04JK"
      },
      "execution_count": null,
      "outputs": []
    },
    {
      "cell_type": "markdown",
      "source": [
        "##### What all outlier treatment techniques have you used and why did you use those techniques?"
      ],
      "metadata": {
        "id": "578E2V7j08f6"
      }
    },
    {
      "cell_type": "markdown",
      "source": [
        "Answer Here."
      ],
      "metadata": {
        "id": "uGZz5OrT1HH-"
      }
    },
    {
      "cell_type": "markdown",
      "source": [
        "### 3. Categorical Encoding"
      ],
      "metadata": {
        "id": "89xtkJwZ18nB"
      }
    },
    {
      "cell_type": "code",
      "source": [
        "# Encode your categorical columns"
      ],
      "metadata": {
        "id": "21JmIYMG2hEo"
      },
      "execution_count": null,
      "outputs": []
    },
    {
      "cell_type": "markdown",
      "source": [
        "#### What all categorical encoding techniques have you used & why did you use those techniques?"
      ],
      "metadata": {
        "id": "67NQN5KX2AMe"
      }
    },
    {
      "cell_type": "markdown",
      "source": [
        "Answer Here."
      ],
      "metadata": {
        "id": "UDaue5h32n_G"
      }
    },
    {
      "cell_type": "markdown",
      "source": [
        "### 4. Textual Data Preprocessing\n",
        "(It's mandatory for textual dataset i.e., NLP, Sentiment Analysis, Text Clustering etc.)"
      ],
      "metadata": {
        "id": "Iwf50b-R2tYG"
      }
    },
    {
      "cell_type": "markdown",
      "source": [
        "#### 1. Expand Contraction"
      ],
      "metadata": {
        "id": "GMQiZwjn3iu7"
      }
    },
    {
      "cell_type": "code",
      "source": [
        "# Expand Contraction"
      ],
      "metadata": {
        "id": "PTouz10C3oNN"
      },
      "execution_count": null,
      "outputs": []
    },
    {
      "cell_type": "markdown",
      "source": [
        "#### 2. Lower Casing"
      ],
      "metadata": {
        "id": "WVIkgGqN3qsr"
      }
    },
    {
      "cell_type": "code",
      "source": [
        "# Lower Casing"
      ],
      "metadata": {
        "id": "88JnJ1jN3w7j"
      },
      "execution_count": null,
      "outputs": []
    },
    {
      "cell_type": "markdown",
      "source": [
        "#### 3. Removing Punctuations"
      ],
      "metadata": {
        "id": "XkPnILGE3zoT"
      }
    },
    {
      "cell_type": "code",
      "source": [
        "# Remove Punctuations"
      ],
      "metadata": {
        "id": "vqbBqNaA33c0"
      },
      "execution_count": null,
      "outputs": []
    },
    {
      "cell_type": "markdown",
      "source": [
        "#### 4. Removing URLs & Removing words and digits contain digits."
      ],
      "metadata": {
        "id": "Hlsf0x5436Go"
      }
    },
    {
      "cell_type": "code",
      "source": [
        "# Remove URLs & Remove words and digits contain digits"
      ],
      "metadata": {
        "id": "2sxKgKxu4Ip3"
      },
      "execution_count": null,
      "outputs": []
    },
    {
      "cell_type": "markdown",
      "source": [
        "#### 5. Removing Stopwords & Removing White spaces"
      ],
      "metadata": {
        "id": "mT9DMSJo4nBL"
      }
    },
    {
      "cell_type": "code",
      "source": [
        "# Remove Stopwords"
      ],
      "metadata": {
        "id": "T2LSJh154s8W"
      },
      "execution_count": null,
      "outputs": []
    },
    {
      "cell_type": "code",
      "source": [
        "# Remove White spaces"
      ],
      "metadata": {
        "id": "EgLJGffy4vm0"
      },
      "execution_count": null,
      "outputs": []
    },
    {
      "cell_type": "markdown",
      "source": [
        "#### 6. Rephrase Text"
      ],
      "metadata": {
        "id": "c49ITxTc407N"
      }
    },
    {
      "cell_type": "code",
      "source": [
        "# Rephrase Text"
      ],
      "metadata": {
        "id": "foqY80Qu48N2"
      },
      "execution_count": null,
      "outputs": []
    },
    {
      "cell_type": "markdown",
      "source": [
        "#### 7. Tokenization"
      ],
      "metadata": {
        "id": "OeJFEK0N496M"
      }
    },
    {
      "cell_type": "code",
      "source": [
        "# Tokenization"
      ],
      "metadata": {
        "id": "ijx1rUOS5CUU"
      },
      "execution_count": null,
      "outputs": []
    },
    {
      "cell_type": "markdown",
      "source": [
        "#### 8. Text Normalization"
      ],
      "metadata": {
        "id": "9ExmJH0g5HBk"
      }
    },
    {
      "cell_type": "code",
      "source": [
        "# Normalizing Text (i.e., Stemming, Lemmatization etc.)"
      ],
      "metadata": {
        "id": "AIJ1a-Zc5PY8"
      },
      "execution_count": null,
      "outputs": []
    },
    {
      "cell_type": "markdown",
      "source": [
        "##### Which text normalization technique have you used and why?"
      ],
      "metadata": {
        "id": "cJNqERVU536h"
      }
    },
    {
      "cell_type": "markdown",
      "source": [
        "Answer Here."
      ],
      "metadata": {
        "id": "Z9jKVxE06BC1"
      }
    },
    {
      "cell_type": "markdown",
      "source": [
        "#### 9. Part of speech tagging"
      ],
      "metadata": {
        "id": "k5UmGsbsOxih"
      }
    },
    {
      "cell_type": "code",
      "source": [
        "# POS Taging"
      ],
      "metadata": {
        "id": "btT3ZJBAO6Ik"
      },
      "execution_count": null,
      "outputs": []
    },
    {
      "cell_type": "markdown",
      "source": [
        "#### 10. Text Vectorization"
      ],
      "metadata": {
        "id": "T0VqWOYE6DLQ"
      }
    },
    {
      "cell_type": "code",
      "source": [
        "# Vectorizing Text"
      ],
      "metadata": {
        "id": "yBRtdhth6JDE"
      },
      "execution_count": null,
      "outputs": []
    },
    {
      "cell_type": "markdown",
      "source": [
        "##### Which text vectorization technique have you used and why?"
      ],
      "metadata": {
        "id": "qBMux9mC6MCf"
      }
    },
    {
      "cell_type": "markdown",
      "source": [
        "Answer Here."
      ],
      "metadata": {
        "id": "su2EnbCh6UKQ"
      }
    },
    {
      "cell_type": "markdown",
      "source": [
        "### 4. Feature Manipulation & Selection"
      ],
      "metadata": {
        "id": "-oLEiFgy-5Pf"
      }
    },
    {
      "cell_type": "markdown",
      "source": [
        "#### 1. Feature Manipulation"
      ],
      "metadata": {
        "id": "C74aWNz2AliB"
      }
    },
    {
      "cell_type": "code",
      "source": [
        "# Manipulate Features to minimize feature correlation and create new features"
      ],
      "metadata": {
        "id": "h1qC4yhBApWC"
      },
      "execution_count": null,
      "outputs": []
    },
    {
      "cell_type": "markdown",
      "source": [
        "#### 2. Feature Selection"
      ],
      "metadata": {
        "id": "2DejudWSA-a0"
      }
    },
    {
      "cell_type": "code",
      "source": [
        "# Select your features wisely to avoid overfitting"
      ],
      "metadata": {
        "id": "YLhe8UmaBCEE"
      },
      "execution_count": null,
      "outputs": []
    },
    {
      "cell_type": "markdown",
      "source": [
        "##### What all feature selection methods have you used  and why?"
      ],
      "metadata": {
        "id": "pEMng2IbBLp7"
      }
    },
    {
      "cell_type": "markdown",
      "source": [
        "Answer Here."
      ],
      "metadata": {
        "id": "rb2Lh6Z8BgGs"
      }
    },
    {
      "cell_type": "markdown",
      "source": [
        "##### Which all features you found important and why?"
      ],
      "metadata": {
        "id": "rAdphbQ9Bhjc"
      }
    },
    {
      "cell_type": "markdown",
      "source": [
        "Answer Here."
      ],
      "metadata": {
        "id": "fGgaEstsBnaf"
      }
    },
    {
      "cell_type": "markdown",
      "source": [
        "### 5. Data Transformation"
      ],
      "metadata": {
        "id": "TNVZ9zx19K6k"
      }
    },
    {
      "cell_type": "markdown",
      "source": [
        "#### Do you think that your data needs to be transformed? If yes, which transformation have you used. Explain Why?"
      ],
      "metadata": {
        "id": "nqoHp30x9hH9"
      }
    },
    {
      "cell_type": "code",
      "source": [
        "# Transform Your data"
      ],
      "metadata": {
        "id": "I6quWQ1T9rtH"
      },
      "execution_count": null,
      "outputs": []
    },
    {
      "cell_type": "markdown",
      "source": [
        "### 6. Data Scaling"
      ],
      "metadata": {
        "id": "rMDnDkt2B6du"
      }
    },
    {
      "cell_type": "code",
      "source": [
        "# Scaling your data"
      ],
      "metadata": {
        "id": "dL9LWpySC6x_"
      },
      "execution_count": null,
      "outputs": []
    },
    {
      "cell_type": "markdown",
      "source": [
        "##### Which method have you used to scale you data and why?"
      ],
      "metadata": {
        "id": "yiiVWRdJDDil"
      }
    },
    {
      "cell_type": "markdown",
      "source": [
        "### 7. Dimesionality Reduction"
      ],
      "metadata": {
        "id": "1UUpS68QDMuG"
      }
    },
    {
      "cell_type": "markdown",
      "source": [
        "##### Do you think that dimensionality reduction is needed? Explain Why?"
      ],
      "metadata": {
        "id": "kexQrXU-DjzY"
      }
    },
    {
      "cell_type": "markdown",
      "source": [
        "Answer Here."
      ],
      "metadata": {
        "id": "GGRlBsSGDtTQ"
      }
    },
    {
      "cell_type": "code",
      "source": [
        "# DImensionality Reduction (If needed)"
      ],
      "metadata": {
        "id": "kQfvxBBHDvCa"
      },
      "execution_count": null,
      "outputs": []
    },
    {
      "cell_type": "markdown",
      "source": [
        "##### Which dimensionality reduction technique have you used and why? (If dimensionality reduction done on dataset.)"
      ],
      "metadata": {
        "id": "T5CmagL3EC8N"
      }
    },
    {
      "cell_type": "markdown",
      "source": [
        "Answer Here."
      ],
      "metadata": {
        "id": "ZKr75IDuEM7t"
      }
    },
    {
      "cell_type": "markdown",
      "source": [
        "### 8. Data Splitting"
      ],
      "metadata": {
        "id": "BhH2vgX9EjGr"
      }
    },
    {
      "cell_type": "code",
      "source": [
        "# Split your data to train and test. Choose Splitting ratio wisely."
      ],
      "metadata": {
        "id": "0CTyd2UwEyNM"
      },
      "execution_count": null,
      "outputs": []
    },
    {
      "cell_type": "markdown",
      "source": [
        "##### What data splitting ratio have you used and why?"
      ],
      "metadata": {
        "id": "qjKvONjwE8ra"
      }
    },
    {
      "cell_type": "markdown",
      "source": [
        "Answer Here."
      ],
      "metadata": {
        "id": "Y2lJ8cobFDb_"
      }
    },
    {
      "cell_type": "markdown",
      "source": [
        "### 9. Handling Imbalanced Dataset"
      ],
      "metadata": {
        "id": "P1XJ9OREExlT"
      }
    },
    {
      "cell_type": "markdown",
      "source": [
        "##### Do you think the dataset is imbalanced? Explain Why."
      ],
      "metadata": {
        "id": "VFOzZv6IFROw"
      }
    },
    {
      "cell_type": "markdown",
      "source": [
        "Answer Here."
      ],
      "metadata": {
        "id": "GeKDIv7pFgcC"
      }
    },
    {
      "cell_type": "code",
      "source": [
        "# Handling Imbalanced Dataset (If needed)"
      ],
      "metadata": {
        "id": "nQsRhhZLFiDs"
      },
      "execution_count": null,
      "outputs": []
    },
    {
      "cell_type": "markdown",
      "source": [
        "##### What technique did you use to handle the imbalance dataset and why? (If needed to be balanced)"
      ],
      "metadata": {
        "id": "TIqpNgepFxVj"
      }
    },
    {
      "cell_type": "markdown",
      "source": [
        "Answer Here."
      ],
      "metadata": {
        "id": "qbet1HwdGDTz"
      }
    },
    {
      "cell_type": "markdown",
      "source": [
        "## ***7. ML Model Implementation***"
      ],
      "metadata": {
        "id": "VfCC591jGiD4"
      }
    },
    {
      "cell_type": "markdown",
      "source": [
        "### ML Model - 1"
      ],
      "metadata": {
        "id": "OB4l2ZhMeS1U"
      }
    },
    {
      "cell_type": "code",
      "source": [
        "# ML Model - 1 Implementation\n",
        "\n",
        "# Fit the Algorithm\n",
        "\n",
        "# Predict on the model"
      ],
      "metadata": {
        "id": "7ebyywQieS1U"
      },
      "execution_count": null,
      "outputs": []
    },
    {
      "cell_type": "markdown",
      "source": [
        "#### 1. Explain the ML Model used and it's performance using Evaluation metric Score Chart."
      ],
      "metadata": {
        "id": "ArJBuiUVfxKd"
      }
    },
    {
      "cell_type": "code",
      "source": [
        "# Visualizing evaluation Metric Score chart"
      ],
      "metadata": {
        "id": "rqD5ZohzfxKe"
      },
      "execution_count": null,
      "outputs": []
    },
    {
      "cell_type": "markdown",
      "source": [
        "#### 2. Cross- Validation & Hyperparameter Tuning"
      ],
      "metadata": {
        "id": "4qY1EAkEfxKe"
      }
    },
    {
      "cell_type": "code",
      "source": [
        "# ML Model - 1 Implementation with hyperparameter optimization techniques (i.e., GridSearch CV, RandomSearch CV, Bayesian Optimization etc.)\n",
        "\n",
        "# Fit the Algorithm\n",
        "\n",
        "# Predict on the model"
      ],
      "metadata": {
        "id": "Dy61ujd6fxKe"
      },
      "execution_count": null,
      "outputs": []
    },
    {
      "cell_type": "markdown",
      "source": [
        "##### Which hyperparameter optimization technique have you used and why?"
      ],
      "metadata": {
        "id": "PiV4Ypx8fxKe"
      }
    },
    {
      "cell_type": "markdown",
      "source": [
        "Answer Here."
      ],
      "metadata": {
        "id": "negyGRa7fxKf"
      }
    },
    {
      "cell_type": "markdown",
      "source": [
        "##### Have you seen any improvement? Note down the improvement with updates Evaluation metric Score Chart."
      ],
      "metadata": {
        "id": "TfvqoZmBfxKf"
      }
    },
    {
      "cell_type": "markdown",
      "source": [
        "Answer Here."
      ],
      "metadata": {
        "id": "OaLui8CcfxKf"
      }
    },
    {
      "cell_type": "markdown",
      "source": [
        "### ML Model - 2"
      ],
      "metadata": {
        "id": "dJ2tPlVmpsJ0"
      }
    },
    {
      "cell_type": "markdown",
      "source": [
        "#### 1. Explain the ML Model used and it's performance using Evaluation metric Score Chart."
      ],
      "metadata": {
        "id": "JWYfwnehpsJ1"
      }
    },
    {
      "cell_type": "code",
      "source": [
        "# Visualizing evaluation Metric Score chart"
      ],
      "metadata": {
        "id": "yEl-hgQWpsJ1"
      },
      "execution_count": null,
      "outputs": []
    },
    {
      "cell_type": "markdown",
      "source": [
        "#### 2. Cross- Validation & Hyperparameter Tuning"
      ],
      "metadata": {
        "id": "-jK_YjpMpsJ2"
      }
    },
    {
      "cell_type": "code",
      "source": [
        "# ML Model - 1 Implementation with hyperparameter optimization techniques (i.e., GridSearch CV, RandomSearch CV, Bayesian Optimization etc.)\n",
        "\n",
        "# Fit the Algorithm\n",
        "\n",
        "# Predict on the model"
      ],
      "metadata": {
        "id": "Dn0EOfS6psJ2"
      },
      "execution_count": null,
      "outputs": []
    },
    {
      "cell_type": "markdown",
      "source": [
        "##### Which hyperparameter optimization technique have you used and why?"
      ],
      "metadata": {
        "id": "HAih1iBOpsJ2"
      }
    },
    {
      "cell_type": "markdown",
      "source": [
        "Answer Here."
      ],
      "metadata": {
        "id": "9kBgjYcdpsJ2"
      }
    },
    {
      "cell_type": "markdown",
      "source": [
        "##### Have you seen any improvement? Note down the improvement with updates Evaluation metric Score Chart."
      ],
      "metadata": {
        "id": "zVGeBEFhpsJ2"
      }
    },
    {
      "cell_type": "markdown",
      "source": [
        "Answer Here."
      ],
      "metadata": {
        "id": "74yRdG6UpsJ3"
      }
    },
    {
      "cell_type": "markdown",
      "source": [
        "#### 3. Explain each evaluation metric's indication towards business and the business impact pf the ML model used."
      ],
      "metadata": {
        "id": "bmKjuQ-FpsJ3"
      }
    },
    {
      "cell_type": "markdown",
      "source": [
        "Answer Here."
      ],
      "metadata": {
        "id": "BDKtOrBQpsJ3"
      }
    },
    {
      "cell_type": "markdown",
      "source": [
        "### ML Model - 3"
      ],
      "metadata": {
        "id": "Fze-IPXLpx6K"
      }
    },
    {
      "cell_type": "code",
      "source": [
        "# ML Model - 3 Implementation\n",
        "\n",
        "# Fit the Algorithm\n",
        "\n",
        "# Predict on the model"
      ],
      "metadata": {
        "id": "FFrSXAtrpx6M"
      },
      "execution_count": null,
      "outputs": []
    },
    {
      "cell_type": "markdown",
      "source": [
        "#### 1. Explain the ML Model used and it's performance using Evaluation metric Score Chart."
      ],
      "metadata": {
        "id": "7AN1z2sKpx6M"
      }
    },
    {
      "cell_type": "code",
      "source": [
        "# Visualizing evaluation Metric Score chart"
      ],
      "metadata": {
        "id": "xIY4lxxGpx6M"
      },
      "execution_count": null,
      "outputs": []
    },
    {
      "cell_type": "markdown",
      "source": [
        "#### 2. Cross- Validation & Hyperparameter Tuning"
      ],
      "metadata": {
        "id": "9PIHJqyupx6M"
      }
    },
    {
      "cell_type": "code",
      "source": [
        "# ML Model - 3 Implementation with hyperparameter optimization techniques (i.e., GridSearch CV, RandomSearch CV, Bayesian Optimization etc.)\n",
        "\n",
        "# Fit the Algorithm\n",
        "\n",
        "# Predict on the model"
      ],
      "metadata": {
        "id": "eSVXuaSKpx6M"
      },
      "execution_count": null,
      "outputs": []
    },
    {
      "cell_type": "markdown",
      "source": [
        "##### Which hyperparameter optimization technique have you used and why?"
      ],
      "metadata": {
        "id": "_-qAgymDpx6N"
      }
    },
    {
      "cell_type": "markdown",
      "source": [
        "Answer Here."
      ],
      "metadata": {
        "id": "lQMffxkwpx6N"
      }
    },
    {
      "cell_type": "markdown",
      "source": [
        "##### Have you seen any improvement? Note down the improvement with updates Evaluation metric Score Chart."
      ],
      "metadata": {
        "id": "Z-hykwinpx6N"
      }
    },
    {
      "cell_type": "markdown",
      "source": [
        "Answer Here."
      ],
      "metadata": {
        "id": "MzVzZC6opx6N"
      }
    },
    {
      "cell_type": "markdown",
      "source": [
        "### 1. Which Evaluation metrics did you consider for a positive business impact and why?"
      ],
      "metadata": {
        "id": "h_CCil-SKHpo"
      }
    },
    {
      "cell_type": "markdown",
      "source": [
        "Answer Here."
      ],
      "metadata": {
        "id": "jHVz9hHDKFms"
      }
    },
    {
      "cell_type": "markdown",
      "source": [
        "### 2. Which ML model did you choose from the above created models as your final prediction model and why?"
      ],
      "metadata": {
        "id": "cBFFvTBNJzUa"
      }
    },
    {
      "cell_type": "markdown",
      "source": [
        "Answer Here."
      ],
      "metadata": {
        "id": "6ksF5Q1LKTVm"
      }
    },
    {
      "cell_type": "markdown",
      "source": [
        "### 3. Explain the model which you have used and the feature importance using any model explainability tool?"
      ],
      "metadata": {
        "id": "HvGl1hHyA_VK"
      }
    },
    {
      "cell_type": "markdown",
      "source": [
        "Answer Here."
      ],
      "metadata": {
        "id": "YnvVTiIxBL-C"
      }
    },
    {
      "cell_type": "markdown",
      "source": [
        "## ***8.*** ***Future Work (Optional)***"
      ],
      "metadata": {
        "id": "EyNgTHvd2WFk"
      }
    },
    {
      "cell_type": "markdown",
      "source": [
        "### 1. Save the best performing ml model in a pickle file or joblib file format for deployment process.\n"
      ],
      "metadata": {
        "id": "KH5McJBi2d8v"
      }
    },
    {
      "cell_type": "code",
      "source": [
        "# Save the File"
      ],
      "metadata": {
        "id": "bQIANRl32f4J"
      },
      "execution_count": null,
      "outputs": []
    },
    {
      "cell_type": "markdown",
      "source": [
        "### 2. Again Load the saved model file and try to predict unseen data for a sanity check.\n"
      ],
      "metadata": {
        "id": "iW_Lq9qf2h6X"
      }
    },
    {
      "cell_type": "code",
      "source": [
        "# Load the File and predict unseen data."
      ],
      "metadata": {
        "id": "oEXk9ydD2nVC"
      },
      "execution_count": null,
      "outputs": []
    },
    {
      "cell_type": "markdown",
      "source": [
        "### ***Congrats! Your model is successfully created and ready for deployment on a live server for a real user interaction !!!***"
      ],
      "metadata": {
        "id": "-Kee-DAl2viO"
      }
    },
    {
      "cell_type": "markdown",
      "source": [
        "# **Conclusion**"
      ],
      "metadata": {
        "id": "gCX9965dhzqZ"
      }
    },
    {
      "cell_type": "markdown",
      "source": [
        "Write the conclusion here."
      ],
      "metadata": {
        "id": "Fjb1IsQkh3yE"
      }
    },
    {
      "cell_type": "markdown",
      "source": [
        "### ***Hurrah! You have successfully completed your Machine Learning Capstone Project !!!***"
      ],
      "metadata": {
        "id": "gIfDvo9L0UH2"
      }
    }
  ]
}